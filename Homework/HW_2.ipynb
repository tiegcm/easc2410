{
 "cells": [
  {
   "cell_type": "markdown",
   "metadata": {},
   "source": [
    "## Homework Assignment #2\n",
    "\n",
    "* Due on **Thursday, Feb-13-2020**\n",
    "* Please comment your code and send it to our TA Ms Hangyu Liu (hangyu@hku.hk)"
   ]
  },
  {
   "cell_type": "markdown",
   "metadata": {},
   "source": [
    "### 1. Step through a Python dictionary (40%)\n",
    "*  **Create a dictionary** named **planets**, with the terrestrial-planet names as the keys and the corresponding planet mass (in kg) as the values (HINT: Terrestrial planets include Mercury, Venus, Earth and Mars)\n",
    "* **Expand the dictionary** by adding the outer planets to the dictionary (HINT: Jupiter, Saturn, Uranus, Neptune, Pluto)\n",
    "* But someone doesn't like Pluto to be in the planet dictionary, so write one line of code to **remove Pluto** from your dictionary \n",
    "* Write a **for** loop to step through all the planets in your dictionary, and print out the mass of each planet, using the following format: \"*The planet X has mass Y kg.*\", *X* is the name of a planet and *Y* is the mass of that planet\n",
    "* Now using the **for** loop you've written, calculate the *Schwarzschild radius* ($R_s$) of each planet using their mass, following the equation $R_s = \\frac{2GM}{c^2}$, where $M$ is the mass of the planet, $G = 6.67408 \\times 10^{-11} m^3/kg\\cdot s^2$ is the gravitational constant, and $c = 3\\times 10^8$ m/s is the speed of light.\n",
    "* Write a code to find the **maximum** *Schwarzschild radius* of solar system planets.  \n",
    "\n",
    "You can find infomation about solar planets here: https://nssdc.gsfc.nasa.gov/planetary/factsheet/. In case you're interested in the idea behind a Schwarzschild radius, check out this: https://youtu.be/Q7E-KA-MYjc"
   ]
  },
  {
   "cell_type": "markdown",
   "metadata": {},
   "source": [
    "### 2. Program control (20%)\n",
    "\n",
    "* Write a Python program (use a **for** loop with **if** statements) that print all the numbers between 0 to 10 **except** 3 and 7\n",
    "* Write a Python program (use a **for** loop with **if** statements) that prints the type of each elements from the following list named **datalist**, **except** for booleans and integers:   \n",
    "**datalist** = [122 11.3 1+2j, True, 'electrons', (0,-1),[5,8],{\"class\":\"V\",\"grade\":\"A\"}]"
   ]
  },
  {
   "cell_type": "markdown",
   "metadata": {},
   "source": [
    "### 3. Functions  working with numbers (20%)\n",
    "\n",
    "* **Write a Python function** using the **for**-loop to sum all the numbers given in a list. \n",
    "* **Write a Python function** using the **while**-loop to multiply all the numbers given in a list. \n",
    "* Pass the sample list [7, -2, 1.5, 3.14] and print the results using a **main( )** function"
   ]
  },
  {
   "cell_type": "markdown",
   "metadata": {},
   "source": [
    "### 4. Use the math module (20%)\n",
    "\n",
    "* import the **math** module\n",
    "* **Write a Python function** to calculate the third side of a triangle $c = \\sqrt{a^2 + b^2 -2ab\\cos(\\theta)}$, where $a$ and $b$ are the length of two known sides of a triangle, $\\theta$ is the angle contained between sides $a$ and $b$. (see https://en.wikipedia.org/wiki/Law_of_cosines for more details). Use the function name **law_of_cosines($a$, $b$, $\\theta$)**, which takes three input parameters $a$, $b$ and $\\theta$.\n",
    "* write a main( ) program to call the function   \n",
    "\n",
    "Note: you need to use the **sqrt( )** and the **cos( )** function from the **math** module"
   ]
  },
  {
   "cell_type": "markdown",
   "metadata": {},
   "source": [
    "### [Extra credit] Find Perfect Numbers (20%)\n",
    "\n",
    "* **Write a Python function** to return the all divisors of an integer, output the divisors to a list.  For exmaple, the number 8 has four divisors: 1,2,4,8, you can store all the divisors to a list. (HINT: use the % operator to decide whether an integer is a divisor of a given number)\n",
    "* **Write another Python function** to return the sum of a given list of numbers\n",
    "* Then **Write a main() program** to print all the numbers within 1000 whose sum of divisors equal to the number itself\n",
    "* That's called a *perfect* number\n",
    "\n",
    "For example, the integer 6 has three divisors: [1, 2, 3], the sum of the divisors is 1 + 2 + 3 = 6, which makes 6 a perfect number! Find all the perfect numbers less than 1000"
   ]
  }
 ],
 "metadata": {
  "kernelspec": {
   "display_name": "Python 3",
   "language": "python",
   "name": "python3"
  },
  "language_info": {
   "codemirror_mode": {
    "name": "ipython",
    "version": 3
   },
   "file_extension": ".py",
   "mimetype": "text/x-python",
   "name": "python",
   "nbconvert_exporter": "python",
   "pygments_lexer": "ipython3",
   "version": "3.7.4"
  }
 },
 "nbformat": 4,
 "nbformat_minor": 2
}
