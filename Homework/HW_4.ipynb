{
 "cells": [
  {
   "cell_type": "markdown",
   "metadata": {},
   "source": [
    "# HW 4\n",
    "\n",
    "* Due on **Thursday, Mar-12-2020**\n",
    "* Please comment your code and send it to our TA Ms Hangyu Liu (hangyu@hku.hk) \n",
    "* Q&A: Forum in Moodle or email (binzh@hku.hk)"
   ]
  },
  {
   "cell_type": "markdown",
   "metadata": {},
   "source": [
    "### 1. Airline Routes (5 points)\n",
    "\n",
    "* Create a map of the world using the Mercator projection\n",
    "* Label you map with proper latitude and longitude labels\n",
    "* Fill your map with colors. There are other options for background colors: https://matplotlib.org/basemap/users/geography.html\n",
    "* Draw country boarders, and label three countries: China, Brazil and South Africa using the plt.text() function\n",
    "* Mark three cities in your map: Beijing, Sao Paulo and Johannesburg using the plt.text() function.\n",
    "* Draw the great circles connecting Beijing-SaoPaulo and Beijing-Johnnesburg using the **m.drawgreatcircle(lon1,lat1,lon2,lat2,linewidth=2)** command. Here (lon1, lat1) is the geographic coordinates of the first city, and (lon2, lat2) is the geographic coordinates of the second city \n",
    "* Calculate the distance between BJ-SaoPaulo and BJ-Johnnesburg using the **great_circle() function** given in the following code cell, annotate the distance of each great circle on you map using the plt.text() function."
   ]
  },
  {
   "cell_type": "code",
   "execution_count": null,
   "metadata": {},
   "outputs": [],
   "source": [
    "import numpy as np # import numpy\n",
    "import matplotlib.pyplot as plt # import pyplot\n",
    "from mpl_toolkits.basemap import Basemap # import basemap module using this syntax!\n",
    "\n",
    "def great_circle(lat_1,lon_1,lat_2,lon_2):\n",
    "    \"\"\"\n",
    "    This code calculates the distance between two spatial points on the Earth\n",
    "    INPUT: Point #1 (lat_1, lon_1) and Point #2 (lat_2, lon_2) in degrees\n",
    "    OUTPUT: Distance in km\n",
    "    Algorithm: Simple 3-D geometry calculation assuming the Earth is a perfect sphere\n",
    "    \"\"\"\n",
    "    # first we have to convert the latitudes to colatitudes:\n",
    "    colat_1,colat_2=90.-lat_1,90.-lat_2\n",
    "    # and alpha is the difference betwee the two longitudes\n",
    "    alpha=lon_2-lon_1\n",
    "    # Then lets make life easy on us and convert degrees to radians\n",
    "    colat_1,colat_2,alpha= np.radians(colat_1),np.radians(colat_2),np.radians(alpha)# continued line from above\n",
    "    # from spherical trig we know that:\n",
    "    cosa=np.cos(colat_1)*np.cos(colat_2)+np.sin(colat_1)*np.sin(colat_2)*np.cos(alpha)\n",
    "    # solve for a\n",
    "    a=np.arccos(cosa)# take the arc cosine of cosa\n",
    "    # remember to convert back to degrees!  \n",
    "    distance = a*6380 # distance in km\n",
    "    return distance\n",
    "\n",
    "# start your code here"
   ]
  },
  {
   "cell_type": "markdown",
   "metadata": {},
   "source": [
    "### 2. Recent Earthquakes (5 points)\n",
    "\n",
    "* Download the data file \"earthquake.csv\" and save it to your current directory where the ipynb book is (csv means \"comma separated values\", don't worry, it's just like txt files)\n",
    "* Load the data file into Python using the np.loadtxt() function, note that the data points are separated by \",\"\n",
    "* Each row represnts one earthquake; the column data goes as \"Latitude\", \"Longitude\", \"Depth\", \"Magnitude\"\n",
    "* Make two histgrams to show the distributions of the magnitudes and depth of all the earthquakes\n",
    "* Make a global map using the Mercator projection, color the continents as \"grey\" and set the alpha value equals to 0.2 (i.e., alpha = 0.2 in the m.fillcontinents() function)\n",
    "* Show the locations of the earthquakes on a global map using a global scale projection (your choice) using a scatter plot (or a bubble plot), color the continents with light grey use the *alpha* keyword.\n",
    "* Set the size of the bubbles based on the depths of each earthquake and the color of the bubbles using the magnitudes with the following rule: Red (magnitude>=7), Orange (6=<magnitude<7), Yellow (5=<magnitude<6), Green (magnitude<5)\n",
    "* Lable your figure properly and include a legend."
   ]
  },
  {
   "cell_type": "markdown",
   "metadata": {},
   "source": [
    "### 3. World GDP per capita versus life expectancy  (5 points)\n",
    "\n",
    "- Load the data file \"gdp_life.txt\" using the function genfromtxt(). Each row represents data for one country; while the column data goes as: GDP per capita, life expectancy, total population, and continent. The values in the file are separated using \"Tab\", so you need to specify the delimiter as \"\\t\". The first two rows are descriptive rather than data, so you could use a new keyward in the genfromtxt() function \"skip_header=2\" to skip the first two lines of the file (otherwise you get a row of \"nans\", or error). \n",
    "- Find the maximum GDP per capita and the maximum life expectancy, print out the results\n",
    "- Find the minimum GDP per capita and the minimin life expectancy, print out the results\n",
    "- Generate a histgram to show the distribution of life expectancy, what conclusion(s) would you make?\n",
    "- Generate a bubble plot to visualize the relationship between GDP per capita and life expectancy, set the size of the bubbles to be the population, adjust the xscale to be logarithm \n",
    "- The two largest bubbles corresponds to the two countries with the largest population, China and India. Annotate \"China\" and \"India\" in your figure use the text() function.\n",
    "- Label you figure properly\n",
    "- Color the bubbles based on the continents, e.g., Asian(red), Africa(green), Europe(yellow), North America(blue) "
   ]
  },
  {
   "cell_type": "markdown",
   "metadata": {},
   "source": [
    "### 4. Typhoon Mangkhut (5 points)\n",
    "\n",
    "* Download the data file \"mangkhut.txt\" to your current folder\n",
    "* Load the data file into Python using: the genfromtxt() function, using \"\\t\"(Tab) as the delimiter, and skip the first row (headers)\n",
    "* The column data goes as \"year\" \"month\" \"day\" \"hour\" \"latitude\" \"longitude\" \"pressure\" \"wind speed\" \"class\"\n",
    "* Plot both the pressure and wind speed as a function of **the lifetime** of the Typhoon (e.g., in hours) in the same figure, with two different y-axis. (Hint: use the \"day\" and \"hour\" information to construct a new array called \"lifetime\", which is basically the age of the Typhoon in hours)\n",
    "* Visualize the relationship between wind speed and pressure using a scatter plot. What do you get? Can you explain it?\n",
    "* Make a bubble plot to show the track of Hurrican Mangkhut, set the size of your bubbles to be the class of the Typhoon (you may need to scale it) and the color of the bubbles based on the speed of the Typhoon follow the rules: Red (speed>=100), Orange (60<=speed<100), Yellow (30<=speed<60), Green (otherwise)\n",
    "* Put on a local map with country boundaries together with your Typhoon track, choose appropriate map boundaries to make sure the track of Mangkhut is highlighted in the center of your map. What happened to the wind speed near the Luzon islands?\n",
    "* Calculate the **total distance** (in km) that Typhoon Mangkhut traveled and estimate the **average speed** of the center of the typhoon (Hint: break the Typhoon track into pieces and sum over all the great-circle distance, use the function given in Prob. 1)"
   ]
  }
 ],
 "metadata": {
  "kernelspec": {
   "display_name": "Python 3",
   "language": "python",
   "name": "python3"
  },
  "language_info": {
   "codemirror_mode": {
    "name": "ipython",
    "version": 3
   },
   "file_extension": ".py",
   "mimetype": "text/x-python",
   "name": "python",
   "nbconvert_exporter": "python",
   "pygments_lexer": "ipython3",
   "version": "3.7.4"
  }
 },
 "nbformat": 4,
 "nbformat_minor": 2
}
