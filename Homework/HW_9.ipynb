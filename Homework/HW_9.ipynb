{
 "cells": [
  {
   "cell_type": "markdown",
   "metadata": {},
   "source": [
    "## HW 9 2-D and 3-D visualizations"
   ]
  },
  {
   "cell_type": "markdown",
   "metadata": {},
   "source": [
    "### 1. Modeling gravity field\n",
    "\n",
    "Given a sphere with a radius $R$ (whose volume is ${{4\\pi}\\over{3}}R^3$) and a density $\\Delta \\rho$ buried at a dept $z$ from the surface of the Earth, the gravitational attraction of such a body is: \n",
    "\n",
    "$$g= {{4\\pi}\\over{3}} R^3 {{G   \\Delta \\rho}\\over{(h^2+z^2})},$$\n",
    "\n",
    "where $h$ is the horizontal distance from ground zero of the buried sphere. If the sphere is buried at the origin $(0,0,z)$ the horizontal distance $h$ is given by: \n",
    "\n",
    "$$ h=\\sqrt {x^2 + y^2}.$$\n",
    "\n",
    "$G$ is the universal gravitational constant, which is 6.67x 10$^{-11}$ Nm$^2$/kg$^2$, but let's use $G=1$ to simplify the calculations for now.\n",
    "\n",
    "So if we have multiple (total number $N$) buried spheres undergroud, each sphere is buried at a spatial location $(x_i,y_i,z_i)$, with a density $\\Delta\\rho_i$ and radius $R_i$, the total gravity attraction from these objects is a superposition of all the individual gravity:\n",
    "\n",
    "$$g_{total}(x,y)=\\sum_{i=1}^{N} {{4\\pi}\\over{3}} R_i^3 {{G   \\Delta \\rho_i}\\over{(x-x_i)^2 + (y-y_i)^2+z_i^2}},$$\n",
    "\n",
    "Using the above gravity formula to model the distribution of expected gravity attraction using 2-D visualization (in one figure):\n",
    "\n",
    "- Given a list of the information for buried spheres (\"gravity_objects.csv\"), the column data are:\n",
    "    - x_location ($x_i$),  y_location ($y_i$),  depth ($z_i$),  diff_rho ($\\Delta\\rho_i$), R ($R_i$)\n",
    "- generate a 2-D square mesh (xx,yy) with $150\\times 150$ grid points, with horizontal extension from -3 to 3 and vertical extension from -3 to 3\n",
    "- calculate $g_{total}(x,y)$ and plot the spatial distribution of $g_{total}(x,y)$ using the pcolor function using the mesh (xx,yy)\n",
    "- plot the locations of the spheres with $\\Delta\\rho_i<0$\n",
    "- find the zero-potential contours and label them in the figure"
   ]
  },
  {
   "cell_type": "markdown",
   "metadata": {},
   "source": [
    "### 2. Spherical Harmonic Functions\n",
    "\n",
    "In mathematics and physical science, spherical harmonics are special functions defined on the surface of a sphere. Spherical harmonics are important in many theoretical and practical applications, e.g., in Earth Sciences, they are used extensively in representating gravitational fields, geoids and geomagnetic fields  (the IGRF is basically a bunch of spherical harmonic functions!). The 3-D distributions of spherical harmonic functions can be found here, for example: https://mathworld.wolfram.com/SphericalHarmonic.html. Now let's try generate some 3-D shapes of spherical harmonic functions using Axes3D. \n",
    "\n",
    "To generate 3-D spherical harmonic functions, you will be working with two coordinate systems: Cartesian $(x,y,z)$ and Spherical $(r,\\theta,\\phi)$. Here $\\theta$ is the latitude (from 0 to $\\pi$) and $\\phi$ is the longitude (from 0 to $2\\pi$). The relationship between the two coordinate system is written as:\n",
    "\n",
    "$$x = r\\sin\\theta\\cos\\phi$$\n",
    "$$y = r\\sin\\theta\\sin\\phi$$\n",
    "$$z = r\\cos\\theta\\:\\:\\:\\:\\:\\:\\:\\:$$\n",
    "\n",
    "so once we know $(r,\\theta,\\phi)$, we can convert the location to $(x,y,z)$ using the above equation since Axes3D works only in Cartesian geometry. \n",
    "\n",
    "- Let's visualize the simplest spherical harmonic function: $Y_{1,0}=\\sqrt{\\frac{3}{4\\pi}}\\cos\\theta$:\n",
    "    * generate a 2-D mesh of ($\\phi$,$\\theta$) with $100\\times 200$ points using numpy's meshgrid() function\n",
    "    * compute the spherical function $\\sqrt{\\frac{3}{4\\pi}}\\cos\\theta$ and, say assign the values to a new array named $Y$\n",
    "    * convert the spherical coordinates $(r,\\theta,\\phi)$ back to $(x,y,z)$ so that the plot_surface() function can be used to draw the surface. Here $\\theta$, $\\phi$ are the 2-D mesh (arrays), and $r$ is assigned to be $|Y|$. In other words, you're mapping $(|Y|,\\theta,\\phi)$ back to $(x,y,z)$\n",
    "    * use plot_surface() to generate the shape of the spherical harmonic function $Y_{1,0}$ using $|Y|$ as the z-value in the function input. The trick here is that if $|Y|=1$, then you get a surface; other wise $|Y|$ varies as a function of $(\\theta,\\phi)$, and the shape of the 3-D surface changes accordingly.\n",
    "    * label your figure properly\n",
    "- Generate another three spherical harmonic functions:\n",
    "$$Y_{1,2}=\\frac{1}{2}\\sqrt{\\frac{15}{\\pi}}\\cos\\theta\\sin\\theta\\cos\\phi\\:\\:\\:\\:\\:\\:\\:\\:\\:\\:\\:\\:\\:\\:\\:\\:\\:\\:\\:\\:\\:\\:\\:\\:\\:\\:\\:\\:\\:\\:\\:\\:\\:\\:\\:\\:$$\n",
    "$$Y_{2,3}=\\frac{1}{2}\\sqrt{\\frac{105}{\\pi}}\\sin^2\\theta\\cos\\theta\\sin\\phi\\cos\\phi\\:\\:\\:\\:\\:\\:\\:\\:\\:\\:\\:\\:\\:\\:\\:\\:\\:\\:\\:\\:\\:\\:\\:$$\n",
    "$$Y_{2,4}=\\frac{3}{8}\\sqrt{\\frac{5}{\\pi}}\\sin^2\\theta\\left(7\\cos^2\\theta-1\\right)\\left(\\cos^2\\phi-\\sin^2\\phi\\right)$$"
   ]
  },
  {
   "cell_type": "markdown",
   "metadata": {},
   "source": [
    "### 3. Geoid [Optional, extra 25% grade] \n",
    "\n",
    "The data file EGM96 model shows the geopotential elevation of the Earth's surface based on gravity measurements. The first, second and third column of the \"nt01deg.ast\" file (you can regard it as a csv file) are the latitude, longitude and corresponding elevation, respectively. Using the elevation data in this dataset, try the following things:\n",
    "- show the coast lines in a 2-D figure\n",
    "- visualize the surface of the earth in a 3-D figure\n",
    "\n",
    "**[hint]**: the lat, lon and elevation data columns are all 1-D arrays, while 2-D and 3-D analyses using matplotlib require 2-D arrays for all the variables. There are multiple ways to proceed, one method is to use scipy's griddata function (you need to do a little bit research on \"data gridding/interpolation\" using the griddata() function) to convert a list of 1-D elevation data into a 2-D array with a new mesh."
   ]
  }
 ],
 "metadata": {
  "kernelspec": {
   "display_name": "Python 3",
   "language": "python",
   "name": "python3"
  },
  "language_info": {
   "codemirror_mode": {
    "name": "ipython",
    "version": 3
   },
   "file_extension": ".py",
   "mimetype": "text/x-python",
   "name": "python",
   "nbconvert_exporter": "python",
   "pygments_lexer": "ipython3",
   "version": "3.7.4"
  }
 },
 "nbformat": 4,
 "nbformat_minor": 2
}
