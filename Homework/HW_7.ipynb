{
 "cells": [
  {
   "cell_type": "markdown",
   "metadata": {},
   "source": [
    "# HW 7 The Pandemic data Analysis"
   ]
  },
  {
   "cell_type": "markdown",
   "metadata": {},
   "source": [
    "### 1. The growth of the coronavirus cases\n",
    "\n",
    "- use the 'total-and-daily-cases-covid-19.csv' data file (you can either use the one given in Moodle or download the most up-to-date version from https://ourworldindata.org/coronavirus) to show:\n",
    "   * the total confirmed cases as a function of time in countries with total cases greater than 8k\n",
    "   * the daily new cases as a function of time in countries with total cases greater than 8k\n",
    "   * label you axis and include a legend"
   ]
  },
  {
   "cell_type": "code",
   "execution_count": 1,
   "metadata": {},
   "outputs": [
    {
     "data": {
      "text/html": [
       "<div>\n",
       "<style scoped>\n",
       "    .dataframe tbody tr th:only-of-type {\n",
       "        vertical-align: middle;\n",
       "    }\n",
       "\n",
       "    .dataframe tbody tr th {\n",
       "        vertical-align: top;\n",
       "    }\n",
       "\n",
       "    .dataframe thead th {\n",
       "        text-align: right;\n",
       "    }\n",
       "</style>\n",
       "<table border=\"1\" class=\"dataframe\">\n",
       "  <thead>\n",
       "    <tr style=\"text-align: right;\">\n",
       "      <th></th>\n",
       "      <th>Entity</th>\n",
       "      <th>Code</th>\n",
       "      <th>Date</th>\n",
       "      <th>Total confirmed cases (cases)</th>\n",
       "      <th>Daily new confirmed cases (cases)</th>\n",
       "    </tr>\n",
       "  </thead>\n",
       "  <tbody>\n",
       "    <tr>\n",
       "      <td>0</td>\n",
       "      <td>Afghanistan</td>\n",
       "      <td>AFG</td>\n",
       "      <td>Dec 31, 2019</td>\n",
       "      <td>0</td>\n",
       "      <td>0</td>\n",
       "    </tr>\n",
       "    <tr>\n",
       "      <td>1</td>\n",
       "      <td>Afghanistan</td>\n",
       "      <td>AFG</td>\n",
       "      <td>Jan 1, 2020</td>\n",
       "      <td>0</td>\n",
       "      <td>0</td>\n",
       "    </tr>\n",
       "    <tr>\n",
       "      <td>2</td>\n",
       "      <td>Afghanistan</td>\n",
       "      <td>AFG</td>\n",
       "      <td>Jan 2, 2020</td>\n",
       "      <td>0</td>\n",
       "      <td>0</td>\n",
       "    </tr>\n",
       "    <tr>\n",
       "      <td>3</td>\n",
       "      <td>Afghanistan</td>\n",
       "      <td>AFG</td>\n",
       "      <td>Jan 3, 2020</td>\n",
       "      <td>0</td>\n",
       "      <td>0</td>\n",
       "    </tr>\n",
       "    <tr>\n",
       "      <td>4</td>\n",
       "      <td>Afghanistan</td>\n",
       "      <td>AFG</td>\n",
       "      <td>Jan 4, 2020</td>\n",
       "      <td>0</td>\n",
       "      <td>0</td>\n",
       "    </tr>\n",
       "  </tbody>\n",
       "</table>\n",
       "</div>"
      ],
      "text/plain": [
       "        Entity Code          Date  Total confirmed cases (cases)  \\\n",
       "0  Afghanistan  AFG  Dec 31, 2019                              0   \n",
       "1  Afghanistan  AFG   Jan 1, 2020                              0   \n",
       "2  Afghanistan  AFG   Jan 2, 2020                              0   \n",
       "3  Afghanistan  AFG   Jan 3, 2020                              0   \n",
       "4  Afghanistan  AFG   Jan 4, 2020                              0   \n",
       "\n",
       "   Daily new confirmed cases (cases)  \n",
       "0                                  0  \n",
       "1                                  0  \n",
       "2                                  0  \n",
       "3                                  0  \n",
       "4                                  0  "
      ]
     },
     "execution_count": 1,
     "metadata": {},
     "output_type": "execute_result"
    }
   ],
   "source": [
    "import pandas as pd\n",
    "import numpy as np\n",
    "import matplotlib.pyplot as plt\n",
    "\n",
    "import warnings\n",
    "warnings.filterwarnings(\"ignore\")\n",
    "\n",
    "fn = '../Datasets/total-and-daily-cases-covid-19.csv' # file name\n",
    "df = pd.read_csv(fn) # load file into data frame\n",
    "df.head() # show the first 10 rows"
   ]
  },
  {
   "cell_type": "markdown",
   "metadata": {},
   "source": [
    "- when the situation is growth exponentially, the total cases $y$ can be described by the following function as a function of time $t$\n",
    "$$y = A_0e^{k\\cdot t},$$\n",
    "so in the exponential growth phase, the daily increases (daily new cases) $\\Delta y$ is proportional to y:\n",
    "$$\\Delta y = k\\cdot y\\cdot\\Delta t,$$\n",
    "where $\\Delta t$ is the time cadence which is constant (daily). So a good measurement of whether the situation is still under exponential growth or not is to look at the relationship between the daily new cases and total cases . Plot the daily new cases as a function of total confirmed cases for all the countries with cases greater than 8k using a logarithm scale for both axis. Can you tell which nation(s) may be still in an exponential growth phase? Which nation(s) is(are) definitely out of the exponential phase?"
   ]
  },
  {
   "cell_type": "markdown",
   "metadata": {},
   "source": [
    "### 2. The onset of the coronavirus outbreak \n",
    "\n",
    "The \"onset\" of the coronavirus outbreak is basically defined as the time when a substential amount of confirmed cases were found (after that situation goes exponentially for a while). Let's try visualize the onse of coronavirus outbreak using the same dataset.\n",
    "   * Use the data from Italy as an example, plot the growth of total confirmed cases as a function of time, starting from the time when the total number of cases is greater than 100. **Note:** In your plot, the horizontal axis should start from 0 - basically you're shifting the growth curve horizontally to have the \"onset\" day denoted as \"0\", i.e., day 0 is the time when total cases is greater than 100.\n",
    "   * Make the above plots for all the countries with total confirmed cases greater than 10k (including Japan). \n",
    "   * What do you find in your plot? Describe your results\n",
    "   * use logarithm scales for your plots"
   ]
  },
  {
   "cell_type": "markdown",
   "metadata": {},
   "source": [
    "### 3. Model the outbreak situation using a regression method\n",
    "\n",
    "An accurate prediction decribing the growth of a pandemic is a very complicated social, medical, physical and mathematical problem. One way to look at the evolution of the total cases is to use the curve fitting method as we've discussed in the lecutre notes. Statistically speaking, pandemics usually follow either the exponential curve (partially) or the so-called logistic curve. The exponential curve is defined as:\n",
    "$$f(t,a,b) = b\\cdot e^{a\\cdot t},$$\n",
    "where $t$ is time $a$ is the growth rate (R0 value), $b$ is the starting number. The logistic curve is defined as:\n",
    "$$f(t,a,b,c) = \\frac{c}{1+e^{-(t-b)/a}}, $$\n",
    "where where $t$ is time $a$ is the growth rate, $b$ is the time when maximum growth occur and $c$ is the capacity which is basically the final number of cases after the pandemic. Now let's use these function forms to make some predictions of the evolution of the pandemic.\n",
    "- use both the exponential and logistic functions to fit the total confirmed cases from the United States, plot the results in the same figure together with the data, use data starting from 2020-3-1 (day zero). \n",
    "- what are the \"predicted\" total cases in the United States at day 100 using two different regression functions (day 0 is 2020-3-1)? Which one is a relatively more reasonable prediction?\n",
    "- Fit the data from Japan and Thailand using a function that you think is reasonable. \n",
    "- [**Optional, extra credit 10%**] predict the final number of cases for all the countries with total number cases more than 10k up to 2020-4-1. What is the predicted total number of cases from these countries by the end of June? "
   ]
  }
 ],
 "metadata": {
  "kernelspec": {
   "display_name": "Python 3",
   "language": "python",
   "name": "python3"
  },
  "language_info": {
   "codemirror_mode": {
    "name": "ipython",
    "version": 3
   },
   "file_extension": ".py",
   "mimetype": "text/x-python",
   "name": "python",
   "nbconvert_exporter": "python",
   "pygments_lexer": "ipython3",
   "version": "3.7.4"
  }
 },
 "nbformat": 4,
 "nbformat_minor": 2
}
