{
 "cells": [
  {
   "cell_type": "markdown",
   "metadata": {},
   "source": [
    "## Homework Assignment #3\n",
    "\n",
    "* Due on **Wednesday, Feb-13-2019**\n",
    "* Please comment your code and send it to our TA Ms Hangyu Liu (hangyu@hku.hk) \n",
    "* Office hours: Hangyu (by appointment), Binzheng (Tuesday 2-4pm or by appointment)"
   ]
  },
  {
   "cell_type": "markdown",
   "metadata": {},
   "source": [
    "### 1. Roots of special (super) equations (20%)\n",
    "\n",
    "* import the **numpy** module\n",
    "* import the **matplotlib.pyplot** module\n",
    "* creat a 1-D numpy array **x**, starts from 0, stops at 30, with 500 data points\n",
    "* plot the curve of $\\sin(\\frac{x}{2})$ as a function of $x$ (which means you need to use the values of x as your horizontal axis)\n",
    "* now import the special functions module using **import scipy.special as sci**\n",
    "* in the same plot, plot the curve of the the functions $\\cos(\\frac{x}{2})J_0(x)$ as a function of $x$ (here $J_0(x)$ is the Bessel function we used in the class practice, use **sci.j0(x)** to access the function)\n",
    "* By looking at the plot, how many roots exist between x=0 and x=30 for the equation $\\sin(\\frac{x}{2})=\\cos(\\frac{x}{2})J_0(x)$? How many of them are negative?"
   ]
  },
  {
   "cell_type": "markdown",
   "metadata": {},
   "source": [
    "### 2. Mortgage payments  (25%)\n",
    "\n",
    "A mortgage is used either by purchasers of real property to raise funds to buy real estate, or alternatively by existing property owners to raise funds for any purpose, while putting a lien on the property being mortgaged . The monthly payment of a mortgage ($M$) is a function of the principal ($P$), the monthly interest rate ($r$) and the number of payments ($n$) in months, using the following equation:  $M = P\\frac{r(1+r)^n}{(1+r)^n-1}$   \n",
    "\n",
    "* Let's say we want a mortgate of HKD 5M, the monthly interest rate $r$ from one bank (Bank of Frogs) is defined as $r=\\frac{1}{12}(0.015+4.2373\\times10^{-5}\\times(n-6))$ (the faster you make your payment, the lower the interest rate), make a plot to show the monthly payment ($M$) as a function of number of payments ($n$). Note: for a typical mortgate, number of payments $n$ ranges from 6 months to 360 months, i.e., $6\\le n \\le 360$. \n",
    "* There are other two banks (Bank of Hogs and Bank of Dogs) have different monthly interest rate $r=\\frac{1}{12}(0.02+3.2373\\times10^{-5}\\times(n-6))$ and $r=\\frac{1}{12}(0.01+6.2373\\times10^{-5}\\times(n-6))$, make another two curves of $M$ as a function of $n$ in the same plot. Label your axis and put on a legend to show the comparisons\n",
    "* Make another plot showing the total payment $T$ (calculated as $T = n\\times M$) as a function of payments $n$ for all the three banks with different interest rates. Label your axis and put on a legend to show the comparison as well.  \n",
    "* How do you visualize the differences between these mortgage paymemnts (monthly and total) from the three different banks?\n",
    "\n",
    "Note: comment your codes and subplots are handy to make comparisons"
   ]
  },
  {
   "cell_type": "markdown",
   "metadata": {},
   "source": [
    "### 3.  Parametric Curves for CNY (25%)\n",
    "* use the subplot() function to create **two panels** (left and right)   \n",
    "\n",
    "</br> \n",
    "\n",
    "* For the **left panel**, first create a 1-D NumPy array named $t$ with 168 data points from 0 to $2\\pi$\n",
    "* then compute a new NumPy array **$x$** by calculating the following equation $x=16\\sin^3(t)$\n",
    "* then compute another new NumPy array **$y$** by calculating the following equation $y=13\\cos(t)-5cos(2t)-2cos(3t)-cos(4t)$\n",
    "* next plot the curve with $x$ the horizontal axis and $y$ the vertical axis. Use the axis('equal') function from pyplot as well.\n",
    "* fill your plot with red color using the fill() function (that is, fill(x, y)). What do you get?\n",
    "------------------------------------------------------------------------  \n",
    "* For the **right panel**, let $x=6\\cos(t)$ and $y=\\frac{4\\sin(t)}{1+0.3\\cos(t)}$\n",
    "* then plot the curve with $x$ the horizontal axis and $y$ the vertical axis. Use the axis('equal') function from pyplot.\n",
    "* fill your plot with green color using the fill() function. What do you get?"
   ]
  },
  {
   "cell_type": "markdown",
   "metadata": {},
   "source": [
    "### 4. Air Quality of Boulder CO  (30% + 20% extra)\n",
    "\n",
    "In the following code cell, you've already got a list named \"pm25_2018\", which is the daily PM2.5 data measured in Boulder Colorado for the whole of 2018. There is another list named \"days\" contains the day-of-year for each PM2.5 data points. Let's generate some plots to visualize the air quality of Boulder in 2018.\n",
    "\n",
    "* What's the maximum, minimum and mean PM2.5 value for Boulder Colorado in 2018?\n",
    "* How many days in Bounder with $PM2.5\\leq100$ in 2018? print the results. (HINT: booleans can be operated as integers)\n",
    "* How many days in Bounder with $50<PM2.5<100$ in 2018?\n",
    "* How many days in Bounder with $PM2.5\\le50$ in 2018?\n",
    "* Plot the PM2.5 data using a scatter plot, for days with PM2.5 <= 50, use green crosses, for days with  50 < PM2.5 < 100, use yellow pluses, for days with PM2.5 >= 100, use red circles. \n",
    "* Label your plots, adjust the axis as well.\n",
    "* [extra credit $10\\%$] Make a new plot, show the monthly averaged PM2.5 data as a function of each month\n",
    "* [extra credit $10\\%$] Remember the AQI plot of air quality in the first lecture, can you make a plot like that using the PM2.5 dataset given? "
   ]
  },
  {
   "cell_type": "code",
   "execution_count": 1,
   "metadata": {},
   "outputs": [],
   "source": [
    "days = [1,2,3,4,5,6,7,8,9,10,11,12,13,14,15,16,17,18,19,20,21,22,23,24,25,26,27,28,29,30,31,32,33,\n",
    "        34,35,36,37,38,39,40,41,42,43,44,45,46,47,48,49,50,51,52,53,54,55,56,57,58,59,60,61,62,63,\n",
    "        64,65,66,67,68,69,70,71,72,73,74,75,76,77,78,79,80,81,82,83,84,85,86,87,88,89,90,91,92,93,\n",
    "        94,95,96,97,98,99,100,101,102,103,104,105,106,107,108,109,110,111,112,113,114,115,116,117,\n",
    "        118,119,120,121,122,123,124,125,126,127,128,129,130,131,132,133,134,135,136,137,138,139,\n",
    "        140,141,142,143,144,145,146,147,148,149,150,151,152,153,154,155,156,157,158,159,160,161,\n",
    "        162,163,164,165,166,167,168,169,170,171,172,173,174,175,176,177,178,179,180,181,182,183,\n",
    "        184,185,186,187,188,189,190,191,192,193,194,195,196,197,198,199,200,201,202,203,204,205,\n",
    "        206,207,208,209,210,211,212,213,214,215,216,217,218,219,220,221,222,223,224,225,226,227,\n",
    "        228,229,230,231,232,233,234,235,236,237,238,239,240,241,242,243,244,245,246,247,248,249,\n",
    "        250,251,252,253,254,255,256,257,258,259,260,261,262,263,264,265,266,267,268,269,270,271,\n",
    "        272,273,274,275,276,277,278,279,280,281,282,283,284,285,286,287,288,289,290,291,292,293,\n",
    "        294,295,296,297,298,299,300,301,302,303,304,305,306,307,308,309,310,311,312,313,314,315,\n",
    "        316,317,318,319,320,321,322,323,324,325,326,327,328,329,330,331,332,333,334,335,336,337,\n",
    "        338,339,340,341,342,343,344,345,346,347,348,349,350,351,352,353,354,355,356,357,358,359,\n",
    "        360,361,362,363,364,365]\n",
    "\n",
    "pm25_2018=[53,54,55,55,31,24,38,47,45,27,17,14,17,33,46,50,45,37,28,23,35,84,51,9,19,20,17,12,14,\n",
    "           19,29,26,18,16,15,16,14,17,22,17,15,14,18,20,19,10,11,21,13,12,20,22,22,21,20,21,22,15,\n",
    "           13,23,21,21,29,22,17,21,18,17,23,27,28,19,17,20,25,29,32,29,28,30,45,47,39,24,22,28,20,\n",
    "           25,38,28,32,50,47,50,59,56,50,41,36,34,35,36,34,29,31,33,30,27,28,36,33,30,38,41,41,39,\n",
    "           43,46,40,36,34,37,35,30,26,25,26,35,41,44,36,34,36,38,50,70,63,57,51,50,49,48,52,52,47,\n",
    "           48,47,46,43,45,59,68,68,49,57,67,68,62,53,43,50,73,127,115,81,73,65,65,100,88,52,33,27,\n",
    "           30,39,44,44,34,26,20,19,24,35,38,39,39,40,37,28,26,27,32,30,32,44,36,28,24,23,26,36,34,\n",
    "           31,33,33,34,37,38,36,33,35,39,41,38,32,28,26,24,26,31,35,28,28,33,30,34,42,34,23,9,19,\n",
    "           25,24,25,24,23,16,13,17,15,19,34,47,49,32,25,24,30,28,26,27,27,27,29,31,32,27,27,32,43,\n",
    "           42,35,31,30,30,21,22,30,28,23,16,20,20,17,14,11,9,20,22,13,15,21,29,39,46,46,37,28,19,\n",
    "           21,25,29,35,38,35,35,31,16,25,41,51,53,52,51,43,29,12,8,10,11,23,41,35,24,11,24,38,54,\n",
    "           45,34,23,31,37,40,31,29,37,57,71,75,63,56,59,42,26,21,21,25,40,49,54,52,52,52,43,25,11,\n",
    "           29,29,22,18,26,37,36,35,33,31,25,17,21,35,56,44,33,21]\n",
    "\n",
    "# start you codes here: \n"
   ]
  }
 ],
 "metadata": {
  "kernelspec": {
   "display_name": "Python 3",
   "language": "python",
   "name": "python3"
  },
  "language_info": {
   "codemirror_mode": {
    "name": "ipython",
    "version": 3
   },
   "file_extension": ".py",
   "mimetype": "text/x-python",
   "name": "python",
   "nbconvert_exporter": "python",
   "pygments_lexer": "ipython3",
   "version": "3.7.4"
  }
 },
 "nbformat": 4,
 "nbformat_minor": 2
}
