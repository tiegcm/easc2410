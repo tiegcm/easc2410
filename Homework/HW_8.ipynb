{
 "cells": [
  {
   "cell_type": "markdown",
   "metadata": {},
   "source": [
    "## HW 8 Data Analysis and Modeling for the Pandemic"
   ]
  },
  {
   "cell_type": "markdown",
   "metadata": {},
   "source": [
    "### 1. The S-E-I-R Model for Infectious Disease\n",
    "\n",
    "The S-E-I-R model of epidemics has four populations:\n",
    "\n",
    "- S[n]: Susceptible, which means anyone in the gould could be exposed to the virus\n",
    "- E[n]: exposed, which means people get exposed but no symptoms yet (incubation)\n",
    "- I[n]: infected, which is the group of people who's already ill \n",
    "- R[n]: removed, which denotes people recovered from the illness and immuned (removed from all the populations)\n",
    "\n",
    "The parameters used in an S-E-I-R model include:\n",
    "\n",
    "- $\\lambda$: contact rate, which creates newly exposed through $\\lambda\\cdot I \\cdot S$\n",
    "- $\\sigma$: incubation rate, which creates new infection through $\\sigma\\cdot E$ and equals $1/T_{inc}$, where $T_{inc}$ is the incubation period\n",
    "- $\\gamma$: recovered rate, which removes $\\gamma\\cdot I$ from the infected population\n",
    "\n",
    "#### 1.a) Based on the discussions of the S-I-R model in the lecture notes, now extend the model to S-E-I-R by introducing a new population $E[n]$ with the parameter new $\\sigma$. First write down the reccurence relation for S, E, I and R;\n",
    "\n",
    "#### 1.b) Show that the total number of population in the S-E-I-R model does not change with time, e.g., S+E+I+R = constant;\n",
    "\n",
    "#### 1.c) Implement the S-E-I-R model using Python, and plot the S, E, I and R curves as a function of time (days) using the following two sets of parameters:\n",
    "- $\\lambda = 0.5$, $\\gamma = 0.08$, $T_{inc} = 4$ ($\\sigma = 1/T_{inc}$);\n",
    "- $\\lambda = 0.15$, $\\gamma = 0.22$, $T_{inc} = 12$ ($\\sigma = 1/T_{inc}$);\n",
    "\n",
    "Visualize the results and describe the difference you find in the model results.\n",
    "\n",
    "#### 1.d) Show the relationship between the incubation period $T_{inc}$ and the peak value of the infection curve $I[n]$, given $\\lambda = 0.5$, $\\gamma = 0.08$, e.g., you're generating a plot with $T_{inc}$ as the horizontal axis and peak value of $I[n]$ as the vertical axis."
   ]
  },
  {
   "cell_type": "markdown",
   "metadata": {},
   "source": [
    "### 2. Global maps for distribution of Covid-19 cases\n",
    "\n",
    "- Generate a choropleth map showing the number of infections per million population, choose your favorite colormap (the cmap option, see full documentatin here: https://matplotlib.org/tutorials/colors/colormaps.html)\n",
    "- Use the Geopandas dataframe to aggregate countries to continents, show the following two maps using colored based on: \n",
    "    - Total confirmed cases\n",
    "    - Cases per million population"
   ]
  },
  {
   "cell_type": "markdown",
   "metadata": {},
   "source": [
    "### 3. Maps of Hong Kong\n",
    "\n",
    "Now let's try generate a choropleth map showing distributions of quantitative data in a distric map of Hong Kong. Again choose your favorite colormap (use the cmap option, see full documentatin here: https://matplotlib.org/tutorials/colors/colormaps.html)\n",
    "\n",
    "The geospatial data file is \"Hong_Kong_18_Districts.geojson\", which contains geometric informations (shape functions in geojson) of the 18 district of Hong Kong. Similar to the \"world\" geopandas dataframe containing all the geometry information for the countries over the world. But unlike the \"world\" geopandas dataframe which is built in, this is an external geopandas data file, so you need to read it into Python using a geopandas function. Use the following geopandas code (pay attention to your file directory) to load the geometry information for geospatial plotting:\n",
    "\n",
    "    hk_map = gpd.read_file('Hong_Kong_18_Districts.geojson')\n",
    "\n",
    "After calling the .read_file( ) function, hk_map is a geopandas dataframe (similar to the \"world\" geopandas data frame you've worked on)\n",
    "\n",
    "- print out the .head() of the geopandas dataframe with geometry informations of the 18 Districts in Hong Kong\n",
    "- use the .plot( ) function to generate a map of the 18 district of Hong Kong, use a colormap \"jet\" (cmap = 'jet')\n",
    "- given the \"HK_18dist.xlsx\" data file, use the dataframe merge method to make a choropleth map showing the male-to-female population ratio using the 'OrRd' colormap. Put a legend in your figure, label/title your figure properly.\n",
    "- How do you interpret the results? "
   ]
  }
 ],
 "metadata": {
  "kernelspec": {
   "display_name": "Python 3",
   "language": "python",
   "name": "python3"
  },
  "language_info": {
   "codemirror_mode": {
    "name": "ipython",
    "version": 3
   },
   "file_extension": ".py",
   "mimetype": "text/x-python",
   "name": "python",
   "nbconvert_exporter": "python",
   "pygments_lexer": "ipython3",
   "version": "3.7.4"
  }
 },
 "nbformat": 4,
 "nbformat_minor": 2
}
