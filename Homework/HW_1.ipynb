{
 "cells": [
  {
   "cell_type": "markdown",
   "metadata": {},
   "source": [
    "## Homework Assignment #1\n",
    "\n",
    "* Due on **Wednesday, Feb-05-2020**\n",
    "* Please **comment your code** and send it to our TA Ms Hangyu Liu (hangyu@hku.hk) \n",
    "* Office hours: Hangyu (by appointment), Binzheng (by appointment)"
   ]
  },
  {
   "cell_type": "markdown",
   "metadata": {},
   "source": [
    "### 1. Make a new code cell, and create a list called planets, then:\n",
    "\n",
    "* append all the planets (including Pluto) to the list.\n",
    "* find out the index # for planet “Venus” and “Neptune” using the .index() method for strings\n",
    "* make a true copy of your planets list (give it a different name), which means that your copied list is independent of the original list.\n",
    "* print the planet at index 3 in your planets list.\n",
    "* set the planet at index 3 in your copied list to 'Krypton'\n",
    "* print the planet at index 3 in both lists (planet and your copied list)\n",
    "* remove Pluto from your copied list\n",
    "* use the help function to find out what the built in function len() does (help(len)), and use it on the two lists (print out the results)\n",
    "* find out the difference between the two lists planets and your copied list"
   ]
  },
  {
   "cell_type": "markdown",
   "metadata": {},
   "source": [
    "### 2. Create a set from each of the three lists.\n",
    "\n",
    "* Make another code block that creates three lists using the range( ) function with series of numbers starting with 1, ending in 100 (inclusive) increasing by 2, 3 and 4, respectively, and then:\n",
    "* Use the **intersection** function to find the elements in common between the three sets."
   ]
  }
 ],
 "metadata": {
  "kernelspec": {
   "display_name": "Python 3",
   "language": "python",
   "name": "python3"
  },
  "language_info": {
   "codemirror_mode": {
    "name": "ipython",
    "version": 3
   },
   "file_extension": ".py",
   "mimetype": "text/x-python",
   "name": "python",
   "nbconvert_exporter": "python",
   "pygments_lexer": "ipython3",
   "version": "3.7.4"
  }
 },
 "nbformat": 4,
 "nbformat_minor": 2
}
