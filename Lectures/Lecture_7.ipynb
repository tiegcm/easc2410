{
 "cells": [
  {
   "cell_type": "markdown",
   "metadata": {},
   "source": [
    "## Lecture 7 2-D NumPy Arrays and Loading Data from files\n",
    "\n",
    "### Review of Lecture 6  \n",
    "\n",
    "* 1-D plots using matplotlib.pyplot\n",
    "* Figure styling \n",
    "\n",
    "\n",
    "### In this lecture we will:\n",
    "\n",
    "- introduce 2-D arrays in NumPy\n",
    "- introduce simple ways of loading data from text files"
   ]
  },
  {
   "cell_type": "markdown",
   "metadata": {},
   "source": [
    "### Create a 2-D Numpy array using the .array() method"
   ]
  },
  {
   "cell_type": "code",
   "execution_count": 2,
   "metadata": {},
   "outputs": [
    {
     "name": "stdout",
     "output_type": "stream",
     "text": [
      "[[ 1.73  1.68  1.71  1.89  1.79]\n",
      " [65.4  59.2  63.6  88.4  68.7 ]\n",
      " [35.   28.   23.   29.   32.  ]]\n"
     ]
    }
   ],
   "source": [
    "import numpy as np # load the numpy module\n",
    "\n",
    "# define a 2-D numpy array using the .array() method\n",
    "np_2d = np.array([[1.73, 1.68, 1.71, 1.89, 1.79],\n",
    "                  [65.4, 59.2, 63.6, 88.4, 68.7],\n",
    "                  [35,   28  , 23  , 29  , 32  ]])\n",
    "\n",
    "print(np_2d) # print the results"
   ]
  },
  {
   "cell_type": "markdown",
   "metadata": {},
   "source": [
    "If we try using different data types within numpy arrays, they are all converted to 'str', see the following example:"
   ]
  },
  {
   "cell_type": "code",
   "execution_count": 4,
   "metadata": {},
   "outputs": [
    {
     "name": "stdout",
     "output_type": "stream",
     "text": [
      "[['1.73' '1.68' '1.71' '1.89' '1.79']\n",
      " ['65.4' '59.2' '63.6' '88.4' '68.7']\n",
      " ['35' '28' '23' '29' '32']]\n"
     ]
    }
   ],
   "source": [
    "# try different data types in a 2-D Numpy array:\n",
    "np_2d = np.array([[1.73, 1.68, 1.71, 1.89, 1.79],\n",
    "                  [65.4, 59.2, 63.6, 88.4, 68.7],\n",
    "                  [35,   28  , 23  , 29  , '32' ]]) # now the last element is a string\n",
    "\n",
    "print(np_2d) # print the results - you can see everyone is a string now"
   ]
  },
  {
   "cell_type": "markdown",
   "metadata": {},
   "source": [
    "Here are more ways to generate 2-D NumPy arrays using the functions we've seen before: \n",
    "- the .zeros() function:"
   ]
  },
  {
   "cell_type": "code",
   "execution_count": 11,
   "metadata": {},
   "outputs": [
    {
     "name": "stdout",
     "output_type": "stream",
     "text": [
      "[[0. 0. 0.]\n",
      " [0. 0. 0.]]\n"
     ]
    }
   ],
   "source": [
    "D=np.zeros((2,3)) # 2-D numpy array with 2x3 zeros. \n",
    "                  # Notice the size is specified by a TUPLE of numbers of rows and columns.\n",
    "print(D)"
   ]
  },
  {
   "cell_type": "markdown",
   "metadata": {},
   "source": [
    "- the .ones() function:"
   ]
  },
  {
   "cell_type": "code",
   "execution_count": 9,
   "metadata": {},
   "outputs": [
    {
     "name": "stdout",
     "output_type": "stream",
     "text": [
      "[[1. 1. 1. 1. 1.]\n",
      " [1. 1. 1. 1. 1.]\n",
      " [1. 1. 1. 1. 1.]\n",
      " [1. 1. 1. 1. 1.]]\n"
     ]
    }
   ],
   "source": [
    "E=np.ones((4,5))\n",
    "print(E)"
   ]
  },
  {
   "cell_type": "markdown",
   "metadata": {},
   "source": [
    "Remember operations on numpy arrays are element-wise. For example, to get any other value, just multiply your \"ones\" array by whatever number you want:"
   ]
  },
  {
   "cell_type": "code",
   "execution_count": 10,
   "metadata": {
    "scrolled": true
   },
   "outputs": [
    {
     "name": "stdout",
     "output_type": "stream",
     "text": [
      "[[3.14 3.14 3.14 3.14 3.14]\n",
      " [3.14 3.14 3.14 3.14 3.14]\n",
      " [3.14 3.14 3.14 3.14 3.14]\n",
      " [3.14 3.14 3.14 3.14 3.14]]\n"
     ]
    }
   ],
   "source": [
    "print (E*3.14)"
   ]
  },
  {
   "cell_type": "markdown",
   "metadata": {},
   "source": [
    "### Index slicing with 2-D NumPy arrays  \n",
    "\n",
    "- similar to 1-D NumPy arrays, now you need to specify two indices for slicing\n",
    "- the syntax goes like [index_start:index_stop], index_start is inclusive, and index_stop is exclusive  \n",
    "\n",
    "For example the following code gives the **second row** of the 2-D NumPy Array np_2d:"
   ]
  },
  {
   "cell_type": "code",
   "execution_count": 6,
   "metadata": {},
   "outputs": [
    {
     "name": "stdout",
     "output_type": "stream",
     "text": [
      "[65.4 59.2 63.6 88.4 68.7]\n"
     ]
    }
   ],
   "source": [
    "# define a 2-D numpy array using the .array() method\n",
    "np_2d = np.array([[1.73, 1.68, 1.71, 1.89, 1.79],\n",
    "                  [65.4, 59.2, 63.6, 88.4, 68.7],\n",
    "                  [35,   28  , 23  , 29  , 32  ]])\n",
    "\n",
    "new_array = np_2d[1,:]\n",
    "\n",
    "print(new_array)"
   ]
  },
  {
   "cell_type": "markdown",
   "metadata": {},
   "source": [
    "the following code gives the **third column** of the 2-D NumPy Array np_2d:"
   ]
  },
  {
   "cell_type": "code",
   "execution_count": 21,
   "metadata": {},
   "outputs": [
    {
     "name": "stdout",
     "output_type": "stream",
     "text": [
      "[ 1.71 63.6  23.  ]\n"
     ]
    }
   ],
   "source": [
    "new_array = np_2d[:,2]\n",
    "\n",
    "print(new_array)"
   ]
  },
  {
   "cell_type": "markdown",
   "metadata": {},
   "source": [
    "the following codes both give one value in the 2-D NumPy Array np_2d:"
   ]
  },
  {
   "cell_type": "code",
   "execution_count": 7,
   "metadata": {},
   "outputs": [
    {
     "name": "stdout",
     "output_type": "stream",
     "text": [
      "63.6\n"
     ]
    }
   ],
   "source": [
    "new_value = np_2d[1,2]\n",
    "print(new_value)"
   ]
  },
  {
   "cell_type": "code",
   "execution_count": 25,
   "metadata": {},
   "outputs": [
    {
     "name": "stdout",
     "output_type": "stream",
     "text": [
      "63.6\n"
     ]
    }
   ],
   "source": [
    "new_value = np_2d[1][2]\n",
    "print(new_value)"
   ]
  },
  {
   "cell_type": "markdown",
   "metadata": {},
   "source": [
    "### Useful Array attributes and methods\n",
    "\n",
    "#### Attributes\n",
    "- **ndim**:  dimension of a numpy array\n",
    "- **shape**: shape of a numpy array (how many rows and columns in each dimension)\n",
    "- **size**:  length of the array (how many elements in the array)"
   ]
  },
  {
   "cell_type": "code",
   "execution_count": 95,
   "metadata": {},
   "outputs": [
    {
     "name": "stdout",
     "output_type": "stream",
     "text": [
      "the dimensions of A are:  2\n"
     ]
    }
   ],
   "source": [
    "A= np.array([[1,2,3],[4,2,0],[1,1,2]]) # define a 2-D Numpy Array:\n",
    "print (\"the dimensions of A are: \",A.ndim) "
   ]
  },
  {
   "cell_type": "code",
   "execution_count": 97,
   "metadata": {},
   "outputs": [
    {
     "name": "stdout",
     "output_type": "stream",
     "text": [
      "the shape of A is:  (2, 3)\n"
     ]
    }
   ],
   "source": [
    "A= np.array([[1,2,3.1],[4.3,2,0]]) # define another 2-D Numpy Array:\n",
    "print (\"the shape of A is: \",A.shape) "
   ]
  },
  {
   "cell_type": "code",
   "execution_count": 98,
   "metadata": {},
   "outputs": [
    {
     "name": "stdout",
     "output_type": "stream",
     "text": [
      "the size of A is:  6\n"
     ]
    }
   ],
   "source": [
    "A= np.array([[1,2,3.1],[4.3,2,0]]) # define another 2-D Numpy Array:\n",
    "print (\"the size of A is: \",A.size) "
   ]
  },
  {
   "cell_type": "markdown",
   "metadata": {},
   "source": [
    "#### Methods \n",
    "\n",
    "* flattern() method generates 1-D array from your 2-D (or more) NumPy arrays. For example"
   ]
  },
  {
   "cell_type": "code",
   "execution_count": 109,
   "metadata": {},
   "outputs": [
    {
     "name": "stdout",
     "output_type": "stream",
     "text": [
      "[[1 2 3]\n",
      " [4 2 0]\n",
      " [1 1 2]]\n",
      "[1 2 3 4 2 0 1 1 2]\n"
     ]
    }
   ],
   "source": [
    "A= np.array([[1,2,3],[4,2,0],[1,1,2]]) # define a 2-D Numpy Array:\n",
    "B = A.flatten()\n",
    "print(A)\n",
    "print(B)"
   ]
  },
  {
   "cell_type": "markdown",
   "metadata": {},
   "source": [
    "* the reshape() method changes the dimension of your array:"
   ]
  },
  {
   "cell_type": "code",
   "execution_count": 112,
   "metadata": {},
   "outputs": [
    {
     "name": "stdout",
     "output_type": "stream",
     "text": [
      "[[1 2 3]\n",
      " [4 2 0]]\n",
      "---------\n",
      "[[1 2]\n",
      " [3 4]\n",
      " [2 0]]\n"
     ]
    }
   ],
   "source": [
    "A= np.array([[1,2,3],[4,2,0]]) # define a 2-D Numpy Array:\n",
    "B = A.reshape((3,2))\n",
    "print(A)\n",
    "print('---------')\n",
    "print(B)"
   ]
  },
  {
   "cell_type": "markdown",
   "metadata": {},
   "source": [
    "Arrays, like lists, have a bunch of methods, but the methods are different than the list methods. For example, you can **append** to an array, but the results may surprise you. For example:"
   ]
  },
  {
   "cell_type": "code",
   "execution_count": 102,
   "metadata": {},
   "outputs": [
    {
     "name": "stdout",
     "output_type": "stream",
     "text": [
      "[1 2 3 4 2 0 1 1 2 8 8 8]\n"
     ]
    }
   ],
   "source": [
    "A= np.array([[1,2,3],[4,2,0],[1,1,2]]) # define a 2-D Numpy Array:\n",
    "D = np.append(A,[8,8,8])\n",
    "print(D)"
   ]
  },
  {
   "cell_type": "markdown",
   "metadata": {},
   "source": [
    "### Converting between NumPy arrays and Python lists\n",
    "\n",
    "* sometimes you may want to convert your numpy arrays to a list, here's how to do it:"
   ]
  },
  {
   "cell_type": "code",
   "execution_count": 113,
   "metadata": {},
   "outputs": [
    {
     "name": "stdout",
     "output_type": "stream",
     "text": [
      "Original: \t <class 'numpy.ndarray'>\n",
      "Cast: \t\t <class 'list'>\n",
      "[[1 2 3]\n",
      " [4 2 0]\n",
      " [1 1 2]]\n",
      "[[1, 2, 3], [4, 2, 0], [1, 1, 2]]\n"
     ]
    }
   ],
   "source": [
    "A = np.array([[1,2,3],[4,2,0],[1,1,2]]) # define a 2-D Numpy Array:\n",
    "L = A.tolist()\n",
    "print (\"Original: \\t\", type(A))\n",
    "print (\"Cast: \\t\\t\", type(L))\n",
    "print (A)\n",
    "print (L)\n",
    "\n",
    "# notice the commas, this is a list of three lists"
   ]
  },
  {
   "cell_type": "markdown",
   "metadata": {},
   "source": [
    "* remember we can use the np.array() function to convert a Python list to a Numpy array:"
   ]
  },
  {
   "cell_type": "code",
   "execution_count": 116,
   "metadata": {},
   "outputs": [
    {
     "name": "stdout",
     "output_type": "stream",
     "text": [
      "back to a 2-D array:\n",
      "[[1 2 3]\n",
      " [4 2 0]\n",
      " [1 1 2]]\n"
     ]
    }
   ],
   "source": [
    "A1 = np.array(L)\n",
    "print(\"back to a 2-D array:\")\n",
    "print(A1)"
   ]
  },
  {
   "cell_type": "markdown",
   "metadata": {},
   "source": [
    "### load txt files using NumPy   \n",
    "\n",
    "NumPy provides several functions to read data from txt files. The simplest one is called .loadtxt(). Here's an example:"
   ]
  },
  {
   "cell_type": "code",
   "execution_count": 8,
   "metadata": {},
   "outputs": [
    {
     "name": "stdout",
     "output_type": "stream",
     "text": [
      "[[ 1.880e+03 -1.800e-01 -1.000e-01]\n",
      " [ 1.881e+03 -9.000e-02 -1.400e-01]\n",
      " [ 1.882e+03 -1.000e-01 -1.700e-01]\n",
      " [ 1.883e+03 -1.800e-01 -2.000e-01]\n",
      " [ 1.884e+03 -2.800e-01 -2.300e-01]\n",
      " [ 1.885e+03 -3.100e-01 -2.600e-01]\n",
      " [ 1.886e+03 -3.100e-01 -2.600e-01]\n",
      " [ 1.887e+03 -3.400e-01 -2.600e-01]\n",
      " [ 1.888e+03 -1.700e-01 -2.600e-01]\n",
      " [ 1.889e+03 -1.000e-01 -2.500e-01]\n",
      " [ 1.890e+03 -3.600e-01 -2.500e-01]\n",
      " [ 1.891e+03 -2.300e-01 -2.500e-01]\n",
      " [ 1.892e+03 -2.600e-01 -2.600e-01]\n",
      " [ 1.893e+03 -3.100e-01 -2.600e-01]\n",
      " [ 1.894e+03 -3.000e-01 -2.300e-01]\n",
      " [ 1.895e+03 -2.200e-01 -2.200e-01]\n",
      " [ 1.896e+03 -1.100e-01 -2.000e-01]\n",
      " [ 1.897e+03 -1.100e-01 -1.800e-01]\n",
      " [ 1.898e+03 -2.700e-01 -1.700e-01]\n",
      " [ 1.899e+03 -1.800e-01 -1.700e-01]\n",
      " [ 1.900e+03 -8.000e-02 -2.000e-01]\n",
      " [ 1.901e+03 -1.500e-01 -2.400e-01]\n",
      " [ 1.902e+03 -2.800e-01 -2.600e-01]\n",
      " [ 1.903e+03 -3.800e-01 -2.900e-01]\n",
      " [ 1.904e+03 -4.900e-01 -3.200e-01]\n",
      " [ 1.905e+03 -2.800e-01 -3.400e-01]\n",
      " [ 1.906e+03 -2.200e-01 -3.600e-01]\n",
      " [ 1.907e+03 -3.900e-01 -3.700e-01]\n",
      " [ 1.908e+03 -4.300e-01 -3.900e-01]\n",
      " [ 1.909e+03 -4.700e-01 -4.000e-01]\n",
      " [ 1.910e+03 -4.200e-01 -4.000e-01]\n",
      " [ 1.911e+03 -4.200e-01 -3.800e-01]\n",
      " [ 1.912e+03 -3.500e-01 -3.400e-01]\n",
      " [ 1.913e+03 -3.500e-01 -3.100e-01]\n",
      " [ 1.914e+03 -1.500e-01 -3.000e-01]\n",
      " [ 1.915e+03 -1.100e-01 -2.900e-01]\n",
      " [ 1.916e+03 -3.200e-01 -2.800e-01]\n",
      " [ 1.917e+03 -4.300e-01 -2.700e-01]\n",
      " [ 1.918e+03 -2.800e-01 -2.800e-01]\n",
      " [ 1.919e+03 -2.600e-01 -2.700e-01]\n",
      " [ 1.920e+03 -2.500e-01 -2.600e-01]\n",
      " [ 1.921e+03 -1.700e-01 -2.400e-01]\n",
      " [ 1.922e+03 -2.600e-01 -2.300e-01]\n",
      " [ 1.923e+03 -2.400e-01 -2.200e-01]\n",
      " [ 1.924e+03 -2.500e-01 -2.100e-01]\n",
      " [ 1.925e+03 -2.000e-01 -2.000e-01]\n",
      " [ 1.926e+03 -8.000e-02 -2.000e-01]\n",
      " [ 1.927e+03 -2.000e-01 -1.900e-01]\n",
      " [ 1.928e+03 -1.800e-01 -1.800e-01]\n",
      " [ 1.929e+03 -3.400e-01 -1.800e-01]\n",
      " [ 1.930e+03 -1.400e-01 -1.800e-01]\n",
      " [ 1.931e+03 -1.000e-01 -1.800e-01]\n",
      " [ 1.932e+03 -1.600e-01 -1.800e-01]\n",
      " [ 1.933e+03 -2.800e-01 -1.700e-01]\n",
      " [ 1.934e+03 -1.300e-01 -1.600e-01]\n",
      " [ 1.935e+03 -2.000e-01 -1.500e-01]\n",
      " [ 1.936e+03 -1.600e-01 -1.200e-01]\n",
      " [ 1.937e+03 -4.000e-02 -7.000e-02]\n",
      " [ 1.938e+03 -3.000e-02 -3.000e-02]\n",
      " [ 1.939e+03 -3.000e-02  2.000e-02]\n",
      " [ 1.940e+03  1.200e-01  5.000e-02]\n",
      " [ 1.941e+03  1.800e-01  8.000e-02]\n",
      " [ 1.942e+03  5.000e-02  9.000e-02]\n",
      " [ 1.943e+03  7.000e-02  9.000e-02]\n",
      " [ 1.944e+03  2.100e-01  7.000e-02]\n",
      " [ 1.945e+03  9.000e-02  3.000e-02]\n",
      " [ 1.946e+03 -7.000e-02  0.000e+00]\n",
      " [ 1.947e+03 -4.000e-02 -4.000e-02]\n",
      " [ 1.948e+03 -1.100e-01 -7.000e-02]\n",
      " [ 1.949e+03 -1.100e-01 -9.000e-02]\n",
      " [ 1.950e+03 -1.900e-01 -8.000e-02]\n",
      " [ 1.951e+03 -7.000e-02 -8.000e-02]\n",
      " [ 1.952e+03  1.000e-02 -8.000e-02]\n",
      " [ 1.953e+03  7.000e-02 -8.000e-02]\n",
      " [ 1.954e+03 -1.500e-01 -7.000e-02]\n",
      " [ 1.955e+03 -1.500e-01 -6.000e-02]\n",
      " [ 1.956e+03 -2.100e-01 -6.000e-02]\n",
      " [ 1.957e+03  4.000e-02 -4.000e-02]\n",
      " [ 1.958e+03  7.000e-02 -2.000e-02]\n",
      " [ 1.959e+03  2.000e-02  1.000e-02]\n",
      " [ 1.960e+03 -2.000e-02  3.000e-02]\n",
      " [ 1.961e+03  5.000e-02  2.000e-02]\n",
      " [ 1.962e+03  4.000e-02 -0.000e+00]\n",
      " [ 1.963e+03  7.000e-02 -2.000e-02]\n",
      " [ 1.964e+03 -2.000e-01 -3.000e-02]\n",
      " [ 1.965e+03 -1.000e-01 -4.000e-02]\n",
      " [ 1.966e+03 -5.000e-02 -5.000e-02]\n",
      " [ 1.967e+03 -2.000e-02 -4.000e-02]\n",
      " [ 1.968e+03 -7.000e-02 -2.000e-02]\n",
      " [ 1.969e+03  7.000e-02 -1.000e-02]\n",
      " [ 1.970e+03  3.000e-02  0.000e+00]\n",
      " [ 1.971e+03 -9.000e-02  1.000e-02]\n",
      " [ 1.972e+03  2.000e-02  0.000e+00]\n",
      " [ 1.973e+03  1.600e-01 -0.000e+00]\n",
      " [ 1.974e+03 -8.000e-02  0.000e+00]\n",
      " [ 1.975e+03 -1.000e-02  2.000e-02]\n",
      " [ 1.976e+03 -1.100e-01  4.000e-02]\n",
      " [ 1.977e+03  1.700e-01  7.000e-02]\n",
      " [ 1.978e+03  7.000e-02  1.200e-01]\n",
      " [ 1.979e+03  1.600e-01  1.700e-01]\n",
      " [ 1.980e+03  2.700e-01  2.000e-01]\n",
      " [ 1.981e+03  3.300e-01  2.200e-01]\n",
      " [ 1.982e+03  1.400e-01  2.200e-01]\n",
      " [ 1.983e+03  3.200e-01  2.200e-01]\n",
      " [ 1.984e+03  1.700e-01  2.200e-01]\n",
      " [ 1.985e+03  1.200e-01  2.300e-01]\n",
      " [ 1.986e+03  1.900e-01  2.500e-01]\n",
      " [ 1.987e+03  3.400e-01  2.800e-01]\n",
      " [ 1.988e+03  4.100e-01  3.200e-01]\n",
      " [ 1.989e+03  2.800e-01  3.400e-01]\n",
      " [ 1.990e+03  4.400e-01  3.400e-01]\n",
      " [ 1.991e+03  4.200e-01  3.400e-01]\n",
      " [ 1.992e+03  2.300e-01  3.400e-01]\n",
      " [ 1.993e+03  2.400e-01  3.400e-01]\n",
      " [ 1.994e+03  3.200e-01  3.500e-01]\n",
      " [ 1.995e+03  4.500e-01  3.700e-01]\n",
      " [ 1.996e+03  3.400e-01  4.100e-01]\n",
      " [ 1.997e+03  4.700e-01  4.300e-01]\n",
      " [ 1.998e+03  6.300e-01  4.500e-01]\n",
      " [ 1.999e+03  4.000e-01  4.800e-01]\n",
      " [ 2.000e+03  4.100e-01  5.100e-01]\n",
      " [ 2.001e+03  5.400e-01  5.300e-01]\n",
      " [ 2.002e+03  6.300e-01  5.500e-01]\n",
      " [ 2.003e+03  6.100e-01  5.800e-01]\n",
      " [ 2.004e+03  5.400e-01  6.100e-01]\n",
      " [ 2.005e+03  6.800e-01  6.100e-01]\n",
      " [ 2.006e+03  6.300e-01  6.100e-01]\n",
      " [ 2.007e+03  6.400e-01  6.200e-01]\n",
      " [ 2.008e+03  5.200e-01  6.300e-01]\n",
      " [ 2.009e+03  6.400e-01  6.200e-01]\n",
      " [ 2.010e+03  7.100e-01  6.300e-01]\n",
      " [ 2.011e+03  5.900e-01  6.400e-01]\n",
      " [ 2.012e+03  6.200e-01  6.800e-01]\n",
      " [ 2.013e+03  6.500e-01  7.200e-01]\n",
      " [ 2.014e+03  7.400e-01  7.700e-01]\n",
      " [ 2.015e+03  8.700e-01  8.100e-01]\n",
      " [ 2.016e+03  1.000e+00  8.500e-01]\n",
      " [ 2.017e+03  9.100e-01  9.000e-01]\n",
      " [ 2.018e+03  8.300e-01  9.400e-01]]\n"
     ]
    }
   ],
   "source": [
    "import numpy as np # load the numpy array\n",
    "import matplotlib.pyplot as plt # load the pyplot sub-module from matplotlib\n",
    "\n",
    "temp_anom = np.loadtxt('datasets/temperature.txt') # load data set, note that now temp_anom is a 2-D NumPy array\n",
    "                                                   # Note: if you save the file \"temperature\" in the same location as \n",
    "                                                   # the jupyter notebook file, use np.loadtxt('temperature.txt'), \n",
    "                                                   # here 'datasets/' means I saved the file in a folder named 'datasets'\n",
    "\n",
    "print(temp_anom) # take a look at the dataset"
   ]
  },
  {
   "cell_type": "markdown",
   "metadata": {},
   "source": [
    "We can check the size, shape and dimension of a numpy array:"
   ]
  },
  {
   "cell_type": "code",
   "execution_count": 94,
   "metadata": {},
   "outputs": [
    {
     "name": "stdout",
     "output_type": "stream",
     "text": [
      "The data type is <class 'numpy.ndarray'>\n",
      "The shape of the array is (139, 3)\n",
      "The size of the array is 417\n",
      "The dimension of the array is 2\n"
     ]
    }
   ],
   "source": [
    "print('The data type is',type(temp_anom))\n",
    "print('The shape of the array is', temp_anom.shape)\n",
    "print('The size of the array is', temp_anom.size)\n",
    "print('The dimension of the array is', temp_anom.ndim)"
   ]
  },
  {
   "cell_type": "markdown",
   "metadata": {},
   "source": [
    "The first column of the data set is year; the second column of the dataset is the annual temperature anomaly and the third column of the dataset is the trend of the temperature anomaly. Now we can use the array slicing method we just learned to generate 1-D NumPy arrays and then use matplotlib to make line plots:"
   ]
  },
  {
   "cell_type": "code",
   "execution_count": 11,
   "metadata": {},
   "outputs": [
    {
     "data": {
      "image/png": "[encoded data removed]",
      "text/plain": [
       "<Figure size 936x324 with 2 Axes>"
      ]
     },
     "metadata": {
      "needs_background": "light"
     },
     "output_type": "display_data"
    }
   ],
   "source": [
    "import numpy as np\n",
    "import matplotlib.pyplot as plt\n",
    "\n",
    "temp_anom = np.loadtxt('datasets/temperature.txt')\n",
    "\n",
    "year = temp_anom[:,0]       # column 0: year \n",
    "anomaly = temp_anom[:,1]    # column 1: annual temperature anomaly \n",
    "lowess = temp_anom[:,2]     # column 2: the long-term trend of the temperature anomaly\n",
    "residul = anomaly - lowess  # year-to-year variations\n",
    "\n",
    "plt.figure(figsize=(13,4.5)) # start a figure, set the size of the figure\n",
    "\n",
    "plt.subplot(1,2,1) # the left panel\n",
    "plt.plot(year, anomaly, marker = 'o',label='Annual Mean')\n",
    "plt.plot(year, lowess, 'r-',label='Running Mean')\n",
    "plt.xlabel('Year')\n",
    "plt.ylabel('Degrees $C^o$')\n",
    "plt.title('GLOBAL LAND-OCEAN TEMPERATURE INDEX')\n",
    "plt.legend()\n",
    "\n",
    "plt.subplot(1,2,2) # the right panel\n",
    "plt.plot(year, lowess,'b-',label='running Mean')\n",
    "plt.plot(year, residul, 'r-',label='residule')\n",
    "plt.xlabel('Year')\n",
    "plt.ylabel('Degrees $C^o$')\n",
    "plt.title('GLOBAL LAND-OCEAN TEMPERATURE INDEX')\n",
    "plt.legend()\n",
    "\n",
    "plt.show() # show your plot!"
   ]
  },
  {
   "cell_type": "markdown",
   "metadata": {},
   "source": [
    "The right panel of the above figure shows two data curves with different scales - the red curve has much smaller y-extent compared to the blue curve. So now we need a new trick to put two y-axis in the same plot. See the following example:"
   ]
  },
  {
   "cell_type": "code",
   "execution_count": 19,
   "metadata": {},
   "outputs": [
    {
     "data": {
      "image/png": "[encoded data removed]",
      "text/plain": [
       "<Figure size 432x288 with 2 Axes>"
      ]
     },
     "metadata": {
      "needs_background": "light"
     },
     "output_type": "display_data"
    }
   ],
   "source": [
    "\"\"\"\n",
    "========================================================================\n",
    "    Matplotlib Trick: Plots multiple datasets with different scales\n",
    "========================================================================\n",
    "\n",
    "Demonstrate how to do two plots on the same axes with different left and\n",
    "right scales.\n",
    "\n",
    "The trick is to use *two different axes* that share the same *x* axis.\n",
    "You can use separate `matplotlib.ticker` formatters and locators as\n",
    "desired since the two axes are independent.\n",
    "\n",
    "Such axes are generated by calling the `Axes.twinx` method.  Likewise,\n",
    "`Axes.twiny` is available to generate axes that share a *y* axis but\n",
    "have different top and bottom scales.\n",
    "\n",
    "The twinx and twiny methods are also exposed as pyplot functions.\n",
    "\n",
    "\"\"\"\n",
    "\n",
    "fig, ax1 = plt.subplots()\n",
    "\n",
    "# plot the first x-y axis\n",
    "ax1.plot(year, anomaly, 'b-')\n",
    "ax1.set_xlabel('time (y)')\n",
    "# Make the y-axis label, ticks and tick labels match the line color.\n",
    "ax1.set_ylabel('Mean temperature anomaly, $C^\\circ$', color='b')\n",
    "ax1.tick_params('y', colors='b')\n",
    "\n",
    "# plot the second x-y axis\n",
    "ax2 = ax1.twinx()\n",
    "ax2.plot(year, residul, 'r-',linewidth=0.5)\n",
    "ax2.set_ylabel('$\\Delta$T, $C^\\circ$', color='r')\n",
    "ax2.tick_params('y', colors='r')\n",
    "ax2.set_ylim([-0.3,0.3])\n",
    "\n",
    "fig.tight_layout()\n",
    "plt.show()"
   ]
  },
  {
   "cell_type": "markdown",
   "metadata": {},
   "source": [
    "Here's another example of load txt files using the .loadtxt() function, with delimiter specified as \",\" "
   ]
  },
  {
   "cell_type": "code",
   "execution_count": 23,
   "metadata": {},
   "outputs": [
    {
     "data": {
      "image/png": "[encoded data removed]",
      "text/plain": [
       "<Figure size 432x288 with 1 Axes>"
      ]
     },
     "metadata": {
      "needs_background": "light"
     },
     "output_type": "display_data"
    }
   ],
   "source": [
    "EQ = np.loadtxt('datasets/earthquake.csv', delimiter=',')\n",
    "\n",
    "lat = EQ[:,0] # latitude\n",
    "lon = EQ[:,1] # longitude\n",
    "dep = EQ[:,2] # depth\n",
    "mag = EQ[:,3] # magnitude\n",
    "\n",
    "plt.scatter(lon,lat)\n",
    "plt.xlabel('Longitude')\n",
    "plt.ylabel('Latitude')\n",
    "plt.show()"
   ]
  },
  {
   "cell_type": "markdown",
   "metadata": {},
   "source": [
    "NumPy provides another function to read data from txt files called .genfromtxt(). Here's an example. Note that the data points are separated by \",\" - thus we specify the delimiter keyward on the .genfromtxt() function as delimiter=',':"
   ]
  },
  {
   "cell_type": "code",
   "execution_count": 8,
   "metadata": {},
   "outputs": [
    {
     "data": {
      "text/plain": [
       "[[1.73, 1.68, 'hello', 1.89, 1.79],\n",
       " [65.4, True, 63.6, 88.4, 68.7],\n",
       " [35, 28, 23, (2+3j), 1]]"
      ]
     },
     "execution_count": 8,
     "metadata": {},
     "output_type": "execute_result"
    }
   ],
   "source": [
    "np_2d = np.array([[1.73, 1.68, 'hello', 1.89, 1.79],\n",
    "                  [65.4, True, 63.6, 88.4, 68.7],\n",
    "                  [35,   28  , 23  , 2+3j  , 1  ]])\n",
    "\n",
    "\n",
    "np_2d = [[1.73, 1.68, 'hello', 1.89, False],\n",
    "         [65.4, True, 63.6, 88.4, 68.7],\n",
    "         [35,   28  , 23  , 2+3j  , 1  ]]\n",
    "\n",
    "np_2d"
   ]
  }
 ],
 "metadata": {
  "kernelspec": {
   "display_name": "Python 3",
   "language": "python",
   "name": "python3"
  },
  "language_info": {
   "codemirror_mode": {
    "name": "ipython",
    "version": 3
   },
   "file_extension": ".py",
   "mimetype": "text/x-python",
   "name": "python",
   "nbconvert_exporter": "python",
   "pygments_lexer": "ipython3",
   "version": "3.7.4"
  }
 },
 "nbformat": 4,
 "nbformat_minor": 2
}
