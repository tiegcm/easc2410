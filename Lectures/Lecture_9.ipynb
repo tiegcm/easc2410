{
 "cells": [
  {
   "cell_type": "markdown",
   "metadata": {},
   "source": [
    "## Lecture 9 Intro to File System, Path and Pandas  \n",
    "\n",
    "\n",
    "### Review of Lecture 8  \n",
    "\n",
    "- start to make some basic maps using **Basemap**, together with data points\n",
    "\n",
    "### In this lecture we will:\n",
    "\n",
    "- about the basic file system of most computers\n",
    "\n",
    "- how to find your command line \n",
    "\n",
    "- how to write some simple commands from within a jupyter notebook \n",
    "\n",
    "- how to write some simple commands from the command line\n",
    "\n",
    "- about the _path_ to a file "
   ]
  },
  {
   "cell_type": "markdown",
   "metadata": {},
   "source": [
    "Today, let's take a  break from programming in Python and discuss file systems, paths, and the command line. Why?  Because whenever you import your data files into the Jupyter notebook (recall the examples we've seen using NumPy functions), you have to tell Python **where** in the computer the file is *located*. Moreover as a good practice, there are many command line functions that come in handy. For example, you can look at the first few lines of a file before you import it into the notebook. You could also write all of your programs in a text editor and run those programs from the command line. You could then run your programs from anywhere on your computer instead of a jupyter notebook. "
   ]
  },
  {
   "cell_type": "markdown",
   "metadata": {},
   "source": [
    "###  File systems\n",
    "\n",
    "The organization of computers is based on a **file system**. The file system is hierarchical, so at the top you'll find the _root directory_ or for Mac and PC users, a _folder_. The root directory contains files and other folders which may also contain  files and  folders and etc. This continues, resulting in a tree of files and folders that make up the file system. The figure in the lecture note is an example of a computer's file system."
   ]
  },
  {
   "cell_type": "markdown",
   "metadata": {},
   "source": [
    "### Survival UNIX commands\n",
    "\n",
    "Macs and PCs both have functions that can be called from a _command line_, such as listing the contents of a folder or file, creating new folders, changing permissions on files or folders, combining the contents of files, moving files and folders around, and so on.  These commands are directed to the operating system instead of the Python interpreter.  \n",
    "\n",
    "Before we begin using commands, we can execute many operating system commands from within a Jupyter notebook.   To signal to Jupyter that your commands are not for Python but for the operating system, you may type a \"!\" (bang) in front of the command.  [It isn't actually a requirement, but it does help separate what is a command line command versus what is a python script. \n",
    "\n",
    "#### The ls command\n",
    "\n",
    "Let's learn our first UNIX command, which lists the contents of a directory, **ls**.   [Note that your output will be different.]\n",
    "\n",
    "- Syntax: ls [Directory] [Options]"
   ]
  },
  {
   "cell_type": "code",
   "execution_count": 1,
   "metadata": {},
   "outputs": [
    {
     "name": "stdout",
     "output_type": "stream",
     "text": [
      "HW_1.ipynb\r\n",
      "HW_1_solutions.ipynb\r\n",
      "HW_2.ipynb\r\n",
      "HW_3.ipynb\r\n",
      "HW_4-solutions.ipynb\r\n",
      "HW_4.ipynb\r\n",
      "Lecture_10.ipynb\r\n",
      "Lecture_2.ipynb\r\n",
      "Lecture_3.ipynb\r\n",
      "Lecture_4.ipynb\r\n",
      "Lecture_5.ipynb\r\n",
      "Lecture_6.ipynb\r\n",
      "Lecture_7.ipynb\r\n",
      "Lecture_8.ipynb\r\n",
      "Lecture_9.ipynb\r\n",
      "earthquake.csv\r\n",
      "gdp_life.txt\r\n",
      "in_class_practice_02.ipynb\r\n",
      "in_class_practice_02_solutions.ipynb\r\n",
      "in_class_practice_03.ipynb\r\n",
      "in_class_practice_04.ipynb\r\n",
      "in_class_practice_04_example_solutions.ipynb\r\n",
      "in_class_practice_05.ipynb\r\n",
      "in_class_practice_06-Copy1.ipynb\r\n",
      "in_class_practice_06.ipynb\r\n",
      "in_class_practice_07-example_solutions.ipynb\r\n",
      "in_class_practice_07.ipynb\r\n",
      "in_class_practice_08-example_solutions.ipynb\r\n",
      "in_class_practice_08.ipynb\r\n",
      "mangkhut.txt\r\n",
      "maria_data.txt\r\n"
     ]
    }
   ],
   "source": [
    "!ls"
   ]
  },
  {
   "cell_type": "markdown",
   "metadata": {},
   "source": [
    "Oops, seems like I need to sort my course folder!  \n",
    "\n",
    "When both the [Directory] and [Options] are left empty, it shows all the files within the current working directory\n",
    "\n",
    "or only show the first 10 files (sorted by name) in my current folder:"
   ]
  },
  {
   "cell_type": "code",
   "execution_count": 2,
   "metadata": {},
   "outputs": [
    {
     "name": "stdout",
     "output_type": "stream",
     "text": [
      "HW_1.ipynb\r\n",
      "HW_1_solutions.ipynb\r\n",
      "HW_2.ipynb\r\n",
      "HW_3.ipynb\r\n",
      "HW_4-solutions.ipynb\r\n",
      "HW_4.ipynb\r\n",
      "Lecture_10.ipynb\r\n",
      "Lecture_2.ipynb\r\n",
      "Lecture_3.ipynb\r\n",
      "Lecture_4.ipynb\r\n"
     ]
    }
   ],
   "source": [
    "!ls | head -n 10"
   ]
  },
  {
   "cell_type": "markdown",
   "metadata": {},
   "source": [
    "Or show all the files that contain the word \"class\":"
   ]
  },
  {
   "cell_type": "code",
   "execution_count": 3,
   "metadata": {},
   "outputs": [
    {
     "name": "stdout",
     "output_type": "stream",
     "text": [
      "in_class_practice_02.ipynb\r\n",
      "in_class_practice_02_solutions.ipynb\r\n",
      "in_class_practice_03.ipynb\r\n",
      "in_class_practice_04.ipynb\r\n",
      "in_class_practice_04_example_solutions.ipynb\r\n",
      "in_class_practice_05.ipynb\r\n",
      "in_class_practice_06-Copy1.ipynb\r\n",
      "in_class_practice_06.ipynb\r\n",
      "in_class_practice_07-example_solutions.ipynb\r\n",
      "in_class_practice_07.ipynb\r\n",
      "in_class_practice_08-example_solutions.ipynb\r\n",
      "in_class_practice_08.ipynb\r\n"
     ]
    }
   ],
   "source": [
    "!ls *class*"
   ]
  },
  {
   "cell_type": "markdown",
   "metadata": {},
   "source": [
    "#### The midkr command\n",
    "\n",
    "Let's learn our second UNIX command, which makes are new directory (or folder), **mkdir**:  \n",
    "- Syntax: mkdir FOLDER_NAME"
   ]
  },
  {
   "cell_type": "code",
   "execution_count": 4,
   "metadata": {},
   "outputs": [
    {
     "name": "stdout",
     "output_type": "stream",
     "text": [
      "HW_1.ipynb\r\n",
      "HW_1_solutions.ipynb\r\n",
      "HW_2.ipynb\r\n",
      "HW_3.ipynb\r\n",
      "HW_4-solutions.ipynb\r\n",
      "HW_4.ipynb\r\n",
      "Lecture_10.ipynb\r\n",
      "Lecture_2.ipynb\r\n",
      "Lecture_3.ipynb\r\n",
      "Lecture_4.ipynb\r\n",
      "Lecture_5.ipynb\r\n",
      "Lecture_6.ipynb\r\n",
      "Lecture_7.ipynb\r\n",
      "Lecture_8.ipynb\r\n",
      "Lecture_9.ipynb\r\n",
      "earthquake.csv\r\n",
      "gdp_life.txt\r\n",
      "in_class_practice_02.ipynb\r\n",
      "in_class_practice_02_solutions.ipynb\r\n",
      "in_class_practice_03.ipynb\r\n",
      "in_class_practice_04.ipynb\r\n",
      "in_class_practice_04_example_solutions.ipynb\r\n",
      "in_class_practice_05.ipynb\r\n",
      "in_class_practice_06-Copy1.ipynb\r\n",
      "in_class_practice_06.ipynb\r\n",
      "in_class_practice_07-example_solutions.ipynb\r\n",
      "in_class_practice_07.ipynb\r\n",
      "in_class_practice_08-example_solutions.ipynb\r\n",
      "in_class_practice_08.ipynb\r\n",
      "mangkhut.txt\r\n",
      "maria_data.txt\r\n",
      "\u001b[34mnew_folder\u001b[m\u001b[m\r\n"
     ]
    }
   ],
   "source": [
    "!mkdir new_folder\n",
    "!ls "
   ]
  },
  {
   "cell_type": "markdown",
   "metadata": {},
   "source": [
    "#### The cat, head, tail command\n",
    "\n",
    "Here's our third UNIX command, which displays the content of a given file, **cat**:   \n",
    "- syntax: cat FILE_NAME"
   ]
  },
  {
   "cell_type": "code",
   "execution_count": 4,
   "metadata": {},
   "outputs": [
    {
     "name": "stdout",
     "output_type": "stream",
     "text": [
      "def deg2rad(degrees):  \r\n",
      "    \"\"\"\r\n",
      "    converts degrees to radians\r\n",
      "    \"\"\"\r\n",
      "    return degrees*3.141592653589793/180.\r\n",
      "\r\n",
      "def convertF2C(in_args):\r\n",
      "    \"\"\"\r\n",
      "    This code convert Fahrenheit (F) to Celsius (C)\r\n",
      "    INPUT    : temperature in F\r\n",
      "    OUTPUT   : temperature in C\r\n",
      "    Algorithm: C = 9/5*(F-32)\r\n",
      "    \"\"\"\r\n",
      "    out_args = (in_args - 32.0)*5.0/9.0\r\n",
      "    return out_args\r\n",
      "    \r\n",
      "def SanDiego():\r\n",
      "    global G\r\n",
      "    G='Surfing!'"
     ]
    }
   ],
   "source": [
    "!cat myfuncs.py"
   ]
  },
  {
   "cell_type": "markdown",
   "metadata": {},
   "source": [
    "The \"head\" command shows the first a few lines of a file:"
   ]
  },
  {
   "cell_type": "code",
   "execution_count": 20,
   "metadata": {},
   "outputs": [
    {
     "name": "stdout",
     "output_type": "stream",
     "text": [
      "def deg2rad(degrees):  \r\n",
      "    \"\"\"\r\n",
      "    converts degrees to radians\r\n",
      "    \"\"\"\r\n",
      "    return degrees*3.141592653589793/180.\r\n",
      "\r\n",
      "def convertF2C(in_args):\r\n",
      "    \"\"\"\r\n",
      "    This code convert Fahrenheit (F) to Celsius (C)\r\n",
      "    INPUT    : temperature in F\r\n"
     ]
    }
   ],
   "source": [
    "!head myfuncs.py"
   ]
  },
  {
   "cell_type": "markdown",
   "metadata": {},
   "source": [
    "Similary the \"tail\" command shows the last a few lines of a file:"
   ]
  },
  {
   "cell_type": "code",
   "execution_count": 21,
   "metadata": {},
   "outputs": [
    {
     "name": "stdout",
     "output_type": "stream",
     "text": [
      "    INPUT    : temperature in F\r\n",
      "    OUTPUT   : temperature in C\r\n",
      "    Algorithm: C = 9/5*(F-32)\r\n",
      "    \"\"\"\r\n",
      "    out_args = (in_args - 32.0)*5.0/9.0\r\n",
      "    return out_args\r\n",
      "    \r\n",
      "def SanDiego():\r\n",
      "    global G\r\n",
      "    G='Surfing!'"
     ]
    }
   ],
   "source": [
    "!tail myfuncs.py"
   ]
  },
  {
   "cell_type": "markdown",
   "metadata": {},
   "source": [
    "#### The pwd command\n",
    "\n",
    "Here's our fourth UNIX command, which displays the current directory **pwd** (means Print Working Directory):   \n",
    "- syntax: pwd"
   ]
  },
  {
   "cell_type": "code",
   "execution_count": 5,
   "metadata": {
    "scrolled": true
   },
   "outputs": [
    {
     "name": "stdout",
     "output_type": "stream",
     "text": [
      "/Users/binzh/Dropbox/Teaching/Python for Earth Sciences/2020/Notebooks\r\n"
     ]
    }
   ],
   "source": [
    "!pwd"
   ]
  },
  {
   "cell_type": "markdown",
   "metadata": {},
   "source": [
    "### Paths\n",
    "\n",
    "#### Absolute Paths:\n",
    "\n",
    "- /Users/bz/Desktop/ : this is the absolute path of my desktop folder\n",
    "- /Users/bz/Dropbox/Teaching/ : this is the absolute path of my course materials  \n",
    "\n",
    "For example the following code prints out the first 15 files on my desktop (if you run it on your own computer, make sure change it to the absolute directory of your own desktop folder!)"
   ]
  },
  {
   "cell_type": "code",
   "execution_count": 7,
   "metadata": {},
   "outputs": [
    {
     "name": "stdout",
     "output_type": "stream",
     "text": [
      "2-page profile_BZ.docx\r\n",
      "AGU2019_runs_summary.key\r\n",
      "Altay.jpg\r\n",
      "Grand Teton.jpg\r\n",
      "Lecture_3_record\r\n",
      "Lecture_4_record\r\n",
      "Lecture_5_record\r\n",
      "Lecture_6_record\r\n",
      "Lecture_7_record\r\n",
      "Lecture_8_record\r\n",
      "Load basemap.pdf\r\n",
      "MRI\r\n",
      "Screen Shot 2019-12-26 at 11.35.14 AM.png\r\n",
      "Screen Shot 2020-01-02 at 4.40.17 PM.png\r\n",
      "Screen Shot 2020-01-02 at 9.50.20 PM.png\r\n"
     ]
    }
   ],
   "source": [
    "!ls /Users/binzh/Desktop/ | head -n 15"
   ]
  },
  {
   "cell_type": "markdown",
   "metadata": {},
   "source": [
    "Again my Desktop needs organization..."
   ]
  },
  {
   "cell_type": "markdown",
   "metadata": {},
   "source": [
    "#### Relative Paths:\n",
    "\n",
    "- ./     : the current directory (e.g., \"ls ./\" is basically the same as \"ls\"\n",
    "- ../    : one level above the current directory\n",
    "- ../../ : two levels above the current directory\n",
    "- ...    : and go on  \n",
    "\n",
    "Here's an example of showing the files in the folder that is one level above my current working directory"
   ]
  },
  {
   "cell_type": "code",
   "execution_count": 8,
   "metadata": {
    "scrolled": true
   },
   "outputs": [
    {
     "name": "stdout",
     "output_type": "stream",
     "text": [
      "/Users/binzh/Dropbox/Teaching/Python for Earth Sciences/2020/Notebooks\n",
      "=======================\n",
      "\u001b[34mDatasets\u001b[m\u001b[m  \u001b[34mExplains\u001b[m\u001b[m  \u001b[34mLectures\u001b[m\u001b[m  \u001b[34mNotebooks\u001b[m\u001b[m \u001b[34mPDFs\u001b[m\u001b[m      \u001b[34mStudents\u001b[m\u001b[m\n"
     ]
    }
   ],
   "source": [
    "!pwd\n",
    "print('=======================')\n",
    "!ls ../"
   ]
  },
  {
   "cell_type": "markdown",
   "metadata": {},
   "source": [
    "Now let's see what's in the folder named \"Students\":"
   ]
  },
  {
   "cell_type": "code",
   "execution_count": 9,
   "metadata": {
    "scrolled": true
   },
   "outputs": [
    {
     "name": "stdout",
     "output_type": "stream",
     "text": [
      "\u001b[34mLecture 2\u001b[m\u001b[m \u001b[34mLecture 3\u001b[m\u001b[m \u001b[34mLecture 4\u001b[m\u001b[m\r\n"
     ]
    }
   ],
   "source": [
    "!ls ../Students"
   ]
  },
  {
   "cell_type": "markdown",
   "metadata": {},
   "source": [
    "#### The mv, cp command\n",
    "\n",
    "Here's another two very useful UNIX command, **mv** changes the name or the path of an existing file (no new file is created):   \n",
    "- syntax: mv someFile someFile_New\n",
    "- after doing mv, \"someFile\" is gone and you get a new file called \"someFile_New\" \n",
    "\n",
    "Here's another two very useful UNIX command, **cp** copies the an existing file to a new place (with a new name if specified):   \n",
    "- syntax: cp someFile someFile_New\n",
    "- after doing cp, \"someFile\" is still there and you also get a new file called \"someFile_New\" \n",
    "\n"
   ]
  },
  {
   "cell_type": "code",
   "execution_count": 29,
   "metadata": {},
   "outputs": [
    {
     "name": "stdout",
     "output_type": "stream",
     "text": [
      "funcs.py    myfuncs.py  myfuncs1.py myfuncs2.py\r\n"
     ]
    }
   ],
   "source": [
    "!ls *py"
   ]
  },
  {
   "cell_type": "code",
   "execution_count": 19,
   "metadata": {
    "scrolled": false
   },
   "outputs": [
    {
     "name": "stdout",
     "output_type": "stream",
     "text": [
      "myfuncs.py  myfuncs1.py myfuncs2.py myfuncs3.py\r\n"
     ]
    }
   ],
   "source": [
    "!mv funcs.py myfuncs3.py\n",
    "!ls *py"
   ]
  },
  {
   "cell_type": "code",
   "execution_count": 24,
   "metadata": {},
   "outputs": [
    {
     "name": "stdout",
     "output_type": "stream",
     "text": [
      "myfuncs.py   myfuncs1.py  myfuncs2.py  myfuncs3.py  yourfuncs.py\r\n"
     ]
    }
   ],
   "source": [
    "!cp myfuncs.py yourfuncs.py\n",
    "!ls *py"
   ]
  },
  {
   "cell_type": "markdown",
   "metadata": {},
   "source": [
    "### Pandas \n",
    "\n",
    "Remember the data file we used in HW4, gdp_life.txt, which contains both numeric and string values, was not so straightforward to process when load it in with **np.loadtxt**. One strategy to remove the text would be to edit the text file, but instead we will use **Pandas**- a very useful package in Python for data analysis.  \n",
    "\n",
    "\n",
    "### The Joy of Pandas\n",
    "\n",
    "Pandas is a relatively new package for Python (a few years old).  It allows us to read in more complicated data file formats than **NumPy**, and  wrangle the data in powerful ways. It also provides many useful data analysis tools. Here is the documentation of the Pandas library: https://pandas.pydata.org/pandas-docs/stable/\n",
    "\n",
    "There are two basic data structures in **Pandas**, the **DataFrame**, which is basically a spreadsheet with multiple columns and the **Series** which is a single column of data. \n",
    "\n",
    "The gdp_life.txt file includes thecolumn headers in line 1.  This kind of file does not play nicely with **np.loadtxt( )** or **np.genfromtxt( )**,  but we can use the **Pandas function**, **read_csv( )** to read in the datafile.  This function not only reads in 'comma separated variable' files (.csv), but also other data formats once we tell it how the file is delimited.  \n",
    "\n",
    "Let's use another example to show the basic concepts of a Pandas DataFrame. Recall the **cat** command:"
   ]
  },
  {
   "cell_type": "code",
   "execution_count": 10,
   "metadata": {},
   "outputs": [
    {
     "name": "stdout",
     "output_type": "stream",
     "text": [
      "﻿,Country,Population,Area,Capital\r",
      "\r\n",
      "BR,Brazil,200,8515767,Brazilia\r",
      "\r\n",
      "RU,Russia,144,17098242,Moscow\r",
      "\r\n",
      "IN,India,1252,3287590,New Delhi\r",
      "\r\n",
      "CH,China,1357,9596961,Beijing\r",
      "\r\n",
      "SA,South Africa,55,1221037,Pretoria"
     ]
    }
   ],
   "source": [
    "!cat datasets/brics.csv"
   ]
  },
  {
   "cell_type": "markdown",
   "metadata": {},
   "source": [
    "Of course we must first import **Pandas** into you Jupyter notebook using:\n",
    "\n",
    "- import pandas as pd\n",
    "\n",
    "### load data using csv files: \n",
    "\n",
    "The syntax of loading the brics.csv file into a Pandas dataFrame is simply: \n",
    "- pd.read_csv(*File_Location*, [Options])  \n",
    "Here *File_Location* has both the path and the name of the data file \"brics.csv\". In my working directory, the file \"brics.csv\" is stored in a folder called \"datasets\", so the relative file path + file name is \"./datasets/\" + \"brics.csv\" = \"./datasets/brics.csv\". Or you can ignore the \"./\" if you know clearly the \"datasets\" folder is in the *current directory*"
   ]
  },
  {
   "cell_type": "code",
   "execution_count": 2,
   "metadata": {},
   "outputs": [
    {
     "data": {
      "text/html": [
       "<div>\n",
       "<style scoped>\n",
       "    .dataframe tbody tr th:only-of-type {\n",
       "        vertical-align: middle;\n",
       "    }\n",
       "\n",
       "    .dataframe tbody tr th {\n",
       "        vertical-align: top;\n",
       "    }\n",
       "\n",
       "    .dataframe thead th {\n",
       "        text-align: right;\n",
       "    }\n",
       "</style>\n",
       "<table border=\"1\" class=\"dataframe\">\n",
       "  <thead>\n",
       "    <tr style=\"text-align: right;\">\n",
       "      <th></th>\n",
       "      <th>Unnamed: 0</th>\n",
       "      <th>Country</th>\n",
       "      <th>Population</th>\n",
       "      <th>Area</th>\n",
       "      <th>Capital</th>\n",
       "    </tr>\n",
       "  </thead>\n",
       "  <tbody>\n",
       "    <tr>\n",
       "      <th>0</th>\n",
       "      <td>BR</td>\n",
       "      <td>Brazil</td>\n",
       "      <td>200</td>\n",
       "      <td>8515767</td>\n",
       "      <td>Brazilia</td>\n",
       "    </tr>\n",
       "    <tr>\n",
       "      <th>1</th>\n",
       "      <td>RU</td>\n",
       "      <td>Russia</td>\n",
       "      <td>144</td>\n",
       "      <td>17098242</td>\n",
       "      <td>Moscow</td>\n",
       "    </tr>\n",
       "    <tr>\n",
       "      <th>2</th>\n",
       "      <td>IN</td>\n",
       "      <td>India</td>\n",
       "      <td>1252</td>\n",
       "      <td>3287590</td>\n",
       "      <td>New Delhi</td>\n",
       "    </tr>\n",
       "    <tr>\n",
       "      <th>3</th>\n",
       "      <td>CH</td>\n",
       "      <td>China</td>\n",
       "      <td>1357</td>\n",
       "      <td>9596961</td>\n",
       "      <td>Beijing</td>\n",
       "    </tr>\n",
       "    <tr>\n",
       "      <th>4</th>\n",
       "      <td>SA</td>\n",
       "      <td>South Africa</td>\n",
       "      <td>55</td>\n",
       "      <td>1221037</td>\n",
       "      <td>Pretoria</td>\n",
       "    </tr>\n",
       "  </tbody>\n",
       "</table>\n",
       "</div>"
      ],
      "text/plain": [
       "  Unnamed: 0       Country  Population      Area    Capital\n",
       "0         BR        Brazil         200   8515767   Brazilia\n",
       "1         RU        Russia         144  17098242     Moscow\n",
       "2         IN         India        1252   3287590  New Delhi\n",
       "3         CH         China        1357   9596961    Beijing\n",
       "4         SA  South Africa          55   1221037   Pretoria"
      ]
     },
     "execution_count": 2,
     "metadata": {},
     "output_type": "execute_result"
    }
   ],
   "source": [
    "import pandas as pd\n",
    "import numpy as np\n",
    "import matplotlib.pyplot as plt\n",
    "\n",
    "file = \"./datasets/brics.csv\" # define where the file is - [Relative Path + Name]\n",
    "brics = pd.read_csv(file)\n",
    "brics # display the data frame"
   ]
  },
  {
   "cell_type": "markdown",
   "metadata": {},
   "source": [
    "The First column of the data Frame are the row indices, but Pandas didn't know that. In fact, if we don't tell Pandas to use the first column as the row indices, Pandas will use integers as default and regard the first column as a data column. To fix this, simply tell Pandas that the index column is the first column using \"**index_col = 0**\":"
   ]
  },
  {
   "cell_type": "code",
   "execution_count": 12,
   "metadata": {},
   "outputs": [
    {
     "data": {
      "text/html": [
       "<div>\n",
       "<style scoped>\n",
       "    .dataframe tbody tr th:only-of-type {\n",
       "        vertical-align: middle;\n",
       "    }\n",
       "\n",
       "    .dataframe tbody tr th {\n",
       "        vertical-align: top;\n",
       "    }\n",
       "\n",
       "    .dataframe thead th {\n",
       "        text-align: right;\n",
       "    }\n",
       "</style>\n",
       "<table border=\"1\" class=\"dataframe\">\n",
       "  <thead>\n",
       "    <tr style=\"text-align: right;\">\n",
       "      <th></th>\n",
       "      <th>Country</th>\n",
       "      <th>Population</th>\n",
       "      <th>Area</th>\n",
       "      <th>Capital</th>\n",
       "    </tr>\n",
       "  </thead>\n",
       "  <tbody>\n",
       "    <tr>\n",
       "      <th>BR</th>\n",
       "      <td>Brazil</td>\n",
       "      <td>200</td>\n",
       "      <td>8515767</td>\n",
       "      <td>Brazilia</td>\n",
       "    </tr>\n",
       "    <tr>\n",
       "      <th>RU</th>\n",
       "      <td>Russia</td>\n",
       "      <td>144</td>\n",
       "      <td>17098242</td>\n",
       "      <td>Moscow</td>\n",
       "    </tr>\n",
       "    <tr>\n",
       "      <th>IN</th>\n",
       "      <td>India</td>\n",
       "      <td>1252</td>\n",
       "      <td>3287590</td>\n",
       "      <td>New Delhi</td>\n",
       "    </tr>\n",
       "    <tr>\n",
       "      <th>CH</th>\n",
       "      <td>China</td>\n",
       "      <td>1357</td>\n",
       "      <td>9596961</td>\n",
       "      <td>Beijing</td>\n",
       "    </tr>\n",
       "    <tr>\n",
       "      <th>SA</th>\n",
       "      <td>South Africa</td>\n",
       "      <td>55</td>\n",
       "      <td>1221037</td>\n",
       "      <td>Pretoria</td>\n",
       "    </tr>\n",
       "  </tbody>\n",
       "</table>\n",
       "</div>"
      ],
      "text/plain": [
       "         Country  Population      Area    Capital\n",
       "BR        Brazil         200   8515767   Brazilia\n",
       "RU        Russia         144  17098242     Moscow\n",
       "IN         India        1252   3287590  New Delhi\n",
       "CH         China        1357   9596961    Beijing\n",
       "SA  South Africa          55   1221037   Pretoria"
      ]
     },
     "execution_count": 12,
     "metadata": {},
     "output_type": "execute_result"
    }
   ],
   "source": [
    "brics = pd.read_csv(\"datasets/brics.csv\",index_col=0)\n",
    "brics"
   ]
  },
  {
   "cell_type": "markdown",
   "metadata": {},
   "source": [
    "Now the Data Frame looks alright!"
   ]
  },
  {
   "cell_type": "markdown",
   "metadata": {},
   "source": [
    "#### Column access   \n",
    "\n",
    "Recall the index slicing in 2-D NumPy arrays we used in the last HW assignment, you were selecting a column of data using, for example, data[:,2] which gives the third column. In Pandas you can do the same thing in a much more human-readable way by accessing column data using the name of the column indices: "
   ]
  },
  {
   "cell_type": "code",
   "execution_count": 13,
   "metadata": {},
   "outputs": [
    {
     "data": {
      "text/plain": [
       "BR          Brazil\n",
       "RU          Russia\n",
       "IN           India\n",
       "CH           China\n",
       "SA    South Africa\n",
       "Name: Country, dtype: object"
      ]
     },
     "execution_count": 13,
     "metadata": {},
     "output_type": "execute_result"
    }
   ],
   "source": [
    "brics['Country']"
   ]
  },
  {
   "cell_type": "markdown",
   "metadata": {},
   "source": [
    "Note that here \"BR, UR, IN, ...\" are the row indices, the code brics['Country'] generates a Pandas **series** which contains only the data in the column named 'Country'.  \n",
    "\n",
    "Another handy way of accessing the column data is using the dot operator \".\" with the name of the column index:"
   ]
  },
  {
   "cell_type": "code",
   "execution_count": 34,
   "metadata": {},
   "outputs": [
    {
     "data": {
      "text/plain": [
       "0          Brazil\n",
       "1          Russia\n",
       "2           India\n",
       "3           China\n",
       "4    South Africa\n",
       "Name: Country, dtype: object"
      ]
     },
     "execution_count": 34,
     "metadata": {},
     "output_type": "execute_result"
    }
   ],
   "source": [
    "country = brics.Country\n",
    "country"
   ]
  },
  {
   "cell_type": "markdown",
   "metadata": {},
   "source": [
    "Now let's use the print() function to see the type of \"brics\" and \"country\":"
   ]
  },
  {
   "cell_type": "code",
   "execution_count": 36,
   "metadata": {},
   "outputs": [
    {
     "name": "stdout",
     "output_type": "stream",
     "text": [
      "The Type of \"brics\" is <class 'pandas.core.frame.DataFrame'>\n",
      "The Type of \"country\" is <class 'pandas.core.series.Series'>\n"
     ]
    }
   ],
   "source": [
    "print('The Type of \"brics\" is', type(brics))\n",
    "print('The Type of \"country\" is', type(country))"
   ]
  },
  {
   "cell_type": "markdown",
   "metadata": {},
   "source": [
    "#### Row and Element access\n",
    "\n",
    "Recall the index slicing in 2-D NumPy arrays we used in the last HW assignment, you were selecting a row of data using, for example, data[2,:] which gives the third row of the 2-D NumPy array. In Pandas you can do the same thing in as selecting a column data, in slightly a different way using the \".loc()\" function:"
   ]
  },
  {
   "cell_type": "code",
   "execution_count": 15,
   "metadata": {},
   "outputs": [
    {
     "data": {
      "text/plain": [
       "Country         Brazil\n",
       "Population         200\n",
       "Area           8515767\n",
       "Capital       Brazilia\n",
       "Name: BR, dtype: object"
      ]
     },
     "execution_count": 15,
     "metadata": {},
     "output_type": "execute_result"
    }
   ],
   "source": [
    "brics.loc['BR']"
   ]
  },
  {
   "cell_type": "markdown",
   "metadata": {},
   "source": [
    "You can also access a single element just like index slicing a 2-D NumPy array:"
   ]
  },
  {
   "cell_type": "code",
   "execution_count": 27,
   "metadata": {},
   "outputs": [
    {
     "name": "stdout",
     "output_type": "stream",
     "text": [
      "Brazilia\n",
      "Brazilia\n",
      "Brazilia\n"
     ]
    }
   ],
   "source": [
    "print( brics.loc['BR']['Capital'] )\n",
    "print( brics['Capital'].loc['BR'] )\n",
    "print( brics.loc['BR', 'Capital'] )"
   ]
  },
  {
   "cell_type": "markdown",
   "metadata": {},
   "source": [
    "#### Addinga a new column \n",
    "\n",
    "Adding a new column is very straightforward:"
   ]
  },
  {
   "cell_type": "code",
   "execution_count": 17,
   "metadata": {},
   "outputs": [
    {
     "data": {
      "text/html": [
       "<div>\n",
       "<style scoped>\n",
       "    .dataframe tbody tr th:only-of-type {\n",
       "        vertical-align: middle;\n",
       "    }\n",
       "\n",
       "    .dataframe tbody tr th {\n",
       "        vertical-align: top;\n",
       "    }\n",
       "\n",
       "    .dataframe thead th {\n",
       "        text-align: right;\n",
       "    }\n",
       "</style>\n",
       "<table border=\"1\" class=\"dataframe\">\n",
       "  <thead>\n",
       "    <tr style=\"text-align: right;\">\n",
       "      <th></th>\n",
       "      <th>Country</th>\n",
       "      <th>Population</th>\n",
       "      <th>Area</th>\n",
       "      <th>Capital</th>\n",
       "      <th>On_earth</th>\n",
       "    </tr>\n",
       "  </thead>\n",
       "  <tbody>\n",
       "    <tr>\n",
       "      <th>BR</th>\n",
       "      <td>Brazil</td>\n",
       "      <td>200</td>\n",
       "      <td>8515767</td>\n",
       "      <td>Brazilia</td>\n",
       "      <td>True</td>\n",
       "    </tr>\n",
       "    <tr>\n",
       "      <th>RU</th>\n",
       "      <td>Russia</td>\n",
       "      <td>144</td>\n",
       "      <td>17098242</td>\n",
       "      <td>Moscow</td>\n",
       "      <td>True</td>\n",
       "    </tr>\n",
       "    <tr>\n",
       "      <th>IN</th>\n",
       "      <td>India</td>\n",
       "      <td>1252</td>\n",
       "      <td>3287590</td>\n",
       "      <td>New Delhi</td>\n",
       "      <td>True</td>\n",
       "    </tr>\n",
       "    <tr>\n",
       "      <th>CH</th>\n",
       "      <td>China</td>\n",
       "      <td>1357</td>\n",
       "      <td>9596961</td>\n",
       "      <td>Beijing</td>\n",
       "      <td>True</td>\n",
       "    </tr>\n",
       "    <tr>\n",
       "      <th>SA</th>\n",
       "      <td>South Africa</td>\n",
       "      <td>55</td>\n",
       "      <td>1221037</td>\n",
       "      <td>Pretoria</td>\n",
       "      <td>True</td>\n",
       "    </tr>\n",
       "  </tbody>\n",
       "</table>\n",
       "</div>"
      ],
      "text/plain": [
       "         Country  Population      Area    Capital  On_earth\n",
       "BR        Brazil         200   8515767   Brazilia      True\n",
       "RU        Russia         144  17098242     Moscow      True\n",
       "IN         India        1252   3287590  New Delhi      True\n",
       "CH         China        1357   9596961    Beijing      True\n",
       "SA  South Africa          55   1221037   Pretoria      True"
      ]
     },
     "execution_count": 17,
     "metadata": {},
     "output_type": "execute_result"
    }
   ],
   "source": [
    "brics[\"On_earth\"] = [True, True, True, True, True]\n",
    "brics"
   ]
  },
  {
   "cell_type": "markdown",
   "metadata": {},
   "source": [
    "You can also add a new column by Numpy type of element-wise calculations using the existing column data: "
   ]
  },
  {
   "cell_type": "code",
   "execution_count": 18,
   "metadata": {},
   "outputs": [
    {
     "data": {
      "text/html": [
       "<div>\n",
       "<style scoped>\n",
       "    .dataframe tbody tr th:only-of-type {\n",
       "        vertical-align: middle;\n",
       "    }\n",
       "\n",
       "    .dataframe tbody tr th {\n",
       "        vertical-align: top;\n",
       "    }\n",
       "\n",
       "    .dataframe thead th {\n",
       "        text-align: right;\n",
       "    }\n",
       "</style>\n",
       "<table border=\"1\" class=\"dataframe\">\n",
       "  <thead>\n",
       "    <tr style=\"text-align: right;\">\n",
       "      <th></th>\n",
       "      <th>Country</th>\n",
       "      <th>Population</th>\n",
       "      <th>Area</th>\n",
       "      <th>Capital</th>\n",
       "      <th>On_earth</th>\n",
       "      <th>Density</th>\n",
       "    </tr>\n",
       "  </thead>\n",
       "  <tbody>\n",
       "    <tr>\n",
       "      <th>BR</th>\n",
       "      <td>Brazil</td>\n",
       "      <td>200</td>\n",
       "      <td>8515767</td>\n",
       "      <td>Brazilia</td>\n",
       "      <td>True</td>\n",
       "      <td>23.485847</td>\n",
       "    </tr>\n",
       "    <tr>\n",
       "      <th>RU</th>\n",
       "      <td>Russia</td>\n",
       "      <td>144</td>\n",
       "      <td>17098242</td>\n",
       "      <td>Moscow</td>\n",
       "      <td>True</td>\n",
       "      <td>8.421918</td>\n",
       "    </tr>\n",
       "    <tr>\n",
       "      <th>IN</th>\n",
       "      <td>India</td>\n",
       "      <td>1252</td>\n",
       "      <td>3287590</td>\n",
       "      <td>New Delhi</td>\n",
       "      <td>True</td>\n",
       "      <td>380.826076</td>\n",
       "    </tr>\n",
       "    <tr>\n",
       "      <th>CH</th>\n",
       "      <td>China</td>\n",
       "      <td>1357</td>\n",
       "      <td>9596961</td>\n",
       "      <td>Beijing</td>\n",
       "      <td>True</td>\n",
       "      <td>141.398928</td>\n",
       "    </tr>\n",
       "    <tr>\n",
       "      <th>SA</th>\n",
       "      <td>South Africa</td>\n",
       "      <td>55</td>\n",
       "      <td>1221037</td>\n",
       "      <td>Pretoria</td>\n",
       "      <td>True</td>\n",
       "      <td>45.043680</td>\n",
       "    </tr>\n",
       "  </tbody>\n",
       "</table>\n",
       "</div>"
      ],
      "text/plain": [
       "         Country  Population      Area    Capital  On_earth     Density\n",
       "BR        Brazil         200   8515767   Brazilia      True   23.485847\n",
       "RU        Russia         144  17098242     Moscow      True    8.421918\n",
       "IN         India        1252   3287590  New Delhi      True  380.826076\n",
       "CH         China        1357   9596961    Beijing      True  141.398928\n",
       "SA  South Africa          55   1221037   Pretoria      True   45.043680"
      ]
     },
     "execution_count": 18,
     "metadata": {},
     "output_type": "execute_result"
    }
   ],
   "source": [
    "brics[\"Density\"] = brics.Population / brics.Area * 1000000\n",
    "brics"
   ]
  },
  {
   "cell_type": "markdown",
   "metadata": {},
   "source": [
    "#### Rename a column \n",
    "\n",
    "Rename the name of column indices are also straightforward by using the \"rename()\" function of a data Frame:\n",
    "\n",
    "- Syntax: DataFrameName.rename( columns = {'old_column_name1':'new_column_name1', 'old_column_name2':'new_column_name2',...} inplace = True )"
   ]
  },
  {
   "cell_type": "code",
   "execution_count": 19,
   "metadata": {},
   "outputs": [
    {
     "data": {
      "text/html": [
       "<div>\n",
       "<style scoped>\n",
       "    .dataframe tbody tr th:only-of-type {\n",
       "        vertical-align: middle;\n",
       "    }\n",
       "\n",
       "    .dataframe tbody tr th {\n",
       "        vertical-align: top;\n",
       "    }\n",
       "\n",
       "    .dataframe thead th {\n",
       "        text-align: right;\n",
       "    }\n",
       "</style>\n",
       "<table border=\"1\" class=\"dataframe\">\n",
       "  <thead>\n",
       "    <tr style=\"text-align: right;\">\n",
       "      <th></th>\n",
       "      <th>Country</th>\n",
       "      <th>Pop</th>\n",
       "      <th>Area</th>\n",
       "      <th>Capital</th>\n",
       "      <th>Cool</th>\n",
       "      <th>Density</th>\n",
       "    </tr>\n",
       "  </thead>\n",
       "  <tbody>\n",
       "    <tr>\n",
       "      <th>BR</th>\n",
       "      <td>Brazil</td>\n",
       "      <td>200</td>\n",
       "      <td>8515767</td>\n",
       "      <td>Brazilia</td>\n",
       "      <td>True</td>\n",
       "      <td>23.485847</td>\n",
       "    </tr>\n",
       "    <tr>\n",
       "      <th>RU</th>\n",
       "      <td>Russia</td>\n",
       "      <td>144</td>\n",
       "      <td>17098242</td>\n",
       "      <td>Moscow</td>\n",
       "      <td>True</td>\n",
       "      <td>8.421918</td>\n",
       "    </tr>\n",
       "    <tr>\n",
       "      <th>IN</th>\n",
       "      <td>India</td>\n",
       "      <td>1252</td>\n",
       "      <td>3287590</td>\n",
       "      <td>New Delhi</td>\n",
       "      <td>True</td>\n",
       "      <td>380.826076</td>\n",
       "    </tr>\n",
       "    <tr>\n",
       "      <th>CH</th>\n",
       "      <td>China</td>\n",
       "      <td>1357</td>\n",
       "      <td>9596961</td>\n",
       "      <td>Beijing</td>\n",
       "      <td>True</td>\n",
       "      <td>141.398928</td>\n",
       "    </tr>\n",
       "    <tr>\n",
       "      <th>SA</th>\n",
       "      <td>South Africa</td>\n",
       "      <td>55</td>\n",
       "      <td>1221037</td>\n",
       "      <td>Pretoria</td>\n",
       "      <td>True</td>\n",
       "      <td>45.043680</td>\n",
       "    </tr>\n",
       "  </tbody>\n",
       "</table>\n",
       "</div>"
      ],
      "text/plain": [
       "         Country   Pop      Area    Capital  Cool     Density\n",
       "BR        Brazil   200   8515767   Brazilia  True   23.485847\n",
       "RU        Russia   144  17098242     Moscow  True    8.421918\n",
       "IN         India  1252   3287590  New Delhi  True  380.826076\n",
       "CH         China  1357   9596961    Beijing  True  141.398928\n",
       "SA  South Africa    55   1221037   Pretoria  True   45.043680"
      ]
     },
     "execution_count": 19,
     "metadata": {},
     "output_type": "execute_result"
    }
   ],
   "source": [
    "brics.rename(columns={'Population':'Pop','On_earth':'Cool'},inplace = True)\n",
    "brics"
   ]
  },
  {
   "cell_type": "markdown",
   "metadata": {},
   "source": [
    "### load data using excel files: \n",
    "\n",
    "We have learned loading data into Pandas Data Frame using the pd.read_csv() function, you can also load excel files into Pandas using the pd.read_excel() function, which is very handy! Here's an example. I've saved the brics information into an excel file named \"brics.xlsx\", and let's try load it into Python as a Pandas data Frame:"
   ]
  },
  {
   "cell_type": "code",
   "execution_count": 20,
   "metadata": {},
   "outputs": [
    {
     "data": {
      "text/html": [
       "<div>\n",
       "<style scoped>\n",
       "    .dataframe tbody tr th:only-of-type {\n",
       "        vertical-align: middle;\n",
       "    }\n",
       "\n",
       "    .dataframe tbody tr th {\n",
       "        vertical-align: top;\n",
       "    }\n",
       "\n",
       "    .dataframe thead th {\n",
       "        text-align: right;\n",
       "    }\n",
       "</style>\n",
       "<table border=\"1\" class=\"dataframe\">\n",
       "  <thead>\n",
       "    <tr style=\"text-align: right;\">\n",
       "      <th></th>\n",
       "      <th>Country</th>\n",
       "      <th>Population</th>\n",
       "      <th>Area</th>\n",
       "      <th>Capital</th>\n",
       "    </tr>\n",
       "  </thead>\n",
       "  <tbody>\n",
       "    <tr>\n",
       "      <th>BR</th>\n",
       "      <td>Brazil</td>\n",
       "      <td>200</td>\n",
       "      <td>8515767</td>\n",
       "      <td>Brazilia</td>\n",
       "    </tr>\n",
       "    <tr>\n",
       "      <th>RU</th>\n",
       "      <td>Russia</td>\n",
       "      <td>144</td>\n",
       "      <td>17098242</td>\n",
       "      <td>Moscow</td>\n",
       "    </tr>\n",
       "    <tr>\n",
       "      <th>IN</th>\n",
       "      <td>India</td>\n",
       "      <td>1252</td>\n",
       "      <td>3287590</td>\n",
       "      <td>New Delhi</td>\n",
       "    </tr>\n",
       "    <tr>\n",
       "      <th>CH</th>\n",
       "      <td>China</td>\n",
       "      <td>1357</td>\n",
       "      <td>9596961</td>\n",
       "      <td>Beijing</td>\n",
       "    </tr>\n",
       "    <tr>\n",
       "      <th>SA</th>\n",
       "      <td>South Africa</td>\n",
       "      <td>55</td>\n",
       "      <td>1221037</td>\n",
       "      <td>Pretoria</td>\n",
       "    </tr>\n",
       "  </tbody>\n",
       "</table>\n",
       "</div>"
      ],
      "text/plain": [
       "         Country  Population      Area    Capital\n",
       "BR        Brazil         200   8515767   Brazilia\n",
       "RU        Russia         144  17098242     Moscow\n",
       "IN         India        1252   3287590  New Delhi\n",
       "CH         China        1357   9596961    Beijing\n",
       "SA  South Africa          55   1221037   Pretoria"
      ]
     },
     "execution_count": 20,
     "metadata": {},
     "output_type": "execute_result"
    }
   ],
   "source": [
    "file = \"datasets/brics.xlsx\" # define where the file is - Path + Name\n",
    "brics = pd.read_excel(file,index_col=0)\n",
    "brics"
   ]
  },
  {
   "cell_type": "markdown",
   "metadata": {},
   "source": [
    "### load data using SQL files: \n",
    "\n",
    "- go figure it out yourself!"
   ]
  },
  {
   "cell_type": "markdown",
   "metadata": {},
   "source": [
    "#### Now let's look at the hurricane Mangkhut data"
   ]
  },
  {
   "cell_type": "code",
   "execution_count": 41,
   "metadata": {},
   "outputs": [
    {
     "data": {
      "text/html": [
       "<div>\n",
       "<style scoped>\n",
       "    .dataframe tbody tr th:only-of-type {\n",
       "        vertical-align: middle;\n",
       "    }\n",
       "\n",
       "    .dataframe tbody tr th {\n",
       "        vertical-align: top;\n",
       "    }\n",
       "\n",
       "    .dataframe thead th {\n",
       "        text-align: right;\n",
       "    }\n",
       "</style>\n",
       "<table border=\"1\" class=\"dataframe\">\n",
       "  <thead>\n",
       "    <tr style=\"text-align: right;\">\n",
       "      <th></th>\n",
       "      <th>Year</th>\n",
       "      <th>Month</th>\n",
       "      <th>Day</th>\n",
       "      <th>Hour</th>\n",
       "      <th>Lat</th>\n",
       "      <th>Long</th>\n",
       "      <th>Pressure (hPa)</th>\n",
       "      <th>Wind (kt)</th>\n",
       "      <th>Class</th>\n",
       "    </tr>\n",
       "  </thead>\n",
       "  <tbody>\n",
       "    <tr>\n",
       "      <th>0</th>\n",
       "      <td>2018</td>\n",
       "      <td>9</td>\n",
       "      <td>6</td>\n",
       "      <td>12</td>\n",
       "      <td>11.8</td>\n",
       "      <td>170.2</td>\n",
       "      <td>1008</td>\n",
       "      <td>0</td>\n",
       "      <td>2</td>\n",
       "    </tr>\n",
       "    <tr>\n",
       "      <th>1</th>\n",
       "      <td>2018</td>\n",
       "      <td>9</td>\n",
       "      <td>6</td>\n",
       "      <td>18</td>\n",
       "      <td>12.0</td>\n",
       "      <td>169.2</td>\n",
       "      <td>1008</td>\n",
       "      <td>0</td>\n",
       "      <td>2</td>\n",
       "    </tr>\n",
       "    <tr>\n",
       "      <th>2</th>\n",
       "      <td>2018</td>\n",
       "      <td>9</td>\n",
       "      <td>7</td>\n",
       "      <td>0</td>\n",
       "      <td>12.0</td>\n",
       "      <td>167.8</td>\n",
       "      <td>1008</td>\n",
       "      <td>0</td>\n",
       "      <td>2</td>\n",
       "    </tr>\n",
       "    <tr>\n",
       "      <th>3</th>\n",
       "      <td>2018</td>\n",
       "      <td>9</td>\n",
       "      <td>7</td>\n",
       "      <td>6</td>\n",
       "      <td>12.3</td>\n",
       "      <td>166.6</td>\n",
       "      <td>1006</td>\n",
       "      <td>0</td>\n",
       "      <td>2</td>\n",
       "    </tr>\n",
       "    <tr>\n",
       "      <th>4</th>\n",
       "      <td>2018</td>\n",
       "      <td>9</td>\n",
       "      <td>7</td>\n",
       "      <td>12</td>\n",
       "      <td>12.7</td>\n",
       "      <td>165.4</td>\n",
       "      <td>1000</td>\n",
       "      <td>35</td>\n",
       "      <td>3</td>\n",
       "    </tr>\n",
       "    <tr>\n",
       "      <th>5</th>\n",
       "      <td>2018</td>\n",
       "      <td>9</td>\n",
       "      <td>7</td>\n",
       "      <td>18</td>\n",
       "      <td>13.0</td>\n",
       "      <td>163.9</td>\n",
       "      <td>1000</td>\n",
       "      <td>35</td>\n",
       "      <td>3</td>\n",
       "    </tr>\n",
       "    <tr>\n",
       "      <th>6</th>\n",
       "      <td>2018</td>\n",
       "      <td>9</td>\n",
       "      <td>8</td>\n",
       "      <td>0</td>\n",
       "      <td>13.6</td>\n",
       "      <td>162.3</td>\n",
       "      <td>998</td>\n",
       "      <td>40</td>\n",
       "      <td>3</td>\n",
       "    </tr>\n",
       "    <tr>\n",
       "      <th>7</th>\n",
       "      <td>2018</td>\n",
       "      <td>9</td>\n",
       "      <td>8</td>\n",
       "      <td>6</td>\n",
       "      <td>14.3</td>\n",
       "      <td>160.6</td>\n",
       "      <td>996</td>\n",
       "      <td>40</td>\n",
       "      <td>3</td>\n",
       "    </tr>\n",
       "    <tr>\n",
       "      <th>8</th>\n",
       "      <td>2018</td>\n",
       "      <td>9</td>\n",
       "      <td>8</td>\n",
       "      <td>12</td>\n",
       "      <td>14.5</td>\n",
       "      <td>159.2</td>\n",
       "      <td>992</td>\n",
       "      <td>45</td>\n",
       "      <td>3</td>\n",
       "    </tr>\n",
       "    <tr>\n",
       "      <th>9</th>\n",
       "      <td>2018</td>\n",
       "      <td>9</td>\n",
       "      <td>8</td>\n",
       "      <td>18</td>\n",
       "      <td>14.6</td>\n",
       "      <td>157.4</td>\n",
       "      <td>990</td>\n",
       "      <td>50</td>\n",
       "      <td>4</td>\n",
       "    </tr>\n",
       "    <tr>\n",
       "      <th>10</th>\n",
       "      <td>2018</td>\n",
       "      <td>9</td>\n",
       "      <td>9</td>\n",
       "      <td>0</td>\n",
       "      <td>14.8</td>\n",
       "      <td>155.2</td>\n",
       "      <td>975</td>\n",
       "      <td>65</td>\n",
       "      <td>5</td>\n",
       "    </tr>\n",
       "    <tr>\n",
       "      <th>11</th>\n",
       "      <td>2018</td>\n",
       "      <td>9</td>\n",
       "      <td>9</td>\n",
       "      <td>6</td>\n",
       "      <td>15.3</td>\n",
       "      <td>152.9</td>\n",
       "      <td>975</td>\n",
       "      <td>65</td>\n",
       "      <td>5</td>\n",
       "    </tr>\n",
       "    <tr>\n",
       "      <th>12</th>\n",
       "      <td>2018</td>\n",
       "      <td>9</td>\n",
       "      <td>9</td>\n",
       "      <td>12</td>\n",
       "      <td>15.1</td>\n",
       "      <td>151.4</td>\n",
       "      <td>970</td>\n",
       "      <td>70</td>\n",
       "      <td>5</td>\n",
       "    </tr>\n",
       "    <tr>\n",
       "      <th>13</th>\n",
       "      <td>2018</td>\n",
       "      <td>9</td>\n",
       "      <td>9</td>\n",
       "      <td>18</td>\n",
       "      <td>14.6</td>\n",
       "      <td>149.1</td>\n",
       "      <td>955</td>\n",
       "      <td>80</td>\n",
       "      <td>5</td>\n",
       "    </tr>\n",
       "    <tr>\n",
       "      <th>14</th>\n",
       "      <td>2018</td>\n",
       "      <td>9</td>\n",
       "      <td>10</td>\n",
       "      <td>0</td>\n",
       "      <td>14.6</td>\n",
       "      <td>147.5</td>\n",
       "      <td>955</td>\n",
       "      <td>80</td>\n",
       "      <td>5</td>\n",
       "    </tr>\n",
       "    <tr>\n",
       "      <th>15</th>\n",
       "      <td>2018</td>\n",
       "      <td>9</td>\n",
       "      <td>10</td>\n",
       "      <td>6</td>\n",
       "      <td>14.4</td>\n",
       "      <td>145.6</td>\n",
       "      <td>955</td>\n",
       "      <td>80</td>\n",
       "      <td>5</td>\n",
       "    </tr>\n",
       "    <tr>\n",
       "      <th>16</th>\n",
       "      <td>2018</td>\n",
       "      <td>9</td>\n",
       "      <td>10</td>\n",
       "      <td>12</td>\n",
       "      <td>14.2</td>\n",
       "      <td>144.2</td>\n",
       "      <td>950</td>\n",
       "      <td>85</td>\n",
       "      <td>5</td>\n",
       "    </tr>\n",
       "    <tr>\n",
       "      <th>17</th>\n",
       "      <td>2018</td>\n",
       "      <td>9</td>\n",
       "      <td>10</td>\n",
       "      <td>18</td>\n",
       "      <td>14.0</td>\n",
       "      <td>142.6</td>\n",
       "      <td>940</td>\n",
       "      <td>90</td>\n",
       "      <td>5</td>\n",
       "    </tr>\n",
       "    <tr>\n",
       "      <th>18</th>\n",
       "      <td>2018</td>\n",
       "      <td>9</td>\n",
       "      <td>11</td>\n",
       "      <td>0</td>\n",
       "      <td>14.0</td>\n",
       "      <td>141.3</td>\n",
       "      <td>935</td>\n",
       "      <td>95</td>\n",
       "      <td>5</td>\n",
       "    </tr>\n",
       "    <tr>\n",
       "      <th>19</th>\n",
       "      <td>2018</td>\n",
       "      <td>9</td>\n",
       "      <td>11</td>\n",
       "      <td>6</td>\n",
       "      <td>13.9</td>\n",
       "      <td>139.8</td>\n",
       "      <td>915</td>\n",
       "      <td>105</td>\n",
       "      <td>5</td>\n",
       "    </tr>\n",
       "    <tr>\n",
       "      <th>20</th>\n",
       "      <td>2018</td>\n",
       "      <td>9</td>\n",
       "      <td>11</td>\n",
       "      <td>12</td>\n",
       "      <td>13.7</td>\n",
       "      <td>138.7</td>\n",
       "      <td>905</td>\n",
       "      <td>110</td>\n",
       "      <td>5</td>\n",
       "    </tr>\n",
       "    <tr>\n",
       "      <th>21</th>\n",
       "      <td>2018</td>\n",
       "      <td>9</td>\n",
       "      <td>11</td>\n",
       "      <td>18</td>\n",
       "      <td>14.0</td>\n",
       "      <td>137.4</td>\n",
       "      <td>905</td>\n",
       "      <td>110</td>\n",
       "      <td>5</td>\n",
       "    </tr>\n",
       "    <tr>\n",
       "      <th>22</th>\n",
       "      <td>2018</td>\n",
       "      <td>9</td>\n",
       "      <td>12</td>\n",
       "      <td>0</td>\n",
       "      <td>13.9</td>\n",
       "      <td>136.2</td>\n",
       "      <td>905</td>\n",
       "      <td>110</td>\n",
       "      <td>5</td>\n",
       "    </tr>\n",
       "    <tr>\n",
       "      <th>23</th>\n",
       "      <td>2018</td>\n",
       "      <td>9</td>\n",
       "      <td>12</td>\n",
       "      <td>6</td>\n",
       "      <td>14.0</td>\n",
       "      <td>135.2</td>\n",
       "      <td>905</td>\n",
       "      <td>110</td>\n",
       "      <td>5</td>\n",
       "    </tr>\n",
       "    <tr>\n",
       "      <th>24</th>\n",
       "      <td>2018</td>\n",
       "      <td>9</td>\n",
       "      <td>12</td>\n",
       "      <td>12</td>\n",
       "      <td>14.3</td>\n",
       "      <td>134.0</td>\n",
       "      <td>905</td>\n",
       "      <td>110</td>\n",
       "      <td>5</td>\n",
       "    </tr>\n",
       "    <tr>\n",
       "      <th>25</th>\n",
       "      <td>2018</td>\n",
       "      <td>9</td>\n",
       "      <td>12</td>\n",
       "      <td>18</td>\n",
       "      <td>14.4</td>\n",
       "      <td>132.5</td>\n",
       "      <td>905</td>\n",
       "      <td>110</td>\n",
       "      <td>5</td>\n",
       "    </tr>\n",
       "    <tr>\n",
       "      <th>26</th>\n",
       "      <td>2018</td>\n",
       "      <td>9</td>\n",
       "      <td>13</td>\n",
       "      <td>0</td>\n",
       "      <td>14.5</td>\n",
       "      <td>131.4</td>\n",
       "      <td>905</td>\n",
       "      <td>110</td>\n",
       "      <td>5</td>\n",
       "    </tr>\n",
       "    <tr>\n",
       "      <th>27</th>\n",
       "      <td>2018</td>\n",
       "      <td>9</td>\n",
       "      <td>13</td>\n",
       "      <td>6</td>\n",
       "      <td>14.8</td>\n",
       "      <td>130.0</td>\n",
       "      <td>905</td>\n",
       "      <td>110</td>\n",
       "      <td>5</td>\n",
       "    </tr>\n",
       "    <tr>\n",
       "      <th>28</th>\n",
       "      <td>2018</td>\n",
       "      <td>9</td>\n",
       "      <td>13</td>\n",
       "      <td>12</td>\n",
       "      <td>14.9</td>\n",
       "      <td>128.9</td>\n",
       "      <td>905</td>\n",
       "      <td>110</td>\n",
       "      <td>5</td>\n",
       "    </tr>\n",
       "    <tr>\n",
       "      <th>29</th>\n",
       "      <td>2018</td>\n",
       "      <td>9</td>\n",
       "      <td>13</td>\n",
       "      <td>18</td>\n",
       "      <td>15.2</td>\n",
       "      <td>127.9</td>\n",
       "      <td>905</td>\n",
       "      <td>110</td>\n",
       "      <td>5</td>\n",
       "    </tr>\n",
       "    <tr>\n",
       "      <th>30</th>\n",
       "      <td>2018</td>\n",
       "      <td>9</td>\n",
       "      <td>14</td>\n",
       "      <td>0</td>\n",
       "      <td>16.0</td>\n",
       "      <td>126.9</td>\n",
       "      <td>905</td>\n",
       "      <td>110</td>\n",
       "      <td>5</td>\n",
       "    </tr>\n",
       "    <tr>\n",
       "      <th>31</th>\n",
       "      <td>2018</td>\n",
       "      <td>9</td>\n",
       "      <td>14</td>\n",
       "      <td>6</td>\n",
       "      <td>16.7</td>\n",
       "      <td>125.7</td>\n",
       "      <td>905</td>\n",
       "      <td>110</td>\n",
       "      <td>5</td>\n",
       "    </tr>\n",
       "    <tr>\n",
       "      <th>32</th>\n",
       "      <td>2018</td>\n",
       "      <td>9</td>\n",
       "      <td>14</td>\n",
       "      <td>12</td>\n",
       "      <td>17.4</td>\n",
       "      <td>124.1</td>\n",
       "      <td>905</td>\n",
       "      <td>110</td>\n",
       "      <td>5</td>\n",
       "    </tr>\n",
       "    <tr>\n",
       "      <th>33</th>\n",
       "      <td>2018</td>\n",
       "      <td>9</td>\n",
       "      <td>14</td>\n",
       "      <td>18</td>\n",
       "      <td>18.0</td>\n",
       "      <td>122.3</td>\n",
       "      <td>905</td>\n",
       "      <td>110</td>\n",
       "      <td>5</td>\n",
       "    </tr>\n",
       "    <tr>\n",
       "      <th>34</th>\n",
       "      <td>2018</td>\n",
       "      <td>9</td>\n",
       "      <td>15</td>\n",
       "      <td>0</td>\n",
       "      <td>18.0</td>\n",
       "      <td>120.5</td>\n",
       "      <td>940</td>\n",
       "      <td>90</td>\n",
       "      <td>5</td>\n",
       "    </tr>\n",
       "    <tr>\n",
       "      <th>35</th>\n",
       "      <td>2018</td>\n",
       "      <td>9</td>\n",
       "      <td>15</td>\n",
       "      <td>6</td>\n",
       "      <td>18.5</td>\n",
       "      <td>119.7</td>\n",
       "      <td>940</td>\n",
       "      <td>90</td>\n",
       "      <td>5</td>\n",
       "    </tr>\n",
       "    <tr>\n",
       "      <th>36</th>\n",
       "      <td>2018</td>\n",
       "      <td>9</td>\n",
       "      <td>15</td>\n",
       "      <td>12</td>\n",
       "      <td>19.2</td>\n",
       "      <td>118.3</td>\n",
       "      <td>950</td>\n",
       "      <td>85</td>\n",
       "      <td>5</td>\n",
       "    </tr>\n",
       "    <tr>\n",
       "      <th>37</th>\n",
       "      <td>2018</td>\n",
       "      <td>9</td>\n",
       "      <td>15</td>\n",
       "      <td>18</td>\n",
       "      <td>19.8</td>\n",
       "      <td>117.0</td>\n",
       "      <td>955</td>\n",
       "      <td>80</td>\n",
       "      <td>5</td>\n",
       "    </tr>\n",
       "    <tr>\n",
       "      <th>38</th>\n",
       "      <td>2018</td>\n",
       "      <td>9</td>\n",
       "      <td>16</td>\n",
       "      <td>0</td>\n",
       "      <td>20.6</td>\n",
       "      <td>115.3</td>\n",
       "      <td>960</td>\n",
       "      <td>75</td>\n",
       "      <td>5</td>\n",
       "    </tr>\n",
       "    <tr>\n",
       "      <th>39</th>\n",
       "      <td>2018</td>\n",
       "      <td>9</td>\n",
       "      <td>16</td>\n",
       "      <td>6</td>\n",
       "      <td>21.7</td>\n",
       "      <td>113.5</td>\n",
       "      <td>960</td>\n",
       "      <td>75</td>\n",
       "      <td>5</td>\n",
       "    </tr>\n",
       "    <tr>\n",
       "      <th>40</th>\n",
       "      <td>2018</td>\n",
       "      <td>9</td>\n",
       "      <td>16</td>\n",
       "      <td>12</td>\n",
       "      <td>22.2</td>\n",
       "      <td>111.6</td>\n",
       "      <td>970</td>\n",
       "      <td>65</td>\n",
       "      <td>5</td>\n",
       "    </tr>\n",
       "    <tr>\n",
       "      <th>41</th>\n",
       "      <td>2018</td>\n",
       "      <td>9</td>\n",
       "      <td>16</td>\n",
       "      <td>18</td>\n",
       "      <td>22.7</td>\n",
       "      <td>109.7</td>\n",
       "      <td>980</td>\n",
       "      <td>55</td>\n",
       "      <td>4</td>\n",
       "    </tr>\n",
       "    <tr>\n",
       "      <th>42</th>\n",
       "      <td>2018</td>\n",
       "      <td>9</td>\n",
       "      <td>17</td>\n",
       "      <td>0</td>\n",
       "      <td>23.2</td>\n",
       "      <td>108.3</td>\n",
       "      <td>992</td>\n",
       "      <td>45</td>\n",
       "      <td>3</td>\n",
       "    </tr>\n",
       "    <tr>\n",
       "      <th>43</th>\n",
       "      <td>2018</td>\n",
       "      <td>9</td>\n",
       "      <td>17</td>\n",
       "      <td>6</td>\n",
       "      <td>24.0</td>\n",
       "      <td>107.0</td>\n",
       "      <td>998</td>\n",
       "      <td>0</td>\n",
       "      <td>2</td>\n",
       "    </tr>\n",
       "    <tr>\n",
       "      <th>44</th>\n",
       "      <td>2018</td>\n",
       "      <td>9</td>\n",
       "      <td>17</td>\n",
       "      <td>12</td>\n",
       "      <td>24.0</td>\n",
       "      <td>105.6</td>\n",
       "      <td>1002</td>\n",
       "      <td>0</td>\n",
       "      <td>2</td>\n",
       "    </tr>\n",
       "    <tr>\n",
       "      <th>45</th>\n",
       "      <td>2018</td>\n",
       "      <td>9</td>\n",
       "      <td>17</td>\n",
       "      <td>18</td>\n",
       "      <td>24.1</td>\n",
       "      <td>103.9</td>\n",
       "      <td>1004</td>\n",
       "      <td>0</td>\n",
       "      <td>2</td>\n",
       "    </tr>\n",
       "  </tbody>\n",
       "</table>\n",
       "</div>"
      ],
      "text/plain": [
       "    Year  Month  Day  Hour   Lat   Long  Pressure (hPa)  Wind (kt)  Class\n",
       "0   2018      9    6    12  11.8  170.2            1008          0      2\n",
       "1   2018      9    6    18  12.0  169.2            1008          0      2\n",
       "2   2018      9    7     0  12.0  167.8            1008          0      2\n",
       "3   2018      9    7     6  12.3  166.6            1006          0      2\n",
       "4   2018      9    7    12  12.7  165.4            1000         35      3\n",
       "5   2018      9    7    18  13.0  163.9            1000         35      3\n",
       "6   2018      9    8     0  13.6  162.3             998         40      3\n",
       "7   2018      9    8     6  14.3  160.6             996         40      3\n",
       "8   2018      9    8    12  14.5  159.2             992         45      3\n",
       "9   2018      9    8    18  14.6  157.4             990         50      4\n",
       "10  2018      9    9     0  14.8  155.2             975         65      5\n",
       "11  2018      9    9     6  15.3  152.9             975         65      5\n",
       "12  2018      9    9    12  15.1  151.4             970         70      5\n",
       "13  2018      9    9    18  14.6  149.1             955         80      5\n",
       "14  2018      9   10     0  14.6  147.5             955         80      5\n",
       "15  2018      9   10     6  14.4  145.6             955         80      5\n",
       "16  2018      9   10    12  14.2  144.2             950         85      5\n",
       "17  2018      9   10    18  14.0  142.6             940         90      5\n",
       "18  2018      9   11     0  14.0  141.3             935         95      5\n",
       "19  2018      9   11     6  13.9  139.8             915        105      5\n",
       "20  2018      9   11    12  13.7  138.7             905        110      5\n",
       "21  2018      9   11    18  14.0  137.4             905        110      5\n",
       "22  2018      9   12     0  13.9  136.2             905        110      5\n",
       "23  2018      9   12     6  14.0  135.2             905        110      5\n",
       "24  2018      9   12    12  14.3  134.0             905        110      5\n",
       "25  2018      9   12    18  14.4  132.5             905        110      5\n",
       "26  2018      9   13     0  14.5  131.4             905        110      5\n",
       "27  2018      9   13     6  14.8  130.0             905        110      5\n",
       "28  2018      9   13    12  14.9  128.9             905        110      5\n",
       "29  2018      9   13    18  15.2  127.9             905        110      5\n",
       "30  2018      9   14     0  16.0  126.9             905        110      5\n",
       "31  2018      9   14     6  16.7  125.7             905        110      5\n",
       "32  2018      9   14    12  17.4  124.1             905        110      5\n",
       "33  2018      9   14    18  18.0  122.3             905        110      5\n",
       "34  2018      9   15     0  18.0  120.5             940         90      5\n",
       "35  2018      9   15     6  18.5  119.7             940         90      5\n",
       "36  2018      9   15    12  19.2  118.3             950         85      5\n",
       "37  2018      9   15    18  19.8  117.0             955         80      5\n",
       "38  2018      9   16     0  20.6  115.3             960         75      5\n",
       "39  2018      9   16     6  21.7  113.5             960         75      5\n",
       "40  2018      9   16    12  22.2  111.6             970         65      5\n",
       "41  2018      9   16    18  22.7  109.7             980         55      4\n",
       "42  2018      9   17     0  23.2  108.3             992         45      3\n",
       "43  2018      9   17     6  24.0  107.0             998          0      2\n",
       "44  2018      9   17    12  24.0  105.6            1002          0      2\n",
       "45  2018      9   17    18  24.1  103.9            1004          0      2"
      ]
     },
     "execution_count": 41,
     "metadata": {},
     "output_type": "execute_result"
    }
   ],
   "source": [
    "mangkhut = pd.read_excel(\"datasets/mangkhut.xlsx\")\n",
    "\n",
    "mangkhut"
   ]
  },
  {
   "cell_type": "code",
   "execution_count": 3,
   "metadata": {},
   "outputs": [
    {
     "data": {
      "text/html": [
       "<div>\n",
       "<style scoped>\n",
       "    .dataframe tbody tr th:only-of-type {\n",
       "        vertical-align: middle;\n",
       "    }\n",
       "\n",
       "    .dataframe tbody tr th {\n",
       "        vertical-align: top;\n",
       "    }\n",
       "\n",
       "    .dataframe thead th {\n",
       "        text-align: right;\n",
       "    }\n",
       "</style>\n",
       "<table border=\"1\" class=\"dataframe\">\n",
       "  <thead>\n",
       "    <tr style=\"text-align: right;\">\n",
       "      <th></th>\n",
       "      <th>Year</th>\n",
       "      <th>Month</th>\n",
       "      <th>Day</th>\n",
       "      <th>Hour</th>\n",
       "      <th>Lat</th>\n",
       "      <th>Long</th>\n",
       "      <th>Pressure (hPa)</th>\n",
       "      <th>Wind (kt)</th>\n",
       "      <th>Class</th>\n",
       "    </tr>\n",
       "  </thead>\n",
       "  <tbody>\n",
       "    <tr>\n",
       "      <th>0</th>\n",
       "      <td>2018</td>\n",
       "      <td>9</td>\n",
       "      <td>6</td>\n",
       "      <td>12</td>\n",
       "      <td>11.8</td>\n",
       "      <td>170.2</td>\n",
       "      <td>1008</td>\n",
       "      <td>0</td>\n",
       "      <td>2</td>\n",
       "    </tr>\n",
       "    <tr>\n",
       "      <th>1</th>\n",
       "      <td>2018</td>\n",
       "      <td>9</td>\n",
       "      <td>6</td>\n",
       "      <td>18</td>\n",
       "      <td>12.0</td>\n",
       "      <td>169.2</td>\n",
       "      <td>1008</td>\n",
       "      <td>0</td>\n",
       "      <td>2</td>\n",
       "    </tr>\n",
       "    <tr>\n",
       "      <th>2</th>\n",
       "      <td>2018</td>\n",
       "      <td>9</td>\n",
       "      <td>7</td>\n",
       "      <td>0</td>\n",
       "      <td>12.0</td>\n",
       "      <td>167.8</td>\n",
       "      <td>1008</td>\n",
       "      <td>0</td>\n",
       "      <td>2</td>\n",
       "    </tr>\n",
       "    <tr>\n",
       "      <th>3</th>\n",
       "      <td>2018</td>\n",
       "      <td>9</td>\n",
       "      <td>7</td>\n",
       "      <td>6</td>\n",
       "      <td>12.3</td>\n",
       "      <td>166.6</td>\n",
       "      <td>1006</td>\n",
       "      <td>0</td>\n",
       "      <td>2</td>\n",
       "    </tr>\n",
       "    <tr>\n",
       "      <th>4</th>\n",
       "      <td>2018</td>\n",
       "      <td>9</td>\n",
       "      <td>7</td>\n",
       "      <td>12</td>\n",
       "      <td>12.7</td>\n",
       "      <td>165.4</td>\n",
       "      <td>1000</td>\n",
       "      <td>35</td>\n",
       "      <td>3</td>\n",
       "    </tr>\n",
       "  </tbody>\n",
       "</table>\n",
       "</div>"
      ],
      "text/plain": [
       "   Year  Month  Day  Hour   Lat   Long  Pressure (hPa)  Wind (kt)  Class\n",
       "0  2018      9    6    12  11.8  170.2            1008          0      2\n",
       "1  2018      9    6    18  12.0  169.2            1008          0      2\n",
       "2  2018      9    7     0  12.0  167.8            1008          0      2\n",
       "3  2018      9    7     6  12.3  166.6            1006          0      2\n",
       "4  2018      9    7    12  12.7  165.4            1000         35      3"
      ]
     },
     "execution_count": 3,
     "metadata": {},
     "output_type": "execute_result"
    }
   ],
   "source": [
    "mangkhut = pd.read_excel(\"datasets/mangkhut.xlsx\")\n",
    "\n",
    "mangkhut.head()\n",
    "#print(mangkhut.columns)"
   ]
  },
  {
   "cell_type": "code",
   "execution_count": 5,
   "metadata": {},
   "outputs": [
    {
     "data": {
      "image/png": "[encoded data removed]",
      "text/plain": [
       "<Figure size 432x288 with 1 Axes>"
      ]
     },
     "metadata": {},
     "output_type": "display_data"
    }
   ],
   "source": [
    "mangkhut = pd.read_excel(\"datasets/mangkhut.xlsx\")\n",
    "\n",
    "# or you could do:\n",
    "plt.scatter(mangkhut['Pressure (hPa)'],mangkhut['Wind (kt)'])\n",
    "\n",
    "plt.xlabel('Pressure, nPa')\n",
    "plt.ylabel(\"Max Wind speed, kt\")\n",
    "plt.title('Speed versus Pressure')\n",
    "plt.show()"
   ]
  }
 ],
 "metadata": {
  "kernelspec": {
   "display_name": "Python 3",
   "language": "python",
   "name": "python3"
  },
  "language_info": {
   "codemirror_mode": {
    "name": "ipython",
    "version": 3
   },
   "file_extension": ".py",
   "mimetype": "text/x-python",
   "name": "python",
   "nbconvert_exporter": "python",
   "pygments_lexer": "ipython3",
   "version": "3.7.4"
  }
 },
 "nbformat": 4,
 "nbformat_minor": 2
}
