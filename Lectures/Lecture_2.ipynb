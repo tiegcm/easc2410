{
 "cells": [
  {
   "cell_type": "markdown",
   "metadata": {},
   "source": [
    "## Jupyter notebook for Lecture #2: Variables, Operations, Data structures\n",
    "\n",
    "## A. Python Data types"
   ]
  },
  {
   "cell_type": "markdown",
   "metadata": {},
   "source": [
    "### 1. Integers\n",
    "\n",
    "In Python 3, there is effectively no limit to how long an integer value can be. Of course, it is constrained by the amount of memory your system has, as are all things, \n",
    "but beyond that an integer can be as long as you need it to be:"
   ]
  },
  {
   "cell_type": "code",
   "execution_count": 1,
   "metadata": {},
   "outputs": [
    {
     "name": "stdout",
     "output_type": "stream",
     "text": [
      "123123123123123123123123123123123123123123123123321312321234\n"
     ]
    }
   ],
   "source": [
    "print(123123123123123123123123123123123123123123123123321312321233 + 1) # print a very large integer + 1"
   ]
  },
  {
   "cell_type": "markdown",
   "metadata": {},
   "source": [
    "Python interprets a sequence of **decimal** digits without any prefix to be a decimal number:"
   ]
  },
  {
   "cell_type": "code",
   "execution_count": 2,
   "metadata": {},
   "outputs": [
    {
     "name": "stdout",
     "output_type": "stream",
     "text": [
      "10\n"
     ]
    }
   ],
   "source": [
    "print(10) # here 10 is an integer"
   ]
  },
  {
   "cell_type": "markdown",
   "metadata": {},
   "source": [
    "Python can also do non-decimal numbers. The following line prints out octal, hexadecimal and binary number 10, respectively:"
   ]
  },
  {
   "cell_type": "code",
   "execution_count": 3,
   "metadata": {},
   "outputs": [
    {
     "name": "stdout",
     "output_type": "stream",
     "text": [
      "8 16 2\n"
     ]
    }
   ],
   "source": [
    "print(0o10, 0x10, 0b10) "
   ]
  },
  {
   "cell_type": "markdown",
   "metadata": {},
   "source": [
    "### 2. Floating-point numbers\n",
    "\n",
    "Floating-point numbers:"
   ]
  },
  {
   "cell_type": "code",
   "execution_count": 1,
   "metadata": {},
   "outputs": [
    {
     "name": "stdout",
     "output_type": "stream",
     "text": [
      "3.14\n",
      "3.0\n",
      "0.3\n"
     ]
    }
   ],
   "source": [
    "print(3.14) # 3.14\n",
    "print(3.)   # 3. represents 3.0\n",
    "print(.3)   # .3 represents 0.3"
   ]
  },
  {
   "cell_type": "code",
   "execution_count": 5,
   "metadata": {},
   "outputs": [
    {
     "name": "stdout",
     "output_type": "stream",
     "text": [
      "470.0\n",
      "3.9\n",
      "1.6e-19\n"
     ]
    }
   ],
   "source": [
    "# Optionally, the character e or E followed by a positive or negative integer\n",
    "# may be appended to specify scientific notation\n",
    "\n",
    "print(4.7e2)\n",
    "print(3.9e0)\n",
    "print(1.6e-19)"
   ]
  },
  {
   "cell_type": "markdown",
   "metadata": {},
   "source": [
    "Almost all platforms represent Python float values as 64-bit “double-precision” values, \n",
    "\n",
    "according to the IEEE 754 standard. In that case, the maximum value a floating-point number \n",
    "can have is approximately $1.8 \\times 10^{308}$. Python will indicate a number greater than that by the string \"**inf**\":"
   ]
  },
  {
   "cell_type": "code",
   "execution_count": 2,
   "metadata": {},
   "outputs": [
    {
     "name": "stdout",
     "output_type": "stream",
     "text": [
      "the maximum floating-point number is  1.79e+308\n",
      "try something large that 1.79e308 is gonna be inf\n"
     ]
    }
   ],
   "source": [
    "print(\"the maximum floating-point number is \", 1.79e308) # the maximum floating-point number (approximately)\n",
    "print(\"try something large that 1.79e308 is gonna be\", 1.8e308) # this is called \"blow up\""
   ]
  },
  {
   "cell_type": "markdown",
   "metadata": {},
   "source": [
    "### 3. Strings\n",
    "\n",
    "- Strings are sequences of character data. The string type in Python is called “str”.\n",
    "\n",
    "- String literals can be delimited using either single or double quotes. \n",
    "\n",
    "- All the characters between the opening delimiter and matching closing delimiter are part of the string:"
   ]
  },
  {
   "cell_type": "code",
   "execution_count": 3,
   "metadata": {
    "scrolled": true
   },
   "outputs": [
    {
     "name": "stdout",
     "output_type": "stream",
     "text": [
      "I am a string.\n",
      "I am too.\n"
     ]
    }
   ],
   "source": [
    "print(\"I am a string.\") # print out a string\n",
    "print('I am too.')"
   ]
  },
  {
   "cell_type": "markdown",
   "metadata": {},
   "source": [
    "A string can also be empty:"
   ]
  },
  {
   "cell_type": "code",
   "execution_count": 4,
   "metadata": {},
   "outputs": [
    {
     "name": "stdout",
     "output_type": "stream",
     "text": [
      "\n"
     ]
    }
   ],
   "source": [
    "print('') # define an empty string"
   ]
  },
  {
   "cell_type": "markdown",
   "metadata": {},
   "source": [
    "Specifying a backslash in front of the quote character in a string “escapes” it and causes Python to suppress its usual special meaning. \n",
    "\n",
    "It is then interpreted simply as a literal single quote character.\n",
    "The same syntax works in a string delimited by double quotes as well:"
   ]
  },
  {
   "cell_type": "code",
   "execution_count": 5,
   "metadata": {},
   "outputs": [
    {
     "name": "stdout",
     "output_type": "stream",
     "text": [
      "This string contains a single quote (') character.\n",
      "This string contains a double quote (\") character.\n"
     ]
    }
   ],
   "source": [
    "print('This string contains a single quote (\\') character.')\n",
    "print(\"This string contains a double quote (\\\") character.\")"
   ]
  },
  {
   "cell_type": "markdown",
   "metadata": {},
   "source": [
    "### 4. Boolean\n",
    "\n",
    "- Python 3 provides a Boolean data type. True = 1 and False = 0 when working with integer and/or float numbers Objects of Boolean type may have one of two values, True or False.\n",
    "\n",
    "- As you will see in upcoming tutorials, expressions in Python are often evaluated in Boolean context,  meaning they are interpreted to represent truth or falsehood. \n",
    "\n",
    "- A value that is true in Boolean context is sometimes said to be “truthy”,  and one that is false in Boolean context is said to be “falsy”. \n",
    "\n",
    "|      +     | True          | False | \n",
    "| ----------|:-------------:| -----:|\n",
    "| True      | True          | True |\n",
    "| False     | True      |   False |\n",
    "\n",
    "|      *     | True          | False |\n",
    "| ----------|:-------------:| -----:|\n",
    "| True      | True          | False |\n",
    "| False     | False      |   False |\n",
    "Here are some examples of how the Boolean type looks like"
   ]
  },
  {
   "cell_type": "code",
   "execution_count": 6,
   "metadata": {
    "scrolled": true
   },
   "outputs": [
    {
     "name": "stdout",
     "output_type": "stream",
     "text": [
      "True <class 'bool'>\n",
      "2.0 <class 'float'>\n",
      "False <class 'bool'>\n",
      "1 <class 'int'>\n",
      "0 <class 'int'>\n"
     ]
    }
   ],
   "source": [
    "# examples of Boolean data type \n",
    "\n",
    "print(True, type(True))\n",
    "print(True*2.0, type(True*2.0))\n",
    "print(False, type(False))\n",
    "print(True+False, type(True+False))\n",
    "print(True*False, type(True*False))"
   ]
  },
  {
   "cell_type": "markdown",
   "metadata": {},
   "source": [
    "Here we used another function named \"type( )\", which gives you the type of a variable"
   ]
  },
  {
   "cell_type": "markdown",
   "metadata": {},
   "source": [
    "### 5. Complex Numbers\n",
    "\n",
    "complex numbers are specified as **real part**+**imaginary part** j\n",
    "- for example"
   ]
  },
  {
   "cell_type": "code",
   "execution_count": 9,
   "metadata": {
    "scrolled": false
   },
   "outputs": [
    {
     "name": "stdout",
     "output_type": "stream",
     "text": [
      "(2+3j)\n",
      "(-1+0j)\n",
      "<class 'complex'>\n"
     ]
    }
   ],
   "source": [
    "print(2+3j) # a complex number with a real part 2 and an imaginary part 3\n",
    "print(1j*1j)\n",
    "print(type(2+3j)) # print out the type of the number 2+3j"
   ]
  },
  {
   "cell_type": "markdown",
   "metadata": {},
   "source": [
    "## Operations on variables"
   ]
  },
  {
   "cell_type": "code",
   "execution_count": 12,
   "metadata": {},
   "outputs": [],
   "source": [
    "# Let's practice variable types\n",
    "# Fisrst define the following variables and assign values using \"=\"\n",
    "number = 1            # an integer\n",
    "Number = 1.0          # a floating point - notice the decimal point\n",
    "NUMBER = '1'          # a string - notice the quotation marks\n",
    "my_string = \"HKU\"     # a string with three characters, double quotes are also ok\n",
    "morecomplex = 3 + 1j  # a complex number 3+1i \n",
    "bools=True            # A boolean variable (True/False or 1/0)\n",
    "\n",
    "# ====< now use the print() and type() functions to find the type for each variable >====\n",
    "# put you code here:\n"
   ]
  },
  {
   "cell_type": "code",
   "execution_count": 13,
   "metadata": {},
   "outputs": [
    {
     "data": {
      "text/plain": [
       "'Great'"
      ]
     },
     "execution_count": 13,
     "metadata": {},
     "output_type": "execute_result"
    }
   ],
   "source": [
    "# String operations\n",
    "# \n",
    "# 1. Strings can be denoted with single, double or triple quotes\n",
    "string1 = 'HKU'\n",
    "string2 = \"is\"\n",
    "string3 = \"\"\"Great\"\"\"\n",
    "\n",
    "# ====< now write some codes to print out the three strings in three separate rows >====\n",
    "# put your code here:\n",
    "string4 = string1+string2+string3\n",
    "string4[5:10]"
   ]
  },
  {
   "cell_type": "markdown",
   "metadata": {},
   "source": [
    "## Data structure: Lists"
   ]
  },
  {
   "cell_type": "code",
   "execution_count": 14,
   "metadata": {},
   "outputs": [
    {
     "name": "stdout",
     "output_type": "stream",
     "text": [
      "['a', 2.0, '400', True, 42, [24, 2]] <class 'list'>\n"
     ]
    }
   ],
   "source": [
    "# examples on Lists\n",
    "# \n",
    "mylist=['a', 2.0 ,'400' ,True, 42, [24,2]] # defines a list\n",
    "print(mylist, type(mylist)) # prints the list and its type using the print() and type() functions"
   ]
  },
  {
   "cell_type": "code",
   "execution_count": 15,
   "metadata": {},
   "outputs": [
    {
     "data": {
      "text/plain": [
       "['a', 2.0, '400', True, 42, [24, 2]]"
      ]
     },
     "execution_count": 15,
     "metadata": {},
     "output_type": "execute_result"
    }
   ],
   "source": [
    "# you can also print the list without using the print() function\n",
    "mylist"
   ]
  },
  {
   "cell_type": "code",
   "execution_count": 16,
   "metadata": {},
   "outputs": [],
   "source": [
    "# Remember that mylist is already defined in the above cell,\n",
    "# now let's practice some operations on lists\n",
    "#\n",
    "# ====< print out the third element in \"mylist\" (Hint: starting from zero) >====\n",
    "# put your code here:\n",
    "\n",
    "\n",
    "# ====< print out the last element in \"mylist\" >====\n",
    "# put your code here:\n",
    "\n",
    "\n",
    "# ====< print out the last three in \"mylist\" >====\n",
    "# put your code here:\n",
    "\n"
   ]
  },
  {
   "cell_type": "code",
   "execution_count": 17,
   "metadata": {},
   "outputs": [
    {
     "name": "stdout",
     "output_type": "stream",
     "text": [
      "['a', 26.3, '400', True, 42, [24, 2]]\n",
      "['a', 26.3, '400', 42, [24, 2]]\n",
      "[26.3, '400']\n"
     ]
    }
   ],
   "source": [
    "# Unlike strings, elements in lists can be change directly using indexing\n",
    "# for example let's change the second element in mylist to be 26.3\n",
    "# here's what we do (why index 1 rather than 2?)\n",
    "mylist[1]=26.3          # replaces the second element \n",
    "print(mylist)           # print out mylist to check the answer\n",
    "\n",
    "# you can also delete elements from lists\n",
    "# for example the following code removes the fourth element\n",
    "del mylist[3]           # deletes the fourth element \n",
    "print(mylist)\n",
    "\n",
    "# Like strings, you can also slice out a chunk of a list, and assign it to another variable:\n",
    "newlist=mylist[1:3] # takes the 2nd and 3rd values and puts in newlist\n",
    "print(newlist)"
   ]
  },
  {
   "cell_type": "code",
   "execution_count": 18,
   "metadata": {},
   "outputs": [
    {
     "name": "stdout",
     "output_type": "stream",
     "text": [
      "After making 'mycopy' a copy of 'mylist': \n",
      "mycopy =  ['a', 26.3, '400', 42, [24, 2]]\n",
      "mylist =  ['a', 26.3, '400', 42, [24, 2]]\n",
      "After you changed the second element of 'mycopy': \n",
      "mycopy =  ['a', False, '400', 42, [24, 2]]\n",
      "mylist =  ['a', False, '400', 42, [24, 2]]\n"
     ]
    }
   ],
   "source": [
    "# Making copies of lists behaves in ways you might not expect if you are coming from other programming languages. \n",
    "# We will learn more about copys of lists in later lectures, but here are some pro tips for now.\n",
    "# You can assign a list to another variable name like this:\n",
    "\n",
    "mycopy=mylist # mycopy is now a \"copy\" of mylist\n",
    "              # However it is inextricably bound to the original, \n",
    "              # so if you change one, you will change the other.\n",
    "print(\"After making 'mycopy' a copy of 'mylist': \")\n",
    "print(\"mycopy = \", mycopy)\n",
    "print(\"mylist = \", mylist) \n",
    "\n",
    "# now change the second element of mycopy to be False:\n",
    "mycopy[1] = False\n",
    "\n",
    "# print out both lists \"mylist\" and \"mycopy\", you get:\n",
    "print(\"After you changed the second element of 'mycopy': \")\n",
    "print(\"mycopy = \", mycopy)\n",
    "print(\"mylist = \", mylist)"
   ]
  },
  {
   "cell_type": "code",
   "execution_count": 19,
   "metadata": {},
   "outputs": [
    {
     "name": "stdout",
     "output_type": "stream",
     "text": [
      "After making 'mycopy' a copy of 'mylist': \n",
      "mycopy =  ['a', False, '400', 42, [24, 2]]\n",
      "mylist =  ['a', False, '400', 42, [24, 2]]\n",
      "After you changed the second element of 'mycopy': \n",
      "mycopy =  ['a', 301.0, '400', 42, [24, 2]]\n",
      "mylist =  ['a', False, '400', 42, [24, 2]]\n"
     ]
    }
   ],
   "source": [
    "# To spawn a list that is an independent object, you can do this:\n",
    "\n",
    "mycopy=mylist[:] # mycopy is now an independent copy of mylist\n",
    "                 # it is not bound to the original, \n",
    "                 # so if you change one, you won't change the other.\n",
    "print(\"After making 'mycopy' a copy of 'mylist': \")\n",
    "print(\"mycopy = \", mycopy)\n",
    "print(\"mylist = \", mylist) \n",
    "\n",
    "# now change the second element of mycopy to be False:\n",
    "mycopy[1] = 3.01e2\n",
    "\n",
    "# print out both lists \"mylist\" and \"mycopy\", you get:\n",
    "print(\"After you changed the second element of 'mycopy': \")\n",
    "print(\"mycopy = \", mycopy)\n",
    "print(\"mylist = \", mylist)"
   ]
  },
  {
   "cell_type": "code",
   "execution_count": 20,
   "metadata": {},
   "outputs": [
    {
     "data": {
      "text/plain": [
       "['a', False, '400', 42, [24, 2], -18]"
      ]
     },
     "execution_count": 20,
     "metadata": {},
     "output_type": "execute_result"
    }
   ],
   "source": [
    "mylist.append(-18)\n",
    "mylist"
   ]
  },
  {
   "cell_type": "code",
   "execution_count": 21,
   "metadata": {},
   "outputs": [
    {
     "name": "stdout",
     "output_type": "stream",
     "text": [
      "1\n",
      "3\n"
     ]
    }
   ],
   "source": [
    "print(mylist.count(False)) # returns the number of times the argument occurs in the list.\n",
    "print(mylist.index(42))    # returns the position(index) of the argument in the list"
   ]
  },
  {
   "cell_type": "code",
   "execution_count": 22,
   "metadata": {},
   "outputs": [
    {
     "name": "stdout",
     "output_type": "stream",
     "text": [
      "[2, 6, 10, 14, 18]\n",
      "[0, 3, 6]\n"
     ]
    }
   ],
   "source": [
    "# now use the range() function to create lists with numbers \n",
    "# e.g., creates a list from 2 to 20 (not including 20!) at intervals of 4\n",
    "numlist=list(range(2,20,4)) \n",
    "print (numlist)\n",
    "\n",
    "# ====< now creat a new list named 'newlist', from 2 to 20 (including 20) at intervals of 2 >====\n",
    "# put in your code here:\n",
    "print(list(range(0,9,3)))"
   ]
  },
  {
   "cell_type": "markdown",
   "metadata": {},
   "source": [
    "## Data Structure: Tuples"
   ]
  },
  {
   "cell_type": "code",
   "execution_count": 23,
   "metadata": {
    "scrolled": true
   },
   "outputs": [
    {
     "name": "stdout",
     "output_type": "stream",
     "text": [
      "(1, '28', 0.033, False, [-2, 3])\n",
      "(0.033, False)\n",
      "(1, '28', 0.033, False, [-2, 3], 2, '3', True)\n"
     ]
    },
    {
     "ename": "TypeError",
     "evalue": "'tuple' object does not support item assignment",
     "output_type": "error",
     "traceback": [
      "\u001b[0;31m---------------------------------------------------------------------------\u001b[0m",
      "\u001b[0;31mTypeError\u001b[0m                                 Traceback (most recent call last)",
      "\u001b[0;32m<ipython-input-23-7394ea312cba>\u001b[0m in \u001b[0;36m<module>\u001b[0;34m()\u001b[0m\n\u001b[1;32m     14\u001b[0m \u001b[0;34m\u001b[0m\u001b[0m\n\u001b[1;32m     15\u001b[0m \u001b[0;31m# but you can't change elements in place\u001b[0m\u001b[0;34m\u001b[0m\u001b[0;34m\u001b[0m\u001b[0m\n\u001b[0;32m---> 16\u001b[0;31m \u001b[0mmytuple\u001b[0m\u001b[0;34m[\u001b[0m\u001b[0;36m2\u001b[0m\u001b[0;34m]\u001b[0m \u001b[0;34m=\u001b[0m \u001b[0;34m'let me change it'\u001b[0m\u001b[0;34m\u001b[0m\u001b[0m\n\u001b[0m",
      "\u001b[0;31mTypeError\u001b[0m: 'tuple' object does not support item assignment"
     ]
    }
   ],
   "source": [
    "# Here's another important data structure in Python called \"Tuple\"\n",
    "# Similar to lists but dennoted by prentheses ()\n",
    "# Elements in tuples cannot be changed, you can regard tuples as constant lists\n",
    "mytuple = (1, '28', 3.3e-2, False, [-2, 3])\n",
    "print(mytuple)\n",
    "\n",
    "# you can slice or access elements in tuples using indices denoted by []:\n",
    "mytuple_slice = mytuple[2:4]\n",
    "print(mytuple_slice)\n",
    "\n",
    "# you can add two tuples together like\n",
    "mytuple = mytuple + (2, '3', True)\n",
    "print(mytuple)\n",
    "\n",
    "# but you can't change elements in place\n",
    "mytuple[2] = 'let me change it'"
   ]
  },
  {
   "cell_type": "markdown",
   "metadata": {},
   "source": [
    "## Data Structure: Sets"
   ]
  },
  {
   "cell_type": "code",
   "execution_count": 24,
   "metadata": {},
   "outputs": [
    {
     "name": "stdout",
     "output_type": "stream",
     "text": [
      "myset1 =  {9.8, 10.3, 'Earth', 24.6, 'Jupiter', 'Saturn'}\n",
      "myset2 =  {3.9, 5.4, 8.9, 9.8, 'Mars', 'Earth', 'Venus', 'Mercury'}\n",
      "myset3 =  {3.9, 10.3, 'Mars', 12.2, 24.6, 'Jupiter', 'Saturn'}\n"
     ]
    }
   ],
   "source": [
    "# There are more data structures that comes in handy in Python, and one is the set. \n",
    "# They are denoted with curly braces { }. \n",
    "# Definition: A set \"contains an unordered collection of unique and immutable objects.”\n",
    "\n",
    "# You can create sets in several ways. The first would be the use the python built-in set( ) function on a list:\n",
    "# For example:\n",
    "myset1 = set(['Earth',9.8, 'Saturn', 10.3, 'Jupiter', 24.6])\n",
    "print('myset1 = ', myset1) # print out the sets see how elements are changed\n",
    "\n",
    "# you can also define a set simply using curly brackets {}\n",
    "myset2 = {'Mercury',5.4, 'Venus', 8.9, 'Earth', 9.8, 'Mars', 3.9}\n",
    "print('myset2 = ', myset2)\n",
    "\n",
    "# if you violate the uniqueness requirement of creating a set:\n",
    "myset3=set(['Mars',3.9, 'Saturn', 10.3, 'Jupiter', 24.6, 'Jupiter', 12.2])\n",
    "print('myset3 = ', myset3) # see how many 'Jupiter's are there in myset2"
   ]
  },
  {
   "cell_type": "code",
   "execution_count": 25,
   "metadata": {
    "scrolled": true
   },
   "outputs": [
    {
     "name": "stdout",
     "output_type": "stream",
     "text": [
      "now myset1 =  {3.9, 5.4, 8.9, 9.8, 'Mars', 'Earth', 'Venus', 'Mercury'}\n",
      "my stealing set is {3.9, 24.6, 'Jupiter', 10.3, 'Mars', 'Saturn'}\n",
      "now myset3 =  {'Uranus', 3.9, 10.3, 'Mars', 24.6, 'Jupiter', 'Saturn'}\n",
      "the difference between myset3 and myset_steal is:  {'Uranus'}\n",
      "the intersection between myset3 and myset_steal is:  {3.9, 10.3, 'Mars', 24.6, 'Jupiter', 'Saturn'}\n"
     ]
    }
   ],
   "source": [
    "# a couple of useful methods for a set object:\n",
    "\n",
    "# clear an existing set \n",
    "myset1.clear()\n",
    "print('now myset1 = ', myset2)\n",
    "\n",
    "# copy a set to be a new one, NOTE: the new set is independent, not like lists\n",
    "myset3=set(['Mars',3.9, 'Saturn', 10.3, 'Jupiter', 24.6]) # re-define myset3\n",
    "myset_steal = myset3.copy()\n",
    "print('my stealing set is', myset_steal)\n",
    "\n",
    "# add an element in an existing set (like the 'append' method in lists):\n",
    "myset3.add('Uranus')\n",
    "print('now myset3 = ', myset3)\n",
    "\n",
    "# show the difference between two sets\n",
    "diff = myset3.difference(myset_steal)\n",
    "print('the difference between myset3 and myset_steal is: ', diff)\n",
    "\n",
    "# you can also see what the same elements are in two sets:\n",
    "inter = myset3.intersection(myset_steal)\n",
    "print('the intersection between myset3 and myset_steal is: ', inter)"
   ]
  }
 ],
 "metadata": {
  "kernelspec": {
   "display_name": "Python 3",
   "language": "python",
   "name": "python3"
  },
  "language_info": {
   "codemirror_mode": {
    "name": "ipython",
    "version": 3
   },
   "file_extension": ".py",
   "mimetype": "text/x-python",
   "name": "python",
   "nbconvert_exporter": "python",
   "pygments_lexer": "ipython3",
   "version": "3.6.4"
  }
 },
 "nbformat": 4,
 "nbformat_minor": 2
}
