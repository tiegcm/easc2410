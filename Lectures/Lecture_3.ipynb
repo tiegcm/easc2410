{
 "cells": [
  {
   "cell_type": "markdown",
   "metadata": {},
   "source": [
    "## Review of Lecture 2\n",
    "\n",
    "### In lecture 2, we learned \n",
    "\n",
    "* **How to creat variable with meaningful (descriptive) manes**, for example  \n",
    "\n",
    "  <span style=\"color:green\">AirTemperature</span> *This is a good name*, but if you do   \n",
    "  <span style=\"color:green\">tttttt</span> it won't blow up your code, but may be confusing in a big project with lots of codes   \n",
    "  Also remember there are certain types of words are **reserved** by Python so you can't use them as your variable name  \n",
    "<br>\n",
    "* **How to assign values to variables**, for example  \n",
    "\n",
    "  <span style=\"color:green\">AirTemperature = 380.2</span>   \n",
    "  <span style=\"color:green\">IsSenior = True</span>   \n",
    "  <span style=\"color:green\">planet = 'Earth'</span>   \n",
    "  Note: single equal sign \"=\", NOT double equal sign \"==\"   \n",
    "<br>\n",
    "* **What are the basic data types in Python**, for example    \n",
    "  \n",
    "  integers                 (int) : e.g., 1, -2, 1032   \n",
    "  floating-point numbers (float) : e.g., 0.3 3.8, 1.9e-18   \n",
    "  strings                  (str) : e.g., 'Earth', '123'  \n",
    "  booleans                (bool) : e,g,, True, False  \n",
    "  complex              (complex) : 2+3j   \n",
    "<br>\n",
    "* **What operators can be used to different data types**, for example      \n",
    "\n",
    "  add, mimus (+,-): 1+2, 3.1-5, 'HKU'+'001', True+False   \n",
    "  multiply &nbsp;  &nbsp;  &nbsp;  &nbsp;  &nbsp; (\\*): 2\\*3, 2.3\\*0.3, True\\*False   \n",
    "  to the power (\\*\\*): 3\\*\\*2, 1.3\\*\\*10   \n",
    "  the remainder (%): 3%2\n",
    "  etc.   \n",
    "<br>\n",
    "* **What are the basic data structures in Python**, for example      \n",
    "\n",
    "  lists, denoted by []: [1, 0.3, '10', True, 'fig', [2,3]]   \n",
    "  tuples, denoted by (): (1, 2, 'HKU', 2+3j, False)   \n",
    "  sets, denoted by {}: {42,'spamalot','Ni'}  \n",
    "<br>\n",
    "* **What is an object and what are the methods associated with objects**, for example    \n",
    "\n",
    "  An object in Python is a collection of attributes and methods. \n",
    "  So what is so special about objects? Python objects have methods which allow you to do things to the object. Methods have the form:   \n",
    "  **object.method( )**  \n",
    "or  \n",
    "  **object.method(parameter, parameter2,...)**  \n",
    "<br>\n",
    "For example: list.append(), list.index(), list.count(),  \n",
    "To see all of the methods for a list object, here's the documentation:    \n",
    "\n",
    "  https://docs.python.org/3.6/tutorial/datastructures.html  \n",
    "<br>\n",
    "* **And a couple of useful build-in functions**\n",
    "\n",
    "  type(), int(), float(), string(), range()\n",
    "  "
   ]
  },
  {
   "cell_type": "markdown",
   "metadata": {},
   "source": [
    "## Lecture 3, Dictionaries and rogram Control (If-else, for, while loops)\n",
    "\n",
    "### In this lecture, you will learn\n",
    "\n",
    "* A. one more useful data type called Dictionaries\n",
    "* B. basic Python code structures, indentation\n",
    "* C. basic program control using **for**, **if**, and **while** loops\n",
    "* D. Nested loops"
   ]
  },
  {
   "cell_type": "markdown",
   "metadata": {},
   "source": [
    "### A. Dictionaries in Python:\n",
    "\n",
    "Dictionaries are denoted by curly brackets { } (similar to sets). Dictonaries are somewhat like lists, but denoted by alphanumeric keys rather than integer indices. Here's what a dictionary data structure looks like:  "
   ]
  },
  {
   "cell_type": "code",
   "execution_count": 1,
   "metadata": {},
   "outputs": [
    {
     "name": "stdout",
     "output_type": "stream",
     "text": [
      "<class 'dict'> {'Mercury': 2440.0, 'Venus': 6052.1, 'Earth': 6371.5, 'Mars': 3389.2, 'Jupiter': 69911.0, 'Saturn': 58232.2}\n"
     ]
    }
   ],
   "source": [
    "solar_planets = {'Mercury':2440.0, 'Venus':6052.1, 'Earth':6371.5, 'Mars':3389.2, 'Jupiter':69911.0, 'Saturn':58232.2}\n",
    "print(type(solar_planets), solar_planets)"
   ]
  },
  {
   "cell_type": "markdown",
   "metadata": {},
   "source": [
    "Here we see that the type of **solar_planets** is called 'dict', which means it's a data structure of dictionary.   \n",
    "You can see that each element in a dictionary has two aspects: *key* and *value* \n",
    "here's the fun part of the dictionary data structure. To access a *value* in a dictionary, use the *key* with square brackets [ ] to access it:   \n",
    "For example:"
   ]
  },
  {
   "cell_type": "code",
   "execution_count": 2,
   "metadata": {},
   "outputs": [
    {
     "name": "stdout",
     "output_type": "stream",
     "text": [
      "6052.1\n"
     ]
    }
   ],
   "source": [
    "print(solar_planets['Venus'])"
   ]
  },
  {
   "cell_type": "markdown",
   "metadata": {},
   "source": [
    "It's just like looking up a word in a dictionary! (that's why it's called a dictionary)"
   ]
  },
  {
   "cell_type": "markdown",
   "metadata": {},
   "source": [
    "However, unlike you dictionaries at home, you can **change** a *key*'s value using:"
   ]
  },
  {
   "cell_type": "code",
   "execution_count": 3,
   "metadata": {},
   "outputs": [],
   "source": [
    "solar_planets['Earth'] = 6380.0 # change the Earth radii to 6380.0"
   ]
  },
  {
   "cell_type": "markdown",
   "metadata": {},
   "source": [
    "Now let's see what the new dictionary looks like:"
   ]
  },
  {
   "cell_type": "code",
   "execution_count": 4,
   "metadata": {},
   "outputs": [
    {
     "name": "stdout",
     "output_type": "stream",
     "text": [
      "{'Mercury': 2440.0, 'Venus': 6052.1, 'Earth': 6380.0, 'Mars': 3389.2, 'Jupiter': 69911.0, 'Saturn': 58232.2}\n"
     ]
    }
   ],
   "source": [
    "print(solar_planets)"
   ]
  },
  {
   "cell_type": "markdown",
   "metadata": {},
   "source": [
    "You can also **add** a new *key* to an existing dictionary, simply using:"
   ]
  },
  {
   "cell_type": "code",
   "execution_count": 5,
   "metadata": {},
   "outputs": [
    {
     "name": "stdout",
     "output_type": "stream",
     "text": [
      "{'Mercury': 2440.0, 'Venus': 6052.1, 'Earth': 6380.0, 'Mars': 3389.2, 'Jupiter': 69911.0, 'Saturn': 58232.2, 'Uranus': 25362.0, 'Neptune': 24622.3}\n"
     ]
    }
   ],
   "source": [
    "solar_planets['Uranus'] = 25362.0  # add Uranus to the dict \n",
    "solar_planets['Neptune'] = 24622.3 # add Neptune to the dict\n",
    "print(solar_planets)               # print out the new dict"
   ]
  },
  {
   "cell_type": "markdown",
   "metadata": {},
   "source": [
    "Using the **del** function, you can also remove keys from a dictionary:"
   ]
  },
  {
   "cell_type": "code",
   "execution_count": 6,
   "metadata": {
    "scrolled": true
   },
   "outputs": [
    {
     "name": "stdout",
     "output_type": "stream",
     "text": [
      "{'Mercury': 2440.0, 'Venus': 6052.1, 'Mars': 3389.2, 'Jupiter': 69911.0, 'Saturn': 58232.2, 'Uranus': 25362.0, 'Neptune': 24622.3}\n"
     ]
    }
   ],
   "source": [
    "del solar_planets['Earth'] # remove the key 'Earth' from the dictionary - the corresponding value is also removed\n",
    "print(solar_planets)       # print out the new dict"
   ]
  },
  {
   "cell_type": "markdown",
   "metadata": {},
   "source": [
    "Like we have learned in Lecture 2, dictionary is also an **object** of Python, which means that there are also **methods** can be used to dictionaries  \n",
    "A couple of useful ones:  \n",
    "* keys(): return the keys in a dictionary\n",
    "* values(): return all the values in a dictionary \n",
    "\n",
    "For example, the following line of code gives you all the keys in **solar_planets**"
   ]
  },
  {
   "cell_type": "code",
   "execution_count": 7,
   "metadata": {},
   "outputs": [
    {
     "data": {
      "text/plain": [
       "dict_keys(['Mercury', 'Venus', 'Mars', 'Jupiter', 'Saturn', 'Uranus', 'Neptune'])"
      ]
     },
     "execution_count": 7,
     "metadata": {},
     "output_type": "execute_result"
    }
   ],
   "source": [
    "solar_planets.keys() "
   ]
  },
  {
   "cell_type": "code",
   "execution_count": 22,
   "metadata": {},
   "outputs": [
    {
     "data": {
      "text/plain": [
       "dict_values([2440.0, 6052.1, 3389.2, 69911.0, 58232.2, 25362.0, 24622.3])"
      ]
     },
     "execution_count": 22,
     "metadata": {},
     "output_type": "execute_result"
    }
   ],
   "source": [
    "solar_planets.values() "
   ]
  },
  {
   "cell_type": "markdown",
   "metadata": {},
   "source": [
    "The output are just a bunch of *keys* in the dictionary, you can use the list() function to convert the keys to be a list:"
   ]
  },
  {
   "cell_type": "code",
   "execution_count": 8,
   "metadata": {},
   "outputs": [
    {
     "name": "stdout",
     "output_type": "stream",
     "text": [
      "['Mercury', 'Venus', 'Mars', 'Jupiter', 'Saturn', 'Uranus', 'Neptune']\n"
     ]
    }
   ],
   "source": [
    "planets = list(solar_planets.keys())\n",
    "print(planets)"
   ]
  },
  {
   "cell_type": "markdown",
   "metadata": {},
   "source": [
    "Another example, you can create a list of all the values in **solar_planets** using:"
   ]
  },
  {
   "cell_type": "code",
   "execution_count": 9,
   "metadata": {},
   "outputs": [
    {
     "name": "stdout",
     "output_type": "stream",
     "text": [
      "[2440.0, 6052.1, 3389.2, 69911.0, 58232.2, 25362.0, 24622.3]\n"
     ]
    }
   ],
   "source": [
    "radius = list(solar_planets.values())\n",
    "print(radius)"
   ]
  },
  {
   "cell_type": "markdown",
   "metadata": {},
   "source": [
    "For a more completed documentation of dictionaries, please go to the official python documentation page:   http://docs.python.org/tutorial/datastructures.html#dictionaries"
   ]
  },
  {
   "cell_type": "markdown",
   "metadata": {},
   "source": [
    "### B. Python Code Structures (code blocks)\n",
    "\n",
    "Now you're about to write a \"real\" Python program that does something. The first thing to learn is what are typical structures of a python code, and the concept of a \"code block\"  \n",
    "<br>\n",
    "Every programming language provides a way to group blocks of code together and execute them under certain conditions.    \n",
    "<br>\n",
    "Python uses **INDENTATIONS** to define the code blocks and this also makes the code readable.  This is one of the most distictive features of Python. To get a quick sense of what Python code blocks look like, consider the following code that judges your favorite food (don't worry about the syntax of the *if-else* statement, we will learn that soon in this lecture:"
   ]
  },
  {
   "cell_type": "code",
   "execution_count": 1,
   "metadata": {},
   "outputs": [
    {
     "name": "stdout",
     "output_type": "stream",
     "text": [
      "What's your favorite food? shake shack\n",
      "I think shake shack is super yummy\n"
     ]
    }
   ],
   "source": [
    "# This is a good code judging your favorite food\n",
    "\n",
    "food = input(\"What's your favorite food? \")\n",
    "\n",
    "if food == 'garlic':\n",
    "   print('I think',food,'is super yucky')\n",
    "else:\n",
    "   print('I think',food,'is super yummy')"
   ]
  },
  {
   "cell_type": "markdown",
   "metadata": {},
   "source": [
    "You probably have already noticed the key to make a judge (not necessary a fair judge though..) in the above example code is the **if-else** statement and the testing equality statement **food == 'garlic'**. Now first let's go through the condition statements using the logic operators.\n",
    "\n",
    "#### Condition Statements in Python\n",
    "\n",
    "The statement **food == 'garlic'** is a condition statement. In the above code, after you tpye in your favorite food (because of the input()) function, the variable **food** is assigned to be a string that you just typed in. Then the **==** operator compares the two strings on both sides and returns a value: if the string variable **food** is exactly the same as **'garlic'**, the results of the operation **food == 'garlic'** is **True**, otherwise it's always **False**. Try this:"
   ]
  },
  {
   "cell_type": "code",
   "execution_count": 3,
   "metadata": {},
   "outputs": [
    {
     "name": "stdout",
     "output_type": "stream",
     "text": [
      "False\n"
     ]
    }
   ],
   "source": [
    "print(food == 'garlic')"
   ]
  },
  {
   "cell_type": "markdown",
   "metadata": {},
   "source": [
    "Here are frequently used condition statement in Python program control:  \n",
    "\n",
    "* \"==\" means \"equals\", for example: a == b (does variable a equal to variable b)? \n",
    "* \"!=\" means \"does not equal\", for example: a != b (does variable a not equal to variable b)? \n",
    "* \"<\"  means \"less than\", for example, 1 < 2 gives **True**, while 3 < 2 gives **False**\n",
    "* \"<=\"  means \"less than or equal to\", for example, 1 <= 2 gives **True**, while 2 <= 2 also gives **True**\n",
    "* \">\"  means \"greater than\", for example, 1 > 2 gives **False**, while 3 > 2 gives **True**\n",
    "* \">=\" means \"Greater than or equal to\", for example, 1 >= 2 gives **False**, while 2 >= 2 gives **True**\n",
    "\n",
    "Condition statements like (a == b) can also be combined using **and** or **or** to make multiple tests  \n",
    "For example, **((a == b) and (c != d))** is ONLY **True** when both **(a == b)** and **(c != d)** are **True**  \n",
    "Another example, **((a == b) or (c != d))** is ONLY **False** when both **(a == b)** and **(c != d)** are **False**  \n",
    "\n",
    "Let's look at some examples:"
   ]
  },
  {
   "cell_type": "code",
   "execution_count": 25,
   "metadata": {},
   "outputs": [
    {
     "name": "stdout",
     "output_type": "stream",
     "text": [
      "False\n",
      "True\n",
      "False\n",
      "True\n",
      "False\n",
      "True\n"
     ]
    }
   ],
   "source": [
    "# here are some examples for conditions statements (aka. logic operations)\n",
    "print('good'=='bad')\n",
    "print('good'!='bad')\n",
    "print(3.14 > 20)\n",
    "print(4.5 <= 22)\n",
    "print( ('Earth'=='Mars')and(6380.0>=3350.0) )\n",
    "print( ('Earth'=='Mars')or(6380.0>=3350.0) )"
   ]
  },
  {
   "cell_type": "markdown",
   "metadata": {},
   "source": [
    "Now we have learned quite a lot operators in Python, what's the precedence of Python operators? See the tables in the lecture notes 3.\n",
    "\n",
    "*Question*: What is the answer if you do: 'Earth' > 'Mars'? Why is that? Can you figure out the reason by yourself?"
   ]
  },
  {
   "cell_type": "markdown",
   "metadata": {},
   "source": [
    "\n",
    "### Now let's learn the key program control statements - if, while and for loops\n",
    "\n",
    "### C1. \"**if**\" and \"**if-elif-else**\" loops\n",
    "\n",
    "   Definition: In an **if** loop, the code-block is executed (once) if the condition is true.    \n",
    "   Here is a simple example of what an **if** loop look like"
   ]
  },
  {
   "cell_type": "code",
   "execution_count": 26,
   "metadata": {},
   "outputs": [
    {
     "name": "stdout",
     "output_type": "stream",
     "text": [
      "N is negative!\n"
     ]
    }
   ],
   "source": [
    "# a simple example of if-loop\n",
    "\n",
    "N = 3 # define an integer variable N with a value of 3\n",
    "if (N < 0): # is N less than zero?\n",
    "    print(\"N is negative!\")\n",
    "# if N is not less than zero, the print() part inside the \"if\" code block is not executed\n",
    "# so there's no output from this statement. If you change N to be -3, you should get the output saying\n",
    "# \"N is negative!\":\n",
    "\n",
    "N = -3 # define an integer variable N with a value of -3\n",
    "if (N < 0): # is N less than zero?\n",
    "    print(\"N is negative!\")\n",
    "else:\n",
    "    print('N is positive!')"
   ]
  },
  {
   "cell_type": "markdown",
   "metadata": {},
   "source": [
    "There are additional conditions that you can include in the if loops, which is known as the **if-else** loop.  \n",
    "In Python these are: **elif** which means if the first **if** statment is **False**, but the statement following **elif** is True, then do something. **else** which means \"otherwise\". Consider the following example:"
   ]
  },
  {
   "cell_type": "code",
   "execution_count": 32,
   "metadata": {},
   "outputs": [
    {
     "name": "stdout",
     "output_type": "stream",
     "text": [
      "Tropical region\n"
     ]
    }
   ],
   "source": [
    "latitude  = 22.4 # define a variable 'latitude'\n",
    "\n",
    "if (latitude < 24):\n",
    "    print(\"Tropical region\")\n",
    "elif (latitude > 24 and latitude < 66):\n",
    "    print(\"Temperate region\")\n",
    "else:\n",
    "    print(\"Polar region\")"
   ]
  },
  {
   "cell_type": "markdown",
   "metadata": {},
   "source": [
    "How the above codes work? It's really straightforward.  \n",
    "* step 1: define a variable called \"**latitude**\" and assign a floating-point number 22.4 to it\n",
    "* step 2: test if **latitude** is less than 24, here since **latitude**=22.4, so (**latitude < 24**) is **True**, so the code under the **if** code block is executed, and you get the following print \"Tropical region\".\n",
    "* step 3: leave the **if-elif-else** loop\n",
    "\n",
    "The **if-elif-else** loop is very frequently used in almost all Python codes to control the flow of your program. Here's another important *reserved* word in Python that is super useful, which checks if a particular value is **in** a given list (or a set or a turple). Here is an example:"
   ]
  },
  {
   "cell_type": "code",
   "execution_count": 4,
   "metadata": {},
   "outputs": [
    {
     "name": "stdout",
     "output_type": "stream",
     "text": [
      "call susie and apologize!\n",
      "['jane', 'josh', 'sid', 'geoff', 'susie']\n"
     ]
    }
   ],
   "source": [
    "mylist=['jane','josh','sid','geoff'] # define a list\n",
    "\n",
    "if 'susie' in mylist:  # if the string \"susie\" is in the list, then \n",
    "    pass # don't do anything, usually used as a \"Place Holder\" for codes\n",
    "\n",
    "if 'susie' not in mylist:\n",
    "    print ('call susie and apologize!')\n",
    "    mylist.append('susie')\n",
    "elif 'george' in mylist: # if first statement is false, try this one\n",
    "    print ('susie and george both in list') \n",
    "else: # if both statements are false, do this:\n",
    "    print (\"susie in list but george isn't\")\n",
    "    \n",
    "print(mylist)"
   ]
  },
  {
   "cell_type": "markdown",
   "metadata": {},
   "source": [
    "Here \"<span style=\"color:red\">'susie'</span> <span style=\"color:green\">in</span> mylist\" is a condition statement，where <span style=\"color:green\">in</span> is a \"membership operator\": "
   ]
  },
  {
   "cell_type": "code",
   "execution_count": 6,
   "metadata": {},
   "outputs": [
    {
     "name": "stdout",
     "output_type": "stream",
     "text": [
      "True\n",
      "False\n"
     ]
    }
   ],
   "source": [
    "print('susie' in mylist)\n",
    "print('susie' not in mylist)"
   ]
  },
  {
   "cell_type": "markdown",
   "metadata": {},
   "source": [
    "How does the above code work? Here we go (pay attention to the INDENTATION in the code):  \n",
    "\n",
    "* step 1: (code block 1) create a list called \"mylist\" and assign four names as list elements\n",
    "* step 2: (code block 2) use the reserved word **in** to see if 'susie' is in the list. Because 'susie' is not in the list, the code under this **if** loop is not executed\n",
    "* step 3: (still in code block 2) now move to the next **if-elif-else** loop, and see if 'susie' is not in the list. Because 'susie' is not in the list, the codes under this **if** loop are executed. First it prints out the string 'call susie and apologize!', then it adds 'susie' to **mylist** using the *append()* method, and then leave this **if-elif-else** loop\n",
    "* step 4: (code block 3) print out **mylist**  \n",
    "<br>\n",
    "\n",
    "Here's another example of using multiple **elif** statements at the same time:"
   ]
  },
  {
   "cell_type": "code",
   "execution_count": 31,
   "metadata": {},
   "outputs": [
    {
     "name": "stdout",
     "output_type": "stream",
     "text": [
      "Your final grade is B\n"
     ]
    }
   ],
   "source": [
    "exam = 82.0 # my final exam score\n",
    "\n",
    "if exam >= 90.0:   # if scored greater than or equal to 90, I get 'A'\n",
    "    Grade = 'A'\n",
    "elif exam >= 80.0: # if scored greater than or equal to 80, I get 'B'\n",
    "    Grade = 'B'\n",
    "elif exam >= 70.0: # if scored greater than or equal to 70, I get 'C'\n",
    "    Grade = 'C'    \n",
    "elif exam >= 60.0: # if scored greater than or equal to 60, I get 'D'\n",
    "    Grade = 'D'\n",
    "else:              # Otherwise, I get 'Fail'\n",
    "    Grade = 'Fail'\n",
    "    \n",
    "print('Your final grade is', Grade)"
   ]
  },
  {
   "cell_type": "markdown",
   "metadata": {},
   "source": [
    "More information about the if loops in Python can be found here:\n",
    "https://docs.python.org/3/tutorial/controlflow.html#if-statements"
   ]
  },
  {
   "cell_type": "markdown",
   "metadata": {},
   "source": [
    "### C2. \"**while**\" loops\n",
    "\n",
    "   Definition: A **while** loop executes a code block when some condition is **True**; if the condition is identified as **False**, the code block under the **while** loop is not executed and the program moves on. the basic syntax for a **while** loop goes like (pay attention to the indentation):  \n",
    "  <br>\n",
    "   **while (some condition statements):  \n",
    "   &nbsp;  &nbsp;  &nbsp;   &nbsp;     do something here**\n",
    "    \n",
    "   Here is a simple example of what a **while** loop looks like "
   ]
  },
  {
   "cell_type": "code",
   "execution_count": 34,
   "metadata": {},
   "outputs": [
    {
     "name": "stdout",
     "output_type": "stream",
     "text": [
      "call susie and apologize!\n",
      "['jane', 'josh', 'sid', 'geoff', 'susie']\n"
     ]
    }
   ],
   "source": [
    "mylist=['jane','josh','sid','geoff'] # define a list\n",
    "\n",
    "while 'susie' not in mylist: # check if 'susie' is NOT in the list\n",
    "    print('call susie and apologize!') # if not: first print\n",
    "    mylist.append('susie')             #         then append 'susie' to mylist\n",
    "    \n",
    "print(mylist)"
   ]
  },
  {
   "cell_type": "markdown",
   "metadata": {},
   "source": [
    "How does the above code work? Here we go (pay attention to the INDENTATION in the code):  \n",
    "\n",
    "* step 1: (code block 1) create a list called \"mylist\" and assign four names as list elements\n",
    "* step 2: (code block 2) use the reserved word **not in** to see if 'susie' is not in the list. Because 'susie' is not in the list, the condition statement \"**'susie' not in mylist**\" is **True**, so the two lines of code (print and append) under the **while** code block are executed. You get a print out statement says \"call susie and apologize!\" and the name 'susie' is appended to **mylist**\n",
    "* step 3: (still in code block 2) now go back to the **while** statement to see if \"**'susie' not in mylist**\" is still **True**. But it's no longer true since you've already appended 'susie' to the list, so \"**'susie' not in mylist**\" is **False** this time. Since the statement in the **while** loop is not true, the print() and append() codes under the **while** code block are not executed. The code moves on to the next code block.\n",
    "* step 4: (code block 3) print out **mylist**\n",
    "\n",
    "Here is another example of a **while** loop gets executed multiple times:\n"
   ]
  },
  {
   "cell_type": "code",
   "execution_count": 35,
   "metadata": {},
   "outputs": [
    {
     "name": "stdout",
     "output_type": "stream",
     "text": [
      "100\n",
      "99\n",
      "98\n",
      "97\n",
      "96\n",
      "95\n",
      "94\n",
      "93\n",
      "92\n",
      "91\n",
      "and the final value is:  90\n"
     ]
    }
   ],
   "source": [
    "N = 100 # define an integer variable N to be 100\n",
    "threshold = 90 # define some threshold to be 90 (also integer)\n",
    "\n",
    "# while the condition in the () is true, the program will continue\n",
    "while (N > threshold):  # is N greater then threshold?  if so, execute the indented code block\n",
    "    print (N)  # what it says\n",
    "    N = N-1    # decriment N by one, some people uses N-=1, which is the same thing\n",
    "    \n",
    "print ('and the final value is: ',N) # now we're done we'll see what is left of N. "
   ]
  },
  {
   "cell_type": "markdown",
   "metadata": {},
   "source": [
    "Question: Why the final value is 90 instead of 91?"
   ]
  },
  {
   "cell_type": "markdown",
   "metadata": {},
   "source": [
    "### C3. \"**For**\" loops\n",
    "\n",
    "   Definition: A **For** loop steps through a list and do something at each step. \n",
    "  <br>\n",
    "   **for (some variables in a list):  \n",
    "   &nbsp;  &nbsp;  &nbsp;   &nbsp;     do something here**\n",
    "    \n",
    "   Here is a simple example of what a **for** loop going through a series of integers:"
   ]
  },
  {
   "cell_type": "code",
   "execution_count": 36,
   "metadata": {
    "scrolled": true
   },
   "outputs": [
    {
     "name": "stdout",
     "output_type": "stream",
     "text": [
      "0 0 1\n",
      "1 1 1\n",
      "2 4 4\n",
      "3 9 27\n",
      "4 16 256\n",
      "5 25 3125\n",
      "6 36 46656\n",
      "7 49 823543\n",
      "8 64 16777216\n",
      "9 81 387420489\n"
     ]
    }
   ],
   "source": [
    "# make a list with the range() function\n",
    "numbers = range(10) #creates a list of numbers 0 to 10 stepping by 1\n",
    "\n",
    "# step through the list assigning each element to the variable, n\n",
    "for n in numbers: # n is assigned to each element in turn\n",
    "    print (n, n*n, n**n ) # or we could have written print n**2"
   ]
  },
  {
   "cell_type": "markdown",
   "metadata": {},
   "source": [
    "How does the above code work? Here we go (again pay attention to the INDENTATION in the code):  \n",
    "\n",
    "* step 1: (code block 1) create a series of integers using the range() function. Note that the parameters in the range() function used here are somewhat different from the one we used in the last lecture. \n",
    "* step 2: (code block 2) starting from the integer 0, which is the first integer in range(0,10) and assign 0 to the variable **n**, and print out three values in one row: n, n\\*n, and n\\*\\*n; \n",
    "* step 3: (still in code block 2) move on to the next integer in range(0,10), repeat \"step 2\" (replace 0 by the next integer)\n",
    "* step 4: done when all the integers in range(0,10) are processed"
   ]
  },
  {
   "cell_type": "markdown",
   "metadata": {},
   "source": [
    "**For** loops can also go through a list of strings. This is a very nice feature about Python, other programming languages such as C, C++, Fortran do not have such kind of feature. Here's a simple example using the **for** loop to print out all the names (str) in a list:"
   ]
  },
  {
   "cell_type": "code",
   "execution_count": 37,
   "metadata": {},
   "outputs": [
    {
     "name": "stdout",
     "output_type": "stream",
     "text": [
      "jane\n",
      "josh\n",
      "sid\n",
      "geoff\n"
     ]
    }
   ],
   "source": [
    "mylist=['jane','josh','sid','geoff'] # define a list\n",
    "\n",
    "for name in mylist: # create a variable called 'name', and assign each element in 'mylist' to name\n",
    "    print(name)     # print out the variable 'name'"
   ]
  },
  {
   "cell_type": "markdown",
   "metadata": {},
   "source": [
    "The above code is very straightforward, it literally just sounds like you are telling Python what to do using human language!  \n",
    "<br>\n",
    "Here's another example of the **for** loops working with dictionaries:"
   ]
  },
  {
   "cell_type": "code",
   "execution_count": 38,
   "metadata": {},
   "outputs": [
    {
     "name": "stdout",
     "output_type": "stream",
     "text": [
      "List of keys in solar_planets:  ['Mercury', 'Venus', 'Earth', 'Mars', 'Jupiter', 'Saturn']\n",
      "The radius of planet Mercury is 2440.0 km\n",
      "The radius of planet Venus is 6052.1 km\n",
      "The radius of planet Earth is 6371.5 km\n",
      "The radius of planet Mars is 3389.2 km\n",
      "The radius of planet Jupiter is 69911.0 km\n",
      "The radius of planet Saturn is 58232.2 km\n"
     ]
    }
   ],
   "source": [
    "# recall the dictionary 'solar_planets' we used in the beginning of the lecture, re-define it here\n",
    "solar_planets = {'Mercury':2440.0, 'Venus':6052.1, 'Earth':6371.5, 'Mars':3389.2, 'Jupiter':69911.0, 'Saturn':58232.2}\n",
    "\n",
    "# print out the list generated\n",
    "print ('List of keys in solar_planets: ',list( solar_planets.keys() ) ) # here you need the list() function\n",
    "# notice the slightly fancier form of the print statement above.\n",
    "\n",
    "# now step through that list, \n",
    "   # assigning each element to the variable key\n",
    "for key in solar_planets.keys():  # just use the list generator (we don't need the list() function)\n",
    "    print ('The radius of planet', key, 'is', solar_planets[key], 'km') # print out the variable, key"
   ]
  },
  {
   "cell_type": "markdown",
   "metadata": {},
   "source": [
    "### D. Nested loops - put it all together\n",
    "\n",
    "Now let's try something slightly more complicated by putting an **if** statement inside a **for** loop:"
   ]
  },
  {
   "cell_type": "code",
   "execution_count": 39,
   "metadata": {},
   "outputs": [
    {
     "name": "stdout",
     "output_type": "stream",
     "text": [
      "Planet Earth is habitable with a Surface Temperature of  15.399999999999977\n",
      "Planet Mars is habitable with a Surface Temperature of  -62.900000000000034\n",
      "{'Mercury': 166.89999999999998, 'Venus': 464.0, 'Earth': 15.399999999999977, 'Mars': -62.900000000000034, 'Jupiter': -163.10000000000002, 'Saturn': -191.90000000000003}\n"
     ]
    }
   ],
   "source": [
    "solar_planets = {'Mercury':440.0, 'Venus':737.1, 'Earth':288.5, 'Mars':210.2, 'Jupiter':110.0, 'Saturn':81.2}\n",
    "\n",
    "habitable = False\n",
    "\n",
    "for key in solar_planets.keys():\n",
    "    temperature = solar_planets[key]\n",
    "    temperature = temperature - 273.1\n",
    " \n",
    "    if (temperature <= 100) and (temperature >= -100):\n",
    "        habitable = True\n",
    "        print('Planet',key,'is habitable with a Surface Temperature of ',temperature)\n",
    "        \n",
    "print(solar_planets)"
   ]
  },
  {
   "cell_type": "markdown",
   "metadata": {},
   "source": [
    "Those floating numbers (temperature) output look ugly. Can you do something to just keep one decimal for each temperature? (HINT: use the *round()* function, get help to find the right syntax for using the *round()* function)"
   ]
  }
 ],
 "metadata": {
  "kernelspec": {
   "display_name": "Python 3",
   "language": "python",
   "name": "python3"
  },
  "language_info": {
   "codemirror_mode": {
    "name": "ipython",
    "version": 3
   },
   "file_extension": ".py",
   "mimetype": "text/x-python",
   "name": "python",
   "nbconvert_exporter": "python",
   "pygments_lexer": "ipython3",
   "version": "3.7.4"
  }
 },
 "nbformat": 4,
 "nbformat_minor": 2
}
