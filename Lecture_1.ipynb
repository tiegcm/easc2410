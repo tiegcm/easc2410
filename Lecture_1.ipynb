{
 "cells": [
  {
   "cell_type": "markdown",
   "metadata": {},
   "source": [
    "## Lecture #1: Introduction to Python, Codes and Comments"
   ]
  },
  {
   "cell_type": "code",
   "execution_count": 1,
   "metadata": {},
   "outputs": [],
   "source": [
    "# Use the print() function here to type in your first Python code - Hello word!\n"
   ]
  },
  {
   "cell_type": "code",
   "execution_count": 1,
   "metadata": {
    "scrolled": true
   },
   "outputs": [
    {
     "ename": "SyntaxError",
     "evalue": "invalid syntax (<ipython-input-1-d205f73774fb>, line 9)",
     "output_type": "error",
     "traceback": [
      "\u001b[0;36m  File \u001b[0;32m\"<ipython-input-1-d205f73774fb>\"\u001b[0;36m, line \u001b[0;32m9\u001b[0m\n\u001b[0;31m    7. If you codes are not commented, you WILL lose marks on homeworks\u001b[0m\n\u001b[0m        ^\u001b[0m\n\u001b[0;31mSyntaxError\u001b[0m\u001b[0;31m:\u001b[0m invalid syntax\n"
     ]
    }
   ],
   "source": [
    "# Notes about comments:\n",
    "#\n",
    "# 1. Comments start with a pound sign \"#\"\n",
    "# 2. Comments are not executed by Python\n",
    "# 3. Basically you can type anything here to explain your program\n",
    "# 4. A good code usually comes with a fairly large amount of comments\n",
    "# 5. You are required to comment you code through out the course/homeworks\n",
    "# 6. Run the following code and see why it's wrong\n",
    "7. If you codes are not commented, you WILL lose marks on homeworks\n",
    "\n",
    "# now uncomment point #7 and execute the cell, what's the problem?"
   ]
  },
  {
   "cell_type": "code",
   "execution_count": 3,
   "metadata": {},
   "outputs": [],
   "source": [
    "#  ~~~~~~~~~~~~~~EXERCISE 1 - Getting familiar with Jupyter Notebooks~~~~~~~~~~~~~~~~~~\n",
    "#\n",
    "# Creating new notebooks, naming and saving:\n",
    "#\n",
    "# To open a new notebook, pull down the 'File' menu and select the 'New Notebook => Python 3' option. \n",
    "# You can 'tear' the notebook off so it is in a separate window if you like seeing both together.\n",
    "# \n",
    "# To rename the notebook, choose 'Rename' under the File menu.\n",
    "#\n",
    "# To save it, click on the disk icon on the menu bar. \n",
    "# Wait until the 'checkpoint created...' message disappears before you try to exit the notebook."
   ]
  },
  {
   "cell_type": "code",
   "execution_count": 4,
   "metadata": {
    "scrolled": true
   },
   "outputs": [],
   "source": [
    "#  ~~~~~~~~~~~~~~EXERCISE 2 - use the print() function and get help~~~~~~~~~~~~~~~~~~\n",
    "#\n",
    "# 1. In your new Jupyter notebook, write a code to print out the following four lines of text:\n",
    "#\n",
    "# My name is Binzheng Zhang\n",
    "# I am a geophysicist\n",
    "# I like 3.1415926\n",
    "# Now I know Python!\n",
    "#\n",
    "# 2. Change the name in the first line to be your own name\n",
    "# 3. Change \"geophysicist\" to be your major\n",
    "# 4. Change the number 3.1415926 to be whatever your favorite food is (a word, with \"\")\n",
    "# 5. Move to a new cell, and type in help(print) to see the details of the print() function\n",
    "#\n",
    "# NOTE: don't worry about some symbols, we will discuss them in the next lecture\n"
   ]
  },
  {
   "cell_type": "code",
   "execution_count": 5,
   "metadata": {},
   "outputs": [],
   "source": [
    "#  ~~~~~~~~~~~~~~EXERCISE 3 - Getting help using the help() function~~~~~~~~~~~~~~~~~~\n",
    "# type in help(print) and see what happens"
   ]
  },
  {
   "cell_type": "code",
   "execution_count": 3,
   "metadata": {},
   "outputs": [
    {
     "name": "stdout",
     "output_type": "stream",
     "text": [
      "5\n",
      "-1\n"
     ]
    }
   ],
   "source": [
    "#  ~~~~~~~~~~~~~~EXERCISE 4 - Using your Jupyter Notebook as a calculator~~~~~~~~~~~~~\n",
    "# \n",
    "# Some basic Python operators listed here (not inclusive!)\n",
    "#\n",
    "# operation symbol       Function\n",
    "#        +                 add\n",
    "#        -               subtract\n",
    "#        *               multiply\n",
    "#        /                divide\n",
    "#        **               power\n",
    "#        %                modulo\n",
    "#        ==           test equality\n",
    "#        !=          test inequality\n",
    "#\n",
    "# now type in the examples in the lecture notes and get the answers\n",
    "\n",
    "print(2+3)\n",
    "print(2-3)"
   ]
  },
  {
   "cell_type": "code",
   "execution_count": 13,
   "metadata": {},
   "outputs": [
    {
     "name": "stdout",
     "output_type": "stream",
     "text": [
      "3\n",
      "False\n",
      "4\n",
      "3.6\n"
     ]
    }
   ],
   "source": [
    "#  ~~~~~~~~~~~~~~EXERCISE 5 - Using your Jupyter Notebook as a calculator~~~~~~~~~~~~~\n",
    "#\n",
    "# now try google \"python operators\" to find at least two operators that are not included\n",
    "# in the above table used in lecture 1, and use them as a calculator\n",
    "\n",
    "print(18//5)\n",
    "print(2>3)\n",
    "print(round(18/5))\n",
    "#help(round)\n",
    "print(round(18/5,2))"
   ]
  }
 ],
 "metadata": {
  "kernelspec": {
   "display_name": "Python 3",
   "language": "python",
   "name": "python3"
  },
  "language_info": {
   "codemirror_mode": {
    "name": "ipython",
    "version": 3
   },
   "file_extension": ".py",
   "mimetype": "text/x-python",
   "name": "python",
   "nbconvert_exporter": "python",
   "pygments_lexer": "ipython3",
   "version": "3.7.4"
  }
 },
 "nbformat": 4,
 "nbformat_minor": 2
}
