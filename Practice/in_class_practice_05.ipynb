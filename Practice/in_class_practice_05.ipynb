{
 "cells": [
  {
   "cell_type": "markdown",
   "metadata": {},
   "source": [
    "## In-class practice for Lecture 5 \n",
    "\n",
    "* Answer each question using Python codes in a separate cell"
   ]
  },
  {
   "cell_type": "markdown",
   "metadata": {},
   "source": [
    "### 1. Numpy Attributes\n",
    "\n",
    "* import the numpy module and re-name it as **np**\n",
    "* print out the value of **pi** using the **np.pi** attribute.\n",
    "* print out the value of **e** using the **np.e** attribute.\n",
    "* print out the value of **infinity** using the **np.inf** attribute.\n"
   ]
  },
  {
   "cell_type": "markdown",
   "metadata": {},
   "source": [
    "### 2. Creating Numpy Arrays\n",
    "\n",
    "* import the numpy module and re-name it as **np**\n",
    "* Create a list of 100 zeros using the **np.zeros** function\n",
    "* Create a list of 100 ones using the **np.ones** function\n",
    "* Create a list of 100 random numbers using the **np.random.randon()** function\n",
    "* Create a list of numbers ranging from 1912 to 2012 using the **np.arange()** function\n",
    "* Create the same number list of (1912 to 2012) using the **np.linspace()** function"
   ]
  },
  {
   "cell_type": "markdown",
   "metadata": {},
   "source": [
    "### 3. Math Operations using Numpy Arrays\n",
    "\n",
    "* import the numpy module and re-name it as **np**\n",
    "* create a 1-D numpy array named **x** with 100 points between 0 and pi (e.g., using the **np.linspace()** function, and the **np.pi**)\n",
    "* print the values of **sin(x)** using print(sin(x))\n",
    "* print the values of **sin(x)** using the round function to set the number of decimals, e.g., print(np.round(sin(x),2))\n",
    "* find the maximum value of **sin(x)** use the **np.max()** function\n",
    "* find the minimum value of **cos(x)** use the **np.min()** function. Do the maximum and minimum values equal to +1 and -1? \n",
    "* find the mean value of **cos(x)\\*sin(x)**\n",
    "* calculate the values of **x\\*cos(x)\\*exp(-x)** and assign the values to a new numpy array named **y**\n"
   ]
  },
  {
   "cell_type": "markdown",
   "metadata": {},
   "source": [
    "### 4. Line plots using matploglib.pyplot\n",
    "\n",
    "* import the pyplot module using **import matploglib.pyplot as plt**\n",
    "* try **plt.plot(x)**, what do you get?\n",
    "* now try **plt.plot(y)**, what do you get now?\n",
    "* then try **plt.plot(x,y)**, what's the difference then? \n",
    "* plot **tan(x)** use the plot() function. Does it make sense? why or why not?"
   ]
  }
 ],
 "metadata": {
  "kernelspec": {
   "display_name": "Python 3",
   "language": "python",
   "name": "python3"
  },
  "language_info": {
   "codemirror_mode": {
    "name": "ipython",
    "version": 3
   },
   "file_extension": ".py",
   "mimetype": "text/x-python",
   "name": "python",
   "nbconvert_exporter": "python",
   "pygments_lexer": "ipython3",
   "version": "3.7.4"
  }
 },
 "nbformat": 4,
 "nbformat_minor": 2
}
