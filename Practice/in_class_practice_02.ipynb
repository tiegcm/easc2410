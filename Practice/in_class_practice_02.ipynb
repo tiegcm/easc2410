{
 "cells": [
  {
   "cell_type": "markdown",
   "metadata": {},
   "source": [
    "**NOTE**: After you finished all the practice codes, rename your notebook as **YourName_Lecture_Number.ipynb**, and then email it to binzh@hku.hk"
   ]
  },
  {
   "cell_type": "markdown",
   "metadata": {},
   "source": [
    "## 1. Conceptual\n",
    "\n",
    "### a. Why are descriptive variable names useful in your codes? \n",
    "\n",
    "because they don't confuse people"
   ]
  },
  {
   "cell_type": "markdown",
   "metadata": {},
   "source": [
    "### b. What are the reserved words (name at least three) and why can’t you use them as your variable names?\n",
    "\n",
    "   put your answers here"
   ]
  },
  {
   "cell_type": "markdown",
   "metadata": {},
   "source": [
    "## 2. Variables\n",
    "\n",
    "* Insert a code cell and do the following exercises:\n",
    "* Define a variable that stores a value of pi (3.1415926)\n",
    "* Define two variables named **Earth_radius** and **Earth_volume**, that store floating point numbers. Assign a value * 6.38e6 to the variable **Earth_radius** and a value of 0.0 to the variable **Earth_volume**\n",
    "* Define a string that stores “is the volume of the Earth"
   ]
  },
  {
   "cell_type": "markdown",
   "metadata": {},
   "source": [
    "## 3. Operations\n",
    "* Insert a code cell and\n",
    "* Calculate the volume of the Earth use the variables defined in **2**, and assign the value to **Earth_volume** (Hint: the volume of a sphere is $V = \\frac{4}{3}\\pi R^3$)\n",
    "* Print the volume of the Earth you just calculated use the print() function"
   ]
  },
  {
   "cell_type": "markdown",
   "metadata": {},
   "source": [
    "## 4. Changing Variable types\n",
    "* Convert **Earth_volume** into strings use use the str() function  \n",
    "* Use the “+” operator to add the string variables to make **\"Earth_volume is the volume of the Earth”**\n",
    "* Print the results to screen use the print() function"
   ]
  },
  {
   "cell_type": "markdown",
   "metadata": {},
   "source": [
    "## 5. String indexing\n",
    "* Define a variable with the value: “HKU Earth Sciences”\n",
    "* Print out the first 7 characters\n",
    "* Print indices 8 to 12\n",
    "* print the word “Sciences” using negative indices"
   ]
  },
  {
   "cell_type": "markdown",
   "metadata": {},
   "source": [
    "## 6. Put it all together\n",
    "* Create an integer variable named **depth** and set it to 6\n",
    "* Create a string variable named **planet**, and assign it to **Earth**\n",
    "* Cast your variable **depth** into a string\n",
    "* Create a new variable named **ocean_depth** and set it to the following string: **“The average ocean depth on Earth is 6 km”**\n",
    "* Print out the variable **ocean_depth**"
   ]
  },
  {
   "cell_type": "markdown",
   "metadata": {},
   "source": [
    "## 7. Lists\n",
    "* Creat an empty list called **oceans**\n",
    "* Append all the ocean names to the list as strings\n",
    "* print the ocean at index 3 in the list\n",
    "* Make a copy of **oceans**, call it **seas**, and modify the copied list **seas**, then see how the original list **oceans** changes\n",
    "* Apply the method .sort() to **seas** and then print the results"
   ]
  },
  {
   "cell_type": "markdown",
   "metadata": {},
   "source": [
    "## 8. Range()\n",
    "* Use the build-in function range() to create a list with a series of numbers range from 0 to 100, increment by any number less than 100, and print out the results"
   ]
  },
  {
   "cell_type": "markdown",
   "metadata": {},
   "source": [
    "## 9. sets\n",
    "* Create a set from the “ocean” list you created earlier\n",
    "* Create another set using the “seas” list you created earlier\n",
    "* Apply the method .intersect() to the two sets and print the results\n"
   ]
  }
 ],
 "metadata": {
  "kernelspec": {
   "display_name": "Python 3",
   "language": "python",
   "name": "python3"
  },
  "language_info": {
   "codemirror_mode": {
    "name": "ipython",
    "version": 3
   },
   "file_extension": ".py",
   "mimetype": "text/x-python",
   "name": "python",
   "nbconvert_exporter": "python",
   "pygments_lexer": "ipython3",
   "version": "3.7.4"
  }
 },
 "nbformat": 4,
 "nbformat_minor": 2
}
