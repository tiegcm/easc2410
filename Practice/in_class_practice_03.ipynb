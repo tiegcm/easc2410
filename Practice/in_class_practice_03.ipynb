{
 "cells": [
  {
   "cell_type": "markdown",
   "metadata": {},
   "source": [
    "## In-class practice for Lecture 3 \n",
    "\n",
    "* Answer each question using Python codes in a separate cell\n",
    "* Remane your notebook with your name and the lecture number\n",
    "* After you finished all the practice codes, rename your notebook as **YourName_Lecture_Number.ipynb**, and then email it to binzh@hku.hk"
   ]
  },
  {
   "cell_type": "markdown",
   "metadata": {},
   "source": [
    "### 1. Work with a Dictionary\n",
    "\n",
    "* Create a dictionary called **continents**, using the name of each continent as a key and the corresponding area of the continent as the value.\n",
    "* Print the value for the key \"Asia\"\n",
    "* Add four new key-value pair using the names of the Oceans with their areas.\n",
    "* Print all of the values using the method values()"
   ]
  },
  {
   "cell_type": "markdown",
   "metadata": {},
   "source": [
    "### 2. Practise Condition Statements \n",
    "\n",
    "* Set x to 5 and y to 6. Test if they are equal using relational operators. Test if they are not equal using the relational operators. Print out the results.\n",
    "* Apparently x and y are not equal (if you don't know why, google it). Test which one is larger by using the less than and greater than relational operators. Print out the results.\n",
    "* Create new variables and apply the \"less than or equal to\" and \"greater than or equal to\" relational operators to these variables."
   ]
  },
  {
   "cell_type": "markdown",
   "metadata": {},
   "source": [
    "### 3. While loops\n",
    "\n",
    "* If you run the following codes, it prints out infinite amount of strings 'call susie and apologize' (susie is probably gonna get mad and block you..). This is called an \"infinite loop\". Why is that? "
   ]
  },
  {
   "cell_type": "code",
   "execution_count": 3,
   "metadata": {},
   "outputs": [
    {
     "name": "stdout",
     "output_type": "stream",
     "text": [
      "call susie and apologize!\n",
      "['jane', 'josh', 'sid', 'geoff', 'susie']\n"
     ]
    }
   ],
   "source": [
    "# This is the example used in the lecture to demonstrate a while loop, which minor changes\n",
    "# but the results can be totally different (disasterous)\n",
    "\n",
    "mylist=['jane','josh','sid','geoff'] # define a list\n",
    "\n",
    "while 'susie' not in mylist: # check if 'susie' is NOT in the list\n",
    "    print('call susie and apologize!') # if not: first print\n",
    "    \n",
    "    mylist.append('susie')           # then append 'susie' to mylist\n",
    "    break\n",
    "    \n",
    "print(mylist)"
   ]
  },
  {
   "cell_type": "markdown",
   "metadata": {},
   "source": [
    "* Now stop the code by clicking the \"Kernel\" label in the manu bar, and then clicking \"Interupt\", the code will stop running. Or you can simply press the black square button below the manu label \"Kernel\" to stop you code. \n",
    "* To avoid getting an \"infinite loop\", type in the reserved word **break** after print() statement in the **while** loop, and run the code to see what happens"
   ]
  },
  {
   "cell_type": "markdown",
   "metadata": {},
   "source": [
    "Now write a new code to do the following work:\n",
    "* Define two variables **day** and **fullMoon**, set them to be 1 and 29 respectively \n",
    "* Create a **while** loop that checks if **day** is less than **fullMoon**. If so, print out the variable **day** and then increase **day** by 1\n",
    "* If **day** is greater than or equal to fullMoon, print \"Today is a full moon. Blood wolf is coming!\" "
   ]
  },
  {
   "cell_type": "markdown",
   "metadata": {},
   "source": [
    "### 4. If-elif-else loops\n",
    "\n",
    "* Set a variable oldestCrust to 3.5e9, oldestSeafloor to 180e6, ageEarth to 4.5e9, and ageSolarSystem to 4.5e9\n",
    "* Create an if-else statement that compares the age of the crust with the age of the seafloor and prints out which is older\n",
    "* Create an if-else statement that compares the age of the Earth and the age of the solar system and prints out whether or not they formed at the same time"
   ]
  },
  {
   "cell_type": "markdown",
   "metadata": {},
   "source": [
    "### 5. For loops\n",
    "\n",
    "* Create a string list of mountain ranges (Himalayas, Rocky, Trans-Antarctic, Andes, Alps, Appalachians, etc.)\n",
    "* Write a for loop that prints out all of the elements in your list "
   ]
  },
  {
   "cell_type": "markdown",
   "metadata": {},
   "source": [
    "### 6. Nested loops \n",
    "\n",
    "* Make a dictionary of eight solar system planets with the keys as the planet names and the values as the planet surface temperatures. See the example used in Lecture 3 (find out surface temperature for Uranus and Neptune yourself)\n",
    "* Make a nested loop using **for** and **if** statements to step through the dictionary of solar planets:  \n",
    "\n",
    " If the surface temperature is greater than 0 degrees (celsius) **and** less than 30 degrees, print \"The planet X is habitable because it's surface temperature is Y\".   \n",
    "\n",
    " If the surface temperature is greater than 30, print \"The planet X is not habitable because it's too hot\"   \n",
    "\n",
    " Otherwise print \"The planet X is not habitable because it's too cold\"."
   ]
  }
 ],
 "metadata": {
  "kernelspec": {
   "display_name": "Python 3",
   "language": "python",
   "name": "python3"
  },
  "language_info": {
   "codemirror_mode": {
    "name": "ipython",
    "version": 3
   },
   "file_extension": ".py",
   "mimetype": "text/x-python",
   "name": "python",
   "nbconvert_exporter": "python",
   "pygments_lexer": "ipython3",
   "version": "3.7.4"
  }
 },
 "nbformat": 4,
 "nbformat_minor": 2
}
