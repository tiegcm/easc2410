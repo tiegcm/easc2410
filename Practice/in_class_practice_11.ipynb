{
 "cells": [
  {
   "cell_type": "markdown",
   "metadata": {},
   "source": [
    "## In-class practice for Lecture 11\n",
    "\n",
    "* Python basics\n",
    "* Here are some online practice problems you may find useful (some of them are quite tricky):   \n",
    "https://www.w3resource.com/python-exercises/\n",
    "* Answer each question using Python codes in a separate cell"
   ]
  },
  {
   "cell_type": "markdown",
   "metadata": {},
   "source": [
    "### 1. The range () function [_list_, _set_]\n",
    "\n",
    "* Use the range() function to generate a **list**, with numbers from 1 to 10, is it ordered?\n",
    "* Use the range() function to generate a **set**, with numbers from 1 to 10, is it ordered?\n",
    "* Write a for loop to print out all the element in range(10)"
   ]
  },
  {
   "cell_type": "markdown",
   "metadata": {},
   "source": [
    "### 2. Types in a list [for-loop and if-statement]\n",
    "\n",
    "* Give the following list  [1, 4, 5.3, 'hello', 2+4.4j, False, False, 3.1. 'pi', True, 1e5, 2+3j, 11, 80.0]. Write a program to count the number of integers, strings and booleans in the list (use a for-loop)\n",
    "NOTE: Use the isinstance() function to determine the data types, print the results."
   ]
  },
  {
   "cell_type": "markdown",
   "metadata": {},
   "source": [
    "### 3. Divisors [_for-loop and if-statement_]\n",
    "\n",
    "* Create a program that asks the user for a number and then prints out a list of all the divisors of that number. (If you don’t know what a divisor is, it is a number that divides evenly into another number. For example, 13 is a divisor of 26 because 26 / 13 has no remainder, or 26%13=0.)\n",
    "\n",
    "* Write a Python program to find those numbers which are divisible by 7 and multiple of 5, between 1500 and 2700 (both included). "
   ]
  },
  {
   "cell_type": "markdown",
   "metadata": {},
   "source": [
    "### 4.  Odd/Even Numbers [for-loop and if-statement]\n",
    "\n",
    "* Ask the user for inputing a number. \n",
    "* Depending on whether the number is even or odd, print out an appropriate message to the user. \n",
    "* If the number is a multiple of 4, print out a different message."
   ]
  },
  {
   "cell_type": "markdown",
   "metadata": {},
   "source": [
    "### 5. List ends [for-loop]\n",
    "\n",
    "* Write a program that takes a list and makes a new list of every other element in the given list. \n",
    "* Use a for-loop to do it\n",
    "* For more practice, wrap you code to a function, and call it,\n",
    "\n",
    "For example, given_list = [1, 3.1. 'pi', True, 1e5, 2+3j, 11, 80.0], output = [1,'pi','1e5','11']"
   ]
  },
  {
   "cell_type": "markdown",
   "metadata": {},
   "source": [
    "### 6.  Write a Python program to print the following pattern, using a for loop and string operations\n",
    "\\*  \n",
    "\\*\\*  \n",
    "\\*\\*\\*  \n",
    "\\*\\*\\*\\*  \n",
    "\\*\\*\\*\\*\\*  "
   ]
  },
  {
   "cell_type": "markdown",
   "metadata": {},
   "source": [
    "### 7. Fizz Buzz\n",
    "\n",
    "* Write a Python program which iterates the integers from 1 to 50. For multiples of three print \"Fizz\" instead of the number and for the multiples of five print \"Buzz\". For numbers which are multiples of both three and five print \"FizzBuzz\"."
   ]
  },
  {
   "cell_type": "markdown",
   "metadata": {},
   "source": [
    "### 8. Write a Python program to create the multiplication table (from 1 to 10) of a number. Go to the editor\n",
    "Expected Output:\n",
    "\n",
    "Input a number: 6                                                       \n",
    "6 x 1 = 6                                                               \n",
    "6 x 2 = 12                                                              \n",
    "6 x 3 = 18                                                              \n",
    "6 x 4 = 24                                                              \n",
    "6 x 5 = 30                                                              \n",
    "6 x 6 = 36                                                              \n",
    "6 x 7 = 42                                                              \n",
    "6 x 8 = 48                                                              \n",
    "6 x 9 = 54                                                              \n",
    "6 x 10 = 60 "
   ]
  },
  {
   "cell_type": "markdown",
   "metadata": {},
   "source": [
    "### 9. Write a Python function to reverse a string.  \n",
    "\n",
    "Sample String : \"1234abcd\"  \n",
    "Expected Output : \"dcba4321\""
   ]
  },
  {
   "cell_type": "markdown",
   "metadata": {},
   "source": [
    "### 10. Uniqueness in data sets\n",
    "- load the data file \"gdp_data.txt\" into Python as a Pandas data frame named \"df\"\n",
    "- take a look at the data frame using the df.head() function\n",
    "- figure out how many countries are included in the data set by:\n",
    "    - generate a set using the column named 'country': set(df['country'].values)) (uniqueness of sets)\n",
    "    - use the len() function to count how many contries in the Python set\n",
    "- Now try use the df['country'].unique() method to count the number of countries in the df['country'] data column."
   ]
  }
 ],
 "metadata": {
  "kernelspec": {
   "display_name": "Python 3",
   "language": "python",
   "name": "python3"
  },
  "language_info": {
   "codemirror_mode": {
    "name": "ipython",
    "version": 3
   },
   "file_extension": ".py",
   "mimetype": "text/x-python",
   "name": "python",
   "nbconvert_exporter": "python",
   "pygments_lexer": "ipython3",
   "version": "3.7.4"
  }
 },
 "nbformat": 4,
 "nbformat_minor": 2
}
