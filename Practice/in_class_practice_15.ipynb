{
 "cells": [
  {
   "cell_type": "markdown",
   "metadata": {},
   "source": [
    "## In-class practice for Lecture 15\n",
    "\n",
    "* Statistics basics: Covariance, Correlation and Curve Fitting\n",
    "* New Python tricks: curve fitting for statistical data sets\n",
    "* Answer each question using Python codes in a separate cell"
   ]
  },
  {
   "cell_type": "markdown",
   "metadata": {},
   "source": [
    "### 1.  Covariance and correlation of two data sets using NumPy\n",
    "\n",
    "Download the datafile named \"gradedata.xlsx\" from Moodle\n",
    "\n",
    "- load the excel file as a Pandas data frame, take a look at the data frame (know exactly what column data you have!)\n",
    "- calculate the mean and standard deviation of the \"hours\" and \"grade\", respectively\n",
    "- use the mean values to calculate the Covariance between between \"hour\" and \"grade\"\n",
    "- use the standard deviations to compute the Pearson correlation coefficient between \"hour\" and \"grade\"\n",
    "- make a scatter plot between \"hours\" and \"grade\". Does the plot look reasonable based on the Pearson correlation coefficient you calculated use your own Python code?\n",
    "- now use the .corr() function to see whether your calculation is correct or not\n",
    "- [**Optional**] write a for-loop the calculate the Pearson correlation coefficient between \"grade\" and all the data columns include \"age\", \"exercise\", \"hours\" and \"grade\", using your own Python code (not the .corr() function)"
   ]
  },
  {
   "cell_type": "markdown",
   "metadata": {},
   "source": [
    "### 2.  Linear Curve fitting\n",
    "\n",
    "- Based on the same dataset, use the **curve_fit** function from **scipy** to compute a linear regression relation between the hours and grade \n",
    "- Also calculate linear regression relations between the age, exercise and the grade use the .corr() function\n",
    "- How do you interpret the goodness of the linear curve fitting you've done?\n",
    "\n"
   ]
  },
  {
   "cell_type": "markdown",
   "metadata": {},
   "source": [
    "### 3. Polynomial fits\n",
    "\n",
    "Certain isotopes are unstable and decay through _radioactive decay_.  The formula for radioactive decay is:\n",
    "\n",
    "$N= N_o \\exp^{-\\lambda T}$\n",
    "\n",
    "  $\\lambda$ is the decay constant (the time for $N$ to decay to $\\exp(-1)$ of the original value\n",
    "\n",
    "  $T$ is time\n",
    "\n",
    "  $N$ is the number of nuclei remaining after time $T$ \n",
    "\n",
    "  $N_o$ is the original number or parent nuclei\n",
    "\n",
    "The _half-life_ ($t_{1/2}$) is the time for $N$ to decay to $N_o$/2. The formula is:\n",
    "\n",
    "$t_{1/2} = \\frac {ln 2}{\\lambda}$\n",
    "\n",
    "- Write a lambda function to calculate radioactive decay. The decay constant, time, and initial parent should be supplied as parameters.  \n",
    "- The half-life of radiocarbon is 5,730 yrs. Calculate the decay constant of radiocarbon \n",
    "- Assume that the the initial parent, $N_o$, is 1, and time ranges from 0 to 7 half-lives. Use your function to calculate radioactive decay for radiocarbon\n",
    "- Plot a curve of $N$ versus $T$  \n",
    "- Use the curve_fit function, calculate a n-th degree polynomial fit to your radioactive decay curve. Which n gives the best answer?\n",
    "- Draw a red vertical line at the half-life of radiocarbon and a red horizontal line at .5.   "
   ]
  }
 ],
 "metadata": {
  "kernelspec": {
   "display_name": "Python 3",
   "language": "python",
   "name": "python3"
  },
  "language_info": {
   "codemirror_mode": {
    "name": "ipython",
    "version": 3
   },
   "file_extension": ".py",
   "mimetype": "text/x-python",
   "name": "python",
   "nbconvert_exporter": "python",
   "pygments_lexer": "ipython3",
   "version": "3.7.4"
  }
 },
 "nbformat": 4,
 "nbformat_minor": 2
}
