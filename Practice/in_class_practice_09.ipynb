{
 "cells": [
  {
   "cell_type": "markdown",
   "metadata": {},
   "source": [
    "## In-class practice for Lecture 9\n",
    "\n",
    "* Here's the complete documentation for the Pandas library: https://pandas.pydata.org\n",
    "* Answer each question using Python codes in a separate cell"
   ]
  },
  {
   "cell_type": "markdown",
   "metadata": {},
   "source": [
    "### 1. Create you own DataFrame\n",
    "\n",
    "- Download the brics.xlsx file from Moodle, it contains information of the five BRICS countries\n",
    "- Create a similar excel file called piigs.xlsx in your current working directory, find similar information of the PIIGS countries (google it!) and fill in the corresponding information\n",
    "- Load the piigs.xlsx file in to Python as a DataFram using Pandas\n",
    "- Print the \"Area\" of all the PIIGS country\n",
    "- Print the \"Capital\" of the country \"G\" in PIIGS\n",
    "- Add a new column named \"GDP\" with corresponding data you found"
   ]
  },
  {
   "cell_type": "markdown",
   "metadata": {},
   "source": [
    "### 2. Load csv data files using Pandas\n",
    "\n",
    "- Download the data file \"gdp_life.csv\" and save it to the new folder _datasets_ you just created\n",
    "- Use the \"**cat**\" command in Jupyter notebook to show the content of the \"gdp_life.csv\" file, does the csv file make sense to you?\n",
    "- Load the data file \"gdp_life.csv\" in the folder _datasets_ using the Pandas library with the proper file path and file name.\n",
    "- Use the .head() function and the .tail() function to see the first and last 5 rows of data\n",
    "- Rename the column index \"Life Exp\" as \"LifeExp\", and \"Population\" as \"Pop\"\n",
    "- Add a new column \"totalGDP\" which equals \"GDP per Capita times Population\"\n",
    "- Make a histgram of the life expectancy and another histgram of the GDP per capita\n",
    "- plot the relationship between the life expectancy and the GDP per capita using a scatter plot, set the size of the bubble to be the population\n",
    "- Can you make the above plot for only Asia? (if you can't, don't worry we will learn that tomorrow)"
   ]
  },
  {
   "cell_type": "markdown",
   "metadata": {},
   "source": [
    "### 3. Load excel data files using Pandas\n",
    "\n",
    "- Download the data file \"Mangkhut.xlsx\", and again save it to the new folder called _datasets_ you've already created\n",
    "- Use the \"**cat**\" command in Jupyter notebook to show the content of the \"gdp_life.csv\" file, what does an excel file look like in Jupyter notebook?\n",
    "- Load the data file \"Mangkhut.xlsx\" using the Pandas library the proper file path and file name\n",
    "- Print out all the column index of the dataFrame using the .columns attribute (e.g., if you dataFrame is called mg, then simply use mg.columns)\n",
    "- Plot the track of the Typhoon Mangkhut on a map, with your favorite projection highlighting the path of the Hurricane. \n",
    "- Can you color the path of the Typhoon based on it's class? (again, we will learn this tomorrow)"
   ]
  },
  {
   "cell_type": "markdown",
   "metadata": {},
   "source": [
    "### [optional] Practice with command lines \n",
    "\n",
    "- Note that Mac and PC use **different** commands, the following instruction works for the Mac/Linux systems\n",
    "- Find the absolute directory of your desktop\n",
    "- Find you current working directory using the \"pwd\" command, what's the relative directory of your desktop?\n",
    "- Use the \"**ls**\" command to see what files are in your current working directory\n",
    "- Use \"**ls \\*ipynb**\" to list all the Jupyter notebook files in your current working directory\n",
    "- Make a copy of this in-class practice notebook file use the \"**cp**\" command, name it \"practice_09.ipynb\"\n",
    "- Use the \"**cat**\" command to show the content of the \"practice_09.ipynb\" file\n",
    "- In your current working directory, make two new folder called _Practice_ and _datasets_\n",
    "- Move the \"practice_09.ipynb\" to the new folder _Practice_ use the \"mv\" command:\n",
    "    - how to use the command:\n",
    "       **mv** _oldfilepath_ _newfilepath_\n",
    "- Now remove the directory _Practice_ you just created use the **rm** command (be careful, don't remove other directories!)."
   ]
  }
 ],
 "metadata": {
  "kernelspec": {
   "display_name": "Python 3",
   "language": "python",
   "name": "python3"
  },
  "language_info": {
   "codemirror_mode": {
    "name": "ipython",
    "version": 3
   },
   "file_extension": ".py",
   "mimetype": "text/x-python",
   "name": "python",
   "nbconvert_exporter": "python",
   "pygments_lexer": "ipython3",
   "version": "3.7.4"
  }
 },
 "nbformat": 4,
 "nbformat_minor": 2
}
