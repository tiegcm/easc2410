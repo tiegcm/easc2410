{
 "cells": [
  {
   "cell_type": "markdown",
   "metadata": {},
   "source": [
    "## In-class practice for Lecture 7\n",
    "\n",
    "* Answer each question using Python codes in a separate cell"
   ]
  },
  {
   "cell_type": "markdown",
   "metadata": {},
   "source": [
    "### 1. Python Lists to 2-D NumPy Arrays"
   ]
  },
  {
   "cell_type": "code",
   "execution_count": 3,
   "metadata": {},
   "outputs": [],
   "source": [
    "# Import numpy\n",
    "import numpy as np\n",
    "\n",
    "# define a list named baseball\n",
    "baseball = [[180, 78.4],\n",
    "            [215, 102.7],\n",
    "            [210, 98.5],\n",
    "            [188, 75.2]]\n",
    "\n",
    "# Create a 2D Numpy array from the Python list baseball, name it \"np_baseball\"\n",
    "\n",
    "\n",
    "# print out the dimension of np_baseball\n",
    "\n",
    "\n",
    "# Print out the type of np_baseball\n",
    "\n",
    "\n",
    "# Print out the shape of np_baseball\n",
    "\n",
    "\n",
    "# Print out the second row of np_baseball\n",
    "\n",
    "\n",
    "# print out the first colume of baseball\n",
    "\n",
    "\n",
    "# what is the value of np_baseball[2,1]?\n",
    "\n"
   ]
  },
  {
   "cell_type": "markdown",
   "metadata": {},
   "source": [
    "### 2. Creating 2-D NumPy arrays"
   ]
  },
  {
   "cell_type": "code",
   "execution_count": null,
   "metadata": {},
   "outputs": [],
   "source": [
    "# Create a 2-D NumPy array with 5 rows and 8 columns, fill with zeros\n",
    "\n",
    "\n",
    "# Create a 2-D NumPy array with 5 rows and 8 columns, fill with ones\n",
    "\n",
    "\n",
    "# Create a 2-D NumPy array with 5 rows and 8 columns, fill with random numbers \n",
    "# Hiht: use the \"np.random.random()\" function we discussed in Lecutre 5 for creating 1-D Numpy arrays\n",
    "\n"
   ]
  },
  {
   "cell_type": "markdown",
   "metadata": {},
   "source": [
    "### 3. Earthquakes\n",
    "\n",
    "* Download the data file \"earthquake.csv\" and **save it to your current directory where the ipynb book** is (csv means \"comma separated values\", don't worry, it's just like txt files)\n",
    "* Load the data file into Python using: EQ = np.loadtxt('earthquake.csv', delimiter=','), what happened?\n",
    "* Now take a look at the data file, what do you find? \n",
    "* The problem here is because the first row is not numerical and cannot be loaded into a 2-D Numpy Array. \n",
    "* Now type in help(np.loadtxt), see the optional input argments for the loadtxt() function and see how to **skip the first row** that is \"string\" rather than numerical (Hint: try use skiprows = 1, what if you do skiprows = 5?)\n",
    "* Now, Each row represnts one earthquake\n",
    "* The column data goes as \"Latitude\", \"Longitude\", \"Depth\", \"Magnitude\"\n",
    "* Make a histgram to show the distributions of the magnitudes of all the earthquakes\n",
    "* Plot the relationship between \"Depth\" and \"Latitude\", do you find any correlations?\n",
    "* Plot the relationship between \"Depth\" and \"Magnitude\", What do you find?"
   ]
  },
  {
   "cell_type": "code",
   "execution_count": 6,
   "metadata": {},
   "outputs": [],
   "source": [
    "EQ = np.loadtxt('earthquake.csv', delimiter=',')"
   ]
  },
  {
   "cell_type": "markdown",
   "metadata": {},
   "source": [
    "### 4. Hurricane Maria\n",
    "\n",
    "* Download the data file maria_data.txt to your current folder\n",
    "* Load the data file into Python using: maria = np.genfromtxt('maria_data.txt', delimiter=',')\n",
    "* The column data goes as \"date\", \"Time\", \"Latitude\", \"Longitude\", \"Wind Speed\", \"Pressure\"\n",
    "* Plot the track of Hurrican Maria (hint: a line plot with the latitude as a function of longitude)\n",
    "* Plot the relationship between Speed and Pressure, what do you find?"
   ]
  }
 ],
 "metadata": {
  "kernelspec": {
   "display_name": "Python 3",
   "language": "python",
   "name": "python3"
  },
  "language_info": {
   "codemirror_mode": {
    "name": "ipython",
    "version": 3
   },
   "file_extension": ".py",
   "mimetype": "text/x-python",
   "name": "python",
   "nbconvert_exporter": "python",
   "pygments_lexer": "ipython3",
   "version": "3.7.4"
  }
 },
 "nbformat": 4,
 "nbformat_minor": 2
}
