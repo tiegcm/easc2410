{
 "cells": [
  {
   "cell_type": "markdown",
   "metadata": {},
   "source": [
    "## In-class practice for Lecture 6 \n",
    "\n",
    "* Answer each question using Python codes in a separate cell"
   ]
  },
  {
   "cell_type": "markdown",
   "metadata": {},
   "source": [
    "### 1. Visualization of multiple curves in one figure\n",
    "\n",
    "* import the **numpy** module\n",
    "* import the **matplotlib.pyplot** module\n",
    "* creat a 1-D numpy array **x**, starts from 0, stops at 30, with 100 data points\n",
    "* plot the curve of **sin(x/2)** and **cos(x)**\n",
    "* now import the special functions module using **import scipy.special as sci**\n",
    "* in the same plot, plot the curve of the two Bessel functions (**sci.j0(x)** and **sci.j1(x)**)\n",
    "* adjust your x-axis according to the maximum value of **x**\n",
    "* adjust your y-axis based on the values of the curves\n",
    "* adjust the **linestyle**, **color**, **linewidth** (and/or **marker**) to make your plot look nice\n",
    "* label your x-axis and y-axis, add a title to your figure\n",
    "* add legend to your figure\n",
    "* add grid to your figure - does it look nice to put on the grid in this figure?"
   ]
  },
  {
   "cell_type": "markdown",
   "metadata": {},
   "source": [
    "### 2. Visualization of multiple curves in subplots  \n",
    "\n",
    "* Now use the subplot() function to create four subplots for the four curves you've just generated: sin(x/2), cos(x), j0(x), j1(x) (with the same x)\n",
    "* label and adjust all your subplots to make your figures look nice"
   ]
  },
  {
   "cell_type": "markdown",
   "metadata": {},
   "source": [
    "### 3. Make a circle using parametric equations   \n",
    "\n",
    "* create a numpy array **theta** that expands from 0 to $2\\pi$, with, say, 180 data points.\n",
    "* calculate **x = cos(theta)** using numpy\n",
    "* calculate **y = sin(theta)** using numpy\n",
    "* now use the plot function to make a circle, by simply using plot(x,y)\n",
    "* try a new function of numpy: fill(x,y,'g'), what do you get?\n",
    "* Does your circule look like circular? if not, try plt.axis('equal') and see what happens"
   ]
  },
  {
   "cell_type": "markdown",
   "metadata": {},
   "source": [
    "### 4. Pie plots   \n",
    "\n",
    "* use the **sizes** list in the following code cell to generate a pie plot, by pie(size)\n",
    "* put on labels for your pie plot using the **labels** option with the **names** list given in the code cell\n",
    "* now change the tuple named **explode** to emphasize (or highlight) Hogs using the **explode** option\n",
    "* try the **autopct='%1.2f%%'** option in your pie() function to label the percentage for each piece of you pie\n",
    "* now give your pie plot a title"
   ]
  },
  {
   "cell_type": "code",
   "execution_count": 3,
   "metadata": {},
   "outputs": [],
   "source": [
    "names = 'Frogs', 'Hogs', 'Dogs', 'Logs'\n",
    "sizes = [15, 30, 45, 10]\n",
    "expl = (0, 0.05, 0, 0)  # only \"explode\" the 2nd slice (i.e. 'Hogs')\n",
    "\n",
    "# put you codes here"
   ]
  },
  {
   "cell_type": "markdown",
   "metadata": {},
   "source": [
    "### 5. Histgram and scatter plots   \n",
    "\n",
    "* In the following cell, you've already given two numpy arrays named **age** and **gdp**, which are the life expectancy and the GDP per capita for quite a few countries. Let's use those two numpy arrays to try some data analysis   \n",
    "* Make a pie plot using pie() to show the distributions of life expectancy - does it make sense at all?\n",
    "* Make a histgram using hist() with 20 bins to show the distribution of the life expectancy - what do you learn?\n",
    "* Now make a line plot using **plot(gdp,age)** to show the relationship between GDP per capita and life expectancy\n",
    "* Does your line plot look nice? How to fix it? (hint: either use markers without lines or sort your numpy array before plotting)  \n",
    "* Now try the scatter() function to show your data points\n",
    "* change your xscale to be logarithm using xscale('log')\n",
    "* In the same plot, make the following curve using the following equation $y=75.49-\\frac{48270}{x+1200}+0.00014x$. How does this function look like? Note: **x** should be a 1-D numpy array from, say, 500 to 50000, using 100 points (e.g., you can use the linspace() function)"
   ]
  },
  {
   "cell_type": "code",
   "execution_count": 68,
   "metadata": {},
   "outputs": [],
   "source": [
    "#Undefined function or variable 'age'.\n",
    " \n",
    "age = np.array([46.97,72.37,70.54,83.49,36.96,75.48,66.68,80.13,78.17,63.16,65.71,73.72,61.33,71.84,\n",
    "                68.43,78.29,51.08,77.41,53.58,64.78,72.29,32.26,71.13,74.3,71.8,44.46,55.79,43.2,\n",
    "                57.92,48.05,79.83,41.71,48.51,76.35,72.22,71.14,48.93,50.02,76.43,42.65,74.37,76.8,\n",
    "                75.18,77.1,74.12,67.96,71.89,70.41,70.62,70.31,41.24,68.88,77.92,79.28,76.69,75.45,\n",
    "                57.12,54.38,71.4,64.76,78.42,56.53,78.89,77.53,65.23,80.04,49.54,46.97,63.09,51.61,\n",
    "                66.65,79.93,72.17,79.8,63.62,68.94,69.35,67.81,77.35,77.98,79.02,79.4,75.85,80.93,\n",
    "                78.93,77.88,63.48,45.22,70.79,75.36,76.65,63.66,54.3,69.31,72.07,36.94,48.15,76.07,\n",
    "                69.6,77.66,81.87,74.49,56.14,37.98,71.67,45.43,78.43,78.72,51.93,71.8,60.6,72.3,64.88,\n",
    "                63.81,70.04,31.3,42.77,59,78.74,75.38,73.52,78.32,69.68,42.21,51.01,79.09,72.58,62.2,\n",
    "                72.32,64.19,74.4,70.88,69.29,73.91,76.35,77.26,73.14,70.62,67.66,39.33,66.28,68.73,\n",
    "                56.37,42.84,80.42,74.43,75.51,47.34,46.56,79.23,72.62,57.73,69.23,39.47,79.97,79.99,\n",
    "                69.39,76.87,64.37,44.56,71.24,53.43,69.59,74.4,71.8,61.19,44.88,66.5,74.75,78.16,77.14,\n",
    "                75.87,64,61.71,73.81,70.05,72.68,60.97,35.25,39.01])\n",
    "\n",
    "gdp = np.array([800,4500,6000,26800,1900,11200,3500,29000,30000,3400,16700,16900,1900,15700,6100,29100\n",
    "                ,1100,36000,1400,2400,6100,9000,7600,23600,7600,1100,1800,600,1900,1800,29800,1100,1200\n",
    "                ,9900,5000,6300,700,700,9100,1400,10600,2900,15700,31100,5500,6000,3300,4000,4800,12300\n",
    "                ,700,5800,27400,27600,8300,17500,5500,1700,600,2500,27600,2200,20000,7900,4100,40000,\n",
    "                2100,800,4000,1600,2600,28800,13900,30900,2900,3200,7000,1500,29600,28500,19800,26700,\n",
    "                3900,28200,40000,4300,6300,1000,1300,17800,19000,1600,1700,10200,4800,3000,1000,6400,\n",
    "                11400,55100,19400,6700,800,600,9000,900,17700,14400,1800,11400,2600,9000,1800,1800,4000,\n",
    "                1200,7200,1400,28600,11400,15000,21600,2300,800,900,37800,13100,2100,6300,2200,4700,5100,\n",
    "                4600,11100,18000,16800,21500,7000,8900,1300,1200,11800,1600,500,23700,13300,19000,500,\n",
    "                10700,22000,3700,1900,4000,4900,26800,32700,3300,23400,1000,600,7400,1500,9500,6900,6700,\n",
    "                5800,1400,5400,23200,27700,37800,12800,1700,2900,4800,2500,1100,800,800,1900])\n",
    "\n",
    "# start your code here"
   ]
  }
 ],
 "metadata": {
  "kernelspec": {
   "display_name": "Python 3",
   "language": "python",
   "name": "python3"
  },
  "language_info": {
   "codemirror_mode": {
    "name": "ipython",
    "version": 3
   },
   "file_extension": ".py",
   "mimetype": "text/x-python",
   "name": "python",
   "nbconvert_exporter": "python",
   "pygments_lexer": "ipython3",
   "version": "3.7.4"
  }
 },
 "nbformat": 4,
 "nbformat_minor": 2
}
