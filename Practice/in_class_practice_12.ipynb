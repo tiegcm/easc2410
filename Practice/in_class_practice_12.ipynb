{
 "cells": [
  {
   "cell_type": "markdown",
   "metadata": {},
   "source": [
    "## In-class practice for Lecture 12\n",
    "\n",
    "* Python Debug Practice\n",
    "* Debug each code block and record the Error messages you've seen\n",
    "* Have you seen those error messages before?"
   ]
  },
  {
   "cell_type": "markdown",
   "metadata": {},
   "source": [
    "### 1. List, Sets\n",
    "\n",
    "Given mylist = [3.14, 'pi', 0.314e1, 'PIE']\n",
    "\n",
    "* Change the fourth element to be \"True\"\n",
    "* Print out all the elements in \"mylist\""
   ]
  },
  {
   "cell_type": "code",
   "execution_count": 6,
   "metadata": {},
   "outputs": [
    {
     "name": "stdout",
     "output_type": "stream",
     "text": [
      "0\n",
      "1\n",
      "2\n",
      "3\n"
     ]
    }
   ],
   "source": [
    "mylist = [3.14, 'pi', 0.314e1, 'PIE'] # define a list\n",
    "mylist[3] = True # Change the fourth element to \"True\"\n",
    "\n",
    "# print all the elements in mylist\n",
    "for i in range(len(mylist)):\n",
    "    print(i)"
   ]
  },
  {
   "cell_type": "markdown",
   "metadata": {},
   "source": [
    "Given the following set: myset = {'a',2,3,4,0.3}\n",
    "* can you change the SECOND element to be \"PI\"?\n",
    "* write a for-loop to print out all the elements in myset"
   ]
  },
  {
   "cell_type": "code",
   "execution_count": 9,
   "metadata": {},
   "outputs": [
    {
     "name": "stdout",
     "output_type": "stream",
     "text": [
      "0.3\n",
      "2\n",
      "3\n",
      "4\n",
      "a\n"
     ]
    }
   ],
   "source": [
    "myset = {'a',2,3,4,0.3} # define a set\n",
    "#myset[2] = 'PI' # change the second element to be PI?\n",
    "\n",
    "# print all the elements in myset\n",
    "for i in myset:\n",
    "    print(i)"
   ]
  },
  {
   "cell_type": "markdown",
   "metadata": {},
   "source": [
    "### 2. Types in a list \n",
    "\n",
    "* Give the following list  [1, 4, 5.3, 'hello', 2+4.4j, False, False, 3.1. 'pi', True, 1e5, 2+3j, 11, 80.0]. Write a program to count the number of integers in the list (use a for-loop)\n",
    "* Print the results"
   ]
  },
  {
   "cell_type": "code",
   "execution_count": 15,
   "metadata": {},
   "outputs": [
    {
     "name": "stdout",
     "output_type": "stream",
     "text": [
      "The number of integers in mylist is 18\n"
     ]
    }
   ],
   "source": [
    "mylist = [1, 4, 5.3, 'hello', 2+4.4j, False, False, 3.1, 'pi', True, 1e5, 2+3j, 11, 80.0] # define a list\n",
    "\n",
    "# use a for loop to step through each elements in mylist\n",
    "for item in mylist: \n",
    "    if (isinstance(item,int)==True):    # if type = int, increase num_int by 1\n",
    "        num_int = num_int + 1 \n",
    "print(\"The number of integers in mylist is\",num_int) # print the results"
   ]
  },
  {
   "cell_type": "markdown",
   "metadata": {},
   "source": [
    "### 3. Divisors\n",
    "\n",
    "* Create a program that asks the user for a number and then prints out a list of all the divisors of that number. (If you don’t know what a divisor is, it is a number that divides evenly into another number. For example, 13 is a divisor of 26 because 26 / 13 has no remainder.)\n",
    "\n",
    "* Write a Python program to find those numbers which are divisible by 7 and multiple of 5, between 1500 and 2700 (both included). "
   ]
  },
  {
   "cell_type": "code",
   "execution_count": 4,
   "metadata": {},
   "outputs": [
    {
     "ename": "SyntaxError",
     "evalue": "invalid syntax (<ipython-input-4-28a9bb415625>, line 5)",
     "output_type": "error",
     "traceback": [
      "\u001b[0;36m  File \u001b[0;32m\"<ipython-input-4-28a9bb415625>\"\u001b[0;36m, line \u001b[0;32m5\u001b[0m\n\u001b[0;31m    for i in range(1,num)\u001b[0m\n\u001b[0m                         ^\u001b[0m\n\u001b[0;31mSyntaxError\u001b[0m\u001b[0;31m:\u001b[0m invalid syntax\n"
     ]
    }
   ],
   "source": [
    "num = input(\"Gimme a number: \")\n",
    "\n",
    "divisors = []\n",
    "\n",
    "for i in range(1,num)\n",
    "    if((num%i)==0):\n",
    "        divisor.append() = i\n",
    "\n",
    "print(\"The number\",nun,\"has divisors:\",divisor)"
   ]
  },
  {
   "cell_type": "markdown",
   "metadata": {},
   "source": [
    "### 4.  Parametric Curves\n",
    "\n",
    "* In the **left panel**, first create a 1-D NumPy array named $t$ with 168 data points from 0 to $2\\pi$\n",
    "* then compute a new NumPy array **$x$** by calculating the following equation $x=16\\sin^3(t)$\n",
    "* then compute another new NumPy array **$y$** by calculating the following equation $y=13\\cos(t)-5cos(2t)-2cos(3t)-cos(4t)$\n",
    "* next plot the curve with $x$ the horizontal axis and $y$ the vertical axis. Use the axis('equal') function from pyplot as well.\n",
    "------------------------------------------------------------------------  \n",
    "* In the **right panel**, let $x=6\\cos(t)$ and $y=\\frac{4\\sin(t)}{1+0.3\\cos(t)}$\n",
    "* then plot the curve with $x$ the horizontal axis and $y$ the vertical axis. Use the axis('equal') function from pyplot.\n",
    "* fill your plot with green color using the fill() function. What do you get?\n"
   ]
  },
  {
   "cell_type": "code",
   "execution_count": null,
   "metadata": {},
   "outputs": [],
   "source": [
    "import numpy as np\n",
    "\n",
    "t = np.linspace(0,np.pi*2,100)\n",
    "\n",
    "plt.figure(figsize=(10,5))\n",
    "\n",
    "plt.subplot(1,2,1) # left panel\n",
    "x = 16*sin(t)**3\n",
    "y = 13*cos(t) - 5*cos(2*t) -2*cos(3*t) - cos(4*t)\n",
    "plt.fill(x,y,'r')\n",
    "plt.title('Red Heart')\n",
    "plt.axis('equal')\n",
    "\n",
    "plt.subplot(1,2,2) # right panel\n",
    "x1 = 6*cos(t)\n",
    "y1 = 4*sin(t)/sqrt(1+0.3*cos(t))\n",
    "plt.fill(x,y,'g')\n",
    "plt.title('Green Egg')\n",
    "plt.axis('equal')\n",
    "\n",
    "plt.show()"
   ]
  },
  {
   "cell_type": "markdown",
   "metadata": {},
   "source": [
    "### 5. Air Quality of Boulder CO\n",
    "\n",
    "In the following code cell, you've got a list named \"pm25_2018\", which is the daily PM2.5 data measured in Boulder Colorado for the whole of 2018. There is another list named \"days\" contains the day-of-year for each PM2.5 data points. Let's generate some plots to visualize the air quality of Boulder in 2018.\n",
    "\n",
    "* What's the maximum, minimum and mean PM2.5 value for Boulder Colorado in 2018?\n",
    "* How many days in Bounder with $PM2.5\\leq100$ in 2018? print the results. (HINT: there are multiple ways to do this, for example, recall the relational operator we talked about in class, which returns booleans with \"True\" of \"False\", but remember booleans can be operated as integers)\n",
    "* How many days in Bounder with $50<PM2.5<100$ in 2018?\n",
    "* How many days in Bounder with $PM2.5\\le50$ in 2018?\n",
    "* Plot the PM2.5 data using a scatter plot, for days with PM2.5 <= 50, use green crosses, for days with  50 < PM2.5 < 100, use yellow pluses, for days with PM2.5 >= 100, use red circles. \n",
    "* Label your plots, adjust the axis as well."
   ]
  },
  {
   "cell_type": "code",
   "execution_count": null,
   "metadata": {},
   "outputs": [],
   "source": [
    "days = [1,2,3,4,5,6,7,8,9,10,11,12,13,14,15,16,17,18,19,20,21,22,23,24,25,26,27,28,29,30,31,32,33,\n",
    "        34,35,36,37,38,39,40,41,42,43,44,45,46,47,48,49,50,51,52,53,54,55,56,57,58,59,60,61,62,63,\n",
    "        64,65,66,67,68,69,70,71,72,73,74,75,76,77,78,79,80,81,82,83,84,85,86,87,88,89,90,91,92,93,\n",
    "        94,95,96,97,98,99,100,101,102,103,104,105,106,107,108,109,110,111,112,113,114,115,116,117,\n",
    "        118,119,120,121,122,123,124,125,126,127,128,129,130,131,132,133,134,135,136,137,138,139,\n",
    "        140,141,142,143,144,145,146,147,148,149,150,151,152,153,154,155,156,157,158,159,160,161,\n",
    "        162,163,164,165,166,167,168,169,170,171,172,173,174,175,176,177,178,179,180,181,182,183,\n",
    "        184,185,186,187,188,189,190,191,192,193,194,195,196,197,198,199,200,201,202,203,204,205,\n",
    "        206,207,208,209,210,211,212,213,214,215,216,217,218,219,220,221,222,223,224,225,226,227,\n",
    "        228,229,230,231,232,233,234,235,236,237,238,239,240,241,242,243,244,245,246,247,248,249,\n",
    "        250,251,252,253,254,255,256,257,258,259,260,261,262,263,264,265,266,267,268,269,270,271,\n",
    "        272,273,274,275,276,277,278,279,280,281,282,283,284,285,286,287,288,289,290,291,292,293,\n",
    "        294,295,296,297,298,299,300,301,302,303,304,305,306,307,308,309,310,311,312,313,314,315,\n",
    "        316,317,318,319,320,321,322,323,324,325,326,327,328,329,330,331,332,333,334,335,336,337,\n",
    "        338,339,340,341,342,343,344,345,346,347,348,349,350,351,352,353,354,355,356,357,358,359,\n",
    "        360,361,362,363,364,365]\n",
    "\n",
    "pm25=[53,54,55,55,31,24,38,47,45,27,17,14,17,33,46,50,45,37,28,23,35,84,51,9,19,20,17,12,14,\n",
    "           19,29,26,18,16,15,16,14,17,22,17,15,14,18,20,19,10,11,21,13,12,20,22,22,21,20,21,22,15,\n",
    "           13,23,21,21,29,22,17,21,18,17,23,27,28,19,17,20,25,29,32,29,28,30,45,47,39,24,22,28,20,\n",
    "           25,38,28,32,50,47,50,59,56,50,41,36,34,35,36,34,29,31,33,30,27,28,36,33,30,38,41,41,39,\n",
    "           43,46,40,36,34,37,35,30,26,25,26,35,41,44,36,34,36,38,50,70,63,57,51,50,49,48,52,52,47,\n",
    "           48,47,46,43,45,59,68,68,49,57,67,68,62,53,43,50,73,127,115,81,73,65,65,100,88,52,33,27,\n",
    "           30,39,44,44,34,26,20,19,24,35,38,39,39,40,37,28,26,27,32,30,32,44,36,28,24,23,26,36,34,\n",
    "           31,33,33,34,37,38,36,33,35,39,41,38,32,28,26,24,26,31,35,28,28,33,30,34,42,34,23,9,19,\n",
    "           25,24,25,24,23,16,13,17,15,19,34,47,49,32,25,24,30,28,26,27,27,27,29,31,32,27,27,32,43,\n",
    "           42,35,31,30,30,21,22,30,28,23,16,20,20,17,14,11,9,20,22,13,15,21,29,39,46,46,37,28,19,\n",
    "           21,25,29,35,38,35,35,31,16,25,41,51,53,52,51,43,29,12,8,10,11,23,41,35,24,11,24,38,54,\n",
    "           45,34,23,31,37,40,31,29,37,57,71,75,63,56,59,42,26,21,21,25,40,49,54,52,52,52,43,25,11,\n",
    "           29,29,22,18,26,37,36,35,33,31,25,17,21,35,56,44,33,21]\n",
    "\n",
    "import numpy as np\n",
    "import matplotlib.pyplot as plt\n",
    "\n",
    "# print the max, min and mean values of PM2.5\n",
    "print('The maximum PM2.5 in 2018 is', pm25.max()) \n",
    "print('The minimum PM2.5 in 2018 is', pm25.min())\n",
    "print('The mean PM2.5 in 2018 is', pm25.mean())\n",
    "\n",
    "# booleans with PM2.5 >= 100\n",
    "high = (pm25 >= 100)\n",
    "print('There were', high.sun(), 'days in 2018 with PM2.5 >100') # total # of \"True\"s\n",
    "\n",
    "# booleans with PM2.5 > 50 and PM2.5 < 100\n",
    "medium = (pm25 < 100) & (pm25 >50)\n",
    "print('There were', medium.sum(), 'days in 2018 with PM2.5 >50') # total # of \"True\"s\n",
    "\n",
    "# booleans with PM2.5 <= 50\n",
    "low = (pm25 <= 50)\n",
    "print('There were', low.sum(), 'days in 2018 with PM2.5 <50') # total # of \"True\"s\n",
    "\n",
    "plt.figure() # generate a figure\n",
    "\n",
    "pm_high = pm25(high)  # index slicing with PM2.5>100\n",
    "day_high = days(high) # index slicing for \"days\" with PM2.5>100\n",
    "plt.scatter(day_high,pm_high,color='r',mark='o') # plot using red \"o\"\n",
    "\n",
    "pm_medium = pm25(medium)\n",
    "day_medium = days(medium)\n",
    "plt.scatter(day_medium,pm_medium,color='y',mark='+')\n",
    "\n",
    "pm_low = pm25(low)\n",
    "day_low = days(low)\n",
    "plt.scatter(day_low,pm_low,color='g',mark='x')\n",
    "\n",
    "plt.show()"
   ]
  },
  {
   "cell_type": "markdown",
   "metadata": {},
   "source": [
    "### 6. GDP versus Life expectancy\n",
    "\n",
    "- Download the data file named gdp_life.csv from Moodle\n",
    "- Load the data file into a Pandas data Frame using the read_csv() function\n",
    "- Make histograms of GDP and Life Exp to see what the data distributions look like, do they make sense to you?\n",
    "- Remove all the rows with NaNs\n",
    "- Remove the outliers in your dataset if necessary\n",
    "- Now look at the example of data filtering in Pandas data frames (see the \"Asia\" plot example in lecture notes/notebooks) make a similar bubble plot of GDP versus Life Exp as you've done in HW4 with all the continents, by setting the size of the bubbles using the population and the color of the bubbles using the continent: \n",
    "    - Asia (red)\n",
    "    - Europe (blue)\n",
    "    - Africa (green)\n",
    "    - North America (yellow)\n",
    "- NOTE: Use a **for**-loop to generate the bubble plot."
   ]
  },
  {
   "cell_type": "code",
   "execution_count": null,
   "metadata": {},
   "outputs": [],
   "source": [
    "import pandas as pd\n",
    "\n",
    "# file location and name\n",
    "file = \"datasets/gdp_life.csv\"\n",
    "\n",
    "# load file to data frame\n",
    "gdp = pd.read_excel(file)\n",
    "\n",
    "# rename the columns\n",
    "gdp.rename(columns={'Life Exp':'LifeExp','Population':'Pop'},inplace = True)\n",
    "\n",
    "# remove outliers \n",
    "gdp = gdp((gdp.Life_Exp<100)&(gdp.Life_Exp>0)) ######################\n",
    "\n",
    "plt.figure(figsize=(8,6))\n",
    "\n",
    "cont = ['Asia','Europe','Africa','North America'] # generate a list with the names of the continents\n",
    "col = ['r','y','b','g'] # generate a list with corresponding bubble colors\n",
    "\n",
    "# use i as an iterator, loop over the list \"cont\" \n",
    "for i in range(1,len(cont):\n",
    "\n",
    "    gdp_con = gdp.GDP[gdp.continent == cont]\n",
    "    life_con = gdp.LifeExp[gdp.continent == cont]\n",
    "    pop_con = gdp.Pop(gdp.continent == cont)\n",
    "    plt.scatter(gdp_con,life_con,pop_con*2,color=col,alpha = 0.5,label = cont)\n",
    "    \n",
    "# figure tuning\n",
    "plt.text(4500,77,'China',fontsize=14)\n",
    "plt.text(2100,68,'India',fontsize=14)\n",
    "plt.xscale('lag')\n",
    "plt.xlabel('GDP per Capita, USD',fontsize=14)\n",
    "plt.ylabel('Year',fontsize=14)\n",
    "plt.title('GDP versus Life Expectancy',fontsize=14)\n",
    "plt.grid()\n",
    "plt.legend(loc=4)\n",
    "plt.show()"
   ]
  }
 ],
 "metadata": {
  "kernelspec": {
   "display_name": "Python 3",
   "language": "python",
   "name": "python3"
  },
  "language_info": {
   "codemirror_mode": {
    "name": "ipython",
    "version": 3
   },
   "file_extension": ".py",
   "mimetype": "text/x-python",
   "name": "python",
   "nbconvert_exporter": "python",
   "pygments_lexer": "ipython3",
   "version": "3.7.4"
  }
 },
 "nbformat": 4,
 "nbformat_minor": 2
}
