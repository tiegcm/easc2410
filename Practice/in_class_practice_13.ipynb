{
 "cells": [
  {
   "cell_type": "markdown",
   "metadata": {},
   "source": [
    "## In-class practice for Lecture 13\n",
    "\n",
    "* Statistics basics: Probability Distribution Functions and Monte Carlo Simulations\n",
    "* Answer each question using Python codes in a separate cell"
   ]
  },
  {
   "cell_type": "markdown",
   "metadata": {},
   "source": [
    "### 1.  Theoretical Binomial functions\n",
    "\n",
    "The probability of a binomial distribution is calculated as \n",
    "\n",
    "$$P=f(x,p,n)= \\frac{n!}{x!(n-x)!}p^x(1-p)^{n-x}, x=0,1,2,...,n.$$\n",
    "\n",
    "Assume that the probability of getting a winning lottery ticket ($p$) is 1 in 20 and you have money to purchase up to 10 tickets ($n$). \n",
    "- Calculate the probability of purchasing one winning lottery ticket. \n",
    "- Create a list of probabilites. The probability of purchasing 1 winning ticket ($x=1$), 2 winning tickets ($x=2$), 3 winning tickets ($x=3$), ... up to 10 winning tickets ($x=10$). \n",
    "- Plot the probability against the number of winning tickets purchased as a green bar plot. Label both axes\n",
    "- What's the probability of winning at least three times?"
   ]
  },
  {
   "cell_type": "markdown",
   "metadata": {},
   "source": [
    "\n",
    "### 2. Monte Carlo simulations with random.binomial( )\n",
    "Again, assume that the probability of getting a winning lottery ticket ($p$) is 1 in 20 and you have money to purchase up to 10 tickets ($n$). \n",
    "- Run 100 simulations (**nmc**) of the scenario \n",
    "- Plot the simulated results as a histogram and the theoretical distribution as a line graph\n",
    "- Add a title, a legend to the plot\n",
    "- Add a label to the x-axis and y-axis\n",
    "- Does the simulated distribution resemble the theoretical distribution? Experiment with the number of simulations (**nmc**) to see the change of the simulated propability distributions."
   ]
  },
  {
   "cell_type": "markdown",
   "metadata": {},
   "source": [
    "### 3. Normal distributions\n",
    "\n",
    "The theoretical form for a normal distribution is:\n",
    "\n",
    "$$P=f(x,\\mu, \\sigma)= \\frac{1}{\\sigma\\sqrt{2\\pi}} e^{-\\frac{(x-\\mu)^2}{2\\sigma^2}},-\\infty < x < \\infty$$\n",
    "\n",
    "- Calculate the theoretical distribution of grades on an exam with a mean of 60 ($\\mu = 60$) and a standard deviation of $\\pm$ 15 ($\\sigma = 15$). Assume the grades are integers between 0 and 100. \n",
    "- Use the **random.normal(mu,sigma,Nmc)** function to simulate the results of an exam taken by 35 students\n",
    "- Calculate the mean and standard deviation of your simulated results. \n",
    "- Plot theoretical and simulated results as a bar graph and histogram respectively.\n",
    "- Add a title, x-label, y-label, and legend\n",
    "- To get As, students need to have a grade > 90. Now how many students in your simulation get As? Is it reasonable?"
   ]
  }
 ],
 "metadata": {
  "kernelspec": {
   "display_name": "Python 3",
   "language": "python",
   "name": "python3"
  },
  "language_info": {
   "codemirror_mode": {
    "name": "ipython",
    "version": 3
   },
   "file_extension": ".py",
   "mimetype": "text/x-python",
   "name": "python",
   "nbconvert_exporter": "python",
   "pygments_lexer": "ipython3",
   "version": "3.7.4"
  }
 },
 "nbformat": 4,
 "nbformat_minor": 2
}
