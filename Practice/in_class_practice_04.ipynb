{
 "cells": [
  {
   "cell_type": "markdown",
   "metadata": {},
   "source": [
    "## In-class practice for Lecture 4 \n",
    "\n",
    "* Answer each question using Python codes in a separate cell\n",
    "* Remane your notebook with your name and the lecture number"
   ]
  },
  {
   "cell_type": "markdown",
   "metadata": {},
   "source": [
    "### 1. Create a function with doc string  \n",
    "\n",
    "* Create a function hello( ). Include a doc string that explains what the function does  \n",
    "* In the function body, print \"Hello from the other side...\"\n",
    "* print out the doc string with the help() function"
   ]
  },
  {
   "cell_type": "markdown",
   "metadata": {},
   "source": [
    "### 2a. Practise more on functions I\n",
    "\n",
    "* create a function called SphereVolume( ) . The function should take a radius as an argument and return the volume of a sphere with that radius ($V=\\frac{4}{3}\\pi r^3$). Include a doc string explaining what the function does  \n",
    "* call the function and print out the result\n",
    "* Create a function called add_up( ) that takes a variable number of input arguments and returns their sum. (HINT: you can use the **for** loops to step through all the elements in your input) \n",
    "* Call the function with different numbers of arguments and print the sum. "
   ]
  },
  {
   "cell_type": "markdown",
   "metadata": {},
   "source": [
    "### 2b. Practise more on functions II (Optional)\n",
    "\n",
    "* creat a function called list_reverse(), which takes a list [1,2,3,4] as input and print out the elements in that list in a reversed order (expected output: [4,3,2,1])\n",
    "* run your code use a main() function"
   ]
  },
  {
   "cell_type": "markdown",
   "metadata": {},
   "source": [
    "### 3. Create you own module\n",
    "\n",
    "* Create a module myModule.py in a separate text file using Jupyter\n",
    "* Add the functions add_up(*args) and SphereVolume(r) to the module myModule.py but rename them **add** and **area**, respectively\n",
    "* Save txt file using the name **myModule.py** (which means it's a Python script)\n",
    "* import the myModule.py module into your jupyter notebook and call each function in the module in a main program (print out the results)\n",
    "* run the main program"
   ]
  },
  {
   "cell_type": "markdown",
   "metadata": {},
   "source": [
    "### 4. The math module\n",
    "\n",
    "* import the **math** module\n",
    "* print out the value of $\\pi$\n",
    "* print out the square root of $\\pi$ (HINT: use the .sqrt( ) function)\n",
    "* print out the value of $e^{\\pi}$ (HINT: use the .exp( ) function) \n",
    "* print out the value of $\\sin\\frac{\\pi}{8}$, $\\cos\\frac{\\pi}{8}$, $\\tan\\frac{\\pi}{8}$\n",
    "* print out the value of $\\Gamma(\\frac{\\pi}{8})$. (HINT: $\\Gamma( )$ is known as the \"Gamma\" function, which is a special function called \"confluent hypergeometric function\". It's very mathematical but the point here is that you just need to know what function you should use in the **math** module - it's the .gamma( ) function, that's all. Other than that, it's mathematician's job)  \n",
    "\n",
    "Go to the documentation page of the math module in case you need more information: https://docs.python.org/3/library/math.html#module-math"
   ]
  }
 ],
 "metadata": {
  "kernelspec": {
   "display_name": "Python 3",
   "language": "python",
   "name": "python3"
  },
  "language_info": {
   "codemirror_mode": {
    "name": "ipython",
    "version": 3
   },
   "file_extension": ".py",
   "mimetype": "text/x-python",
   "name": "python",
   "nbconvert_exporter": "python",
   "pygments_lexer": "ipython3",
   "version": "3.7.4"
  }
 },
 "nbformat": 4,
 "nbformat_minor": 2
}
