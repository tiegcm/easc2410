{
 "cells": [
  {
   "cell_type": "markdown",
   "metadata": {},
   "source": [
    "## In-class practice for Lecture 8\n",
    "\n",
    "\n",
    "* Here's the complete basemap documentation: https://matplotlib.org/basemap/\n",
    "* Answer each question using Python codes in a separate cell"
   ]
  },
  {
   "cell_type": "markdown",
   "metadata": {},
   "source": [
    "### 1. Install basemap in your Anaconda  \n",
    "\n",
    "- first open your Anaconda Navigator\n",
    "- then click the tab on the left named **environment**, here you can see what modules are installed in your Python environment\n",
    "- Select the \"Not installed\" option from the first drop-down manu\n",
    "- find the module called \"basemap\", select it and click the **apply** button in the bottom right corner\n",
    "- a window will pop out and just proceed, now Anacoda is installing the basemap module for you automatically"
   ]
  },
  {
   "cell_type": "markdown",
   "metadata": {},
   "source": [
    "### 2. Load all the modules needed to make maps  \n",
    "\n",
    "* import the numpy module\n",
    "* import the matplotlib.pyplot module\n",
    "* import the os module\n",
    "* import the basemap module"
   ]
  },
  {
   "cell_type": "markdown",
   "metadata": {},
   "source": [
    "### 3. Mercator projections\n",
    "- Make a mercator projection with latitude bounds of $\\pm$ 80.\n",
    "- Color the oceans \"aqua\" and the continents \"coral\"\n",
    "- Draw on parallels and meridians at 15$^{\\circ}$ intervals\n",
    "- Place a pentagon where you were born and set the markersize to 15."
   ]
  },
  {
   "cell_type": "markdown",
   "metadata": {},
   "source": [
    "\n",
    "### 4. Orthographic maps\n",
    "- Make an orthographic map to hightlight the United States by setting lon_0 and lat_0 to -100 and 80 respectively\n",
    "- draw the contries in red\n",
    "- Color the continents black\n",
    "- Plot a large magenta square at the North Pole (90, 170)\n",
    "- change the view so you're looking down the globe right above the geographic north pole"
   ]
  },
  {
   "cell_type": "markdown",
   "metadata": {},
   "source": [
    "### 5. Lambert Conformal Conic maps + Hurricane Maria Track\n",
    "- Make a Lambert conformal conic projection with the boundaries 0-50$^{\\circ}$N and 15-130$^{\\circ}$W.\n",
    "- Add the continents to your map - what region of the globe you've got?\n",
    "- Add reasonable latitude and longitude grid lines and label them.\n",
    "- Load the data file maria_data.txt from last lecture and plot the track of the hurricane Maria on the local map \n",
    "\n",
    "recall how to load the hurricane data into Python:\n",
    "\n",
    "* Load the data file into Python using: maria = np.genfromtxt('maria_data.txt', delimiter=',')\n",
    "* The column data goes as \"date\", \"Time\", \"Latitude\", \"Longitude\", \"Wind Speed\", \"Pressure\"\n",
    "* use index slicing (columns) to get latitude and longitude"
   ]
  }
 ],
 "metadata": {
  "kernelspec": {
   "display_name": "Python 3",
   "language": "python",
   "name": "python3"
  },
  "language_info": {
   "codemirror_mode": {
    "name": "ipython",
    "version": 3
   },
   "file_extension": ".py",
   "mimetype": "text/x-python",
   "name": "python",
   "nbconvert_exporter": "python",
   "pygments_lexer": "ipython3",
   "version": "3.7.4"
  }
 },
 "nbformat": 4,
 "nbformat_minor": 2
}
