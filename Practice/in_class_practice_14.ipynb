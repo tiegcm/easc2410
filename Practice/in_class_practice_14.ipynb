{
 "cells": [
  {
   "cell_type": "markdown",
   "metadata": {},
   "source": [
    "## In-class practice for Lecture 14\n",
    "\n",
    "* Statistics basics: Distributions of data sets using histograms\n",
    "* New Python tricks: seaborn and scipy.stats\n",
    "* Answer each question using Python codes in a separate cell\n",
    "\n",
    "### 1.  Histograms for distributions\n",
    "\n",
    "Download the datafile named \"gradedata.xlsx\" from Moodle\n",
    "\n",
    "- load the excel file as a Pandas data frame, take a look at the data frame (know exactly what column data you have!)\n",
    "- use the describe() function to get the mean and standard deviation of the grade data. What's the median value?\n",
    "- Can you use the describe() function to find out the grade that is 80% of the maximum? (figure it out yourself)\n",
    "- use **matplotlib** to generate a histogram of all the grades\n",
    "- separate the histogram of the grades into two, filtering by: \"male\" and \"female\", plot the two histograms in the same plot \n",
    "- are there any gender differences evident in the grade data?\n",
    "- Test the whether grade distributions are Normal or not using the **normaltest()** function from **scipy.stats**\n",
    "- now, cut the dataset into four subgroups by hours of work (0-25%, 25-50%, 50-75%, 75-100%), and make four histograms to show your results. Is it better to squeeze all the groups in one plot or separate them? "
   ]
  },
  {
   "cell_type": "markdown",
   "metadata": {},
   "source": [
    "### 2.  Histograms using the seaborn module\n",
    "\n",
    "Download the datafile named \"gdp_data.txt\" from Moodle\n",
    "\n",
    "- load the txt file as a Pandas data frame, take a look at the data frame (know exactly what column data you have!)\n",
    "- make histograms to show the distribution of life expectancy for each continent at year 2007, using the **seaborn** module, show the kernel density estimation (ked=True). \n",
    "- Choose either showing them on the same plot, or separately. Make sure adjusting the axis and labels appropiately.\n",
    "- identify the mode for each continent\n",
    "\n",
    "as a good practice, using for loops to step through each continents"
   ]
  },
  {
   "cell_type": "markdown",
   "metadata": {},
   "source": [
    "### 3. Boxplots [optional]\n",
    "\n",
    "- Download the data set \"weekdata_000.xlsx\" from Moodle\n",
    "- take a look at the data frame using the .head() function\n",
    "- use either the set() function or the .unique() function to count the number of \"ReasonForCall\", \"AnsweringAgent\" and \"DaysOfWeek\"\n",
    "- Generate a box plot using the .boxplot() function of the **seaborn** module, with the horizontal axis showing \"DayOfWeek\" and the vertical axis showing \"CallDuration\"\n",
    "- Now filter the data frame by the \"AnsweringAgent\" column using the **isin** keyword as follows: \n",
    "\n",
    "    - new_df = df[df['AnsweringAgent'].isin(['Cameron','Nicki','David','Kyle'])]   \n",
    "    \n",
    "- use the new_df data frame (which has only four names of the agents), to generate another boxplot showing the comparison of \"CallDuration\" among the above four agents.\n"
   ]
  }
 ],
 "metadata": {
  "kernelspec": {
   "display_name": "Python 3",
   "language": "python",
   "name": "python3"
  },
  "language_info": {
   "codemirror_mode": {
    "name": "ipython",
    "version": 3
   },
   "file_extension": ".py",
   "mimetype": "text/x-python",
   "name": "python",
   "nbconvert_exporter": "python",
   "pygments_lexer": "ipython3",
   "version": "3.7.4"
  }
 },
 "nbformat": 4,
 "nbformat_minor": 2
}
